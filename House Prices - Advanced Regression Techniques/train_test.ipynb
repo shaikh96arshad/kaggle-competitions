{
 "cells": [
  {
   "cell_type": "code",
   "execution_count": 1,
   "metadata": {},
   "outputs": [],
   "source": [
    "import xgboost as xgb\n",
    "import pandas as pd\n",
    "import numpy as np\n",
    "from matplotlib import pyplot as plt\n",
    "import seaborn as sns\n",
    "#import category_encoders as ce\n",
    "from sklearn.metrics import mean_squared_error\n",
    "import warnings\n",
    "warnings.filterwarnings('ignore')"
   ]
  },
  {
   "cell_type": "code",
   "execution_count": 2,
   "metadata": {},
   "outputs": [],
   "source": [
    "#pip install --upgrade numpy"
   ]
  },
  {
   "cell_type": "code",
   "execution_count": 2,
   "metadata": {},
   "outputs": [],
   "source": [
    "from sklearn.feature_selection import mutual_info_regression\n",
    "import matplotlib.pyplot as plt\n",
    "from sklearn.feature_selection import SelectKBest\n",
    "from sklearn.model_selection import train_test_split\n",
    "from sklearn.model_selection import RandomizedSearchCV"
   ]
  },
  {
   "cell_type": "code",
   "execution_count": 33,
   "metadata": {},
   "outputs": [],
   "source": [
    "def train_xgb_model(parameters):\n",
    "    model = xgb.XGBRegressor(n_estimators = parameters['n_estimator'],objective = parameters['objective'], colsample_bytree = parameters['colsample_bytree'], learning_rate = parameters['learning_rate'],\n",
    "                max_depth = parameters['max_depth'], alpha = parameters['alpha'])\n",
    "    return model\n",
    "def fit_model(model,X_train,y_train):\n",
    "    model.fit(X_train,y_train)\n",
    "    \n",
    "def predict_results(model,X):\n",
    "    predicted_values = model.predict(X)\n",
    "    return predicted_values\n",
    "    \n",
    "def calculate_rmse(model,y_actual,y_predicted):\n",
    "    rmse = np.sqrt(mean_squared_error(y_actual,y_predicted))\n",
    "    return rmse\n",
    "    \n",
    "def retune_model(model,hyperparameter_grid,X_train,y_train):\n",
    "        \n",
    "        grid_search_cv = RandomizedSearchCV(\n",
    "        estimator=model,\n",
    "        param_distributions=hyperparameter_grid,\n",
    "        cv=10,n_iter=100,\n",
    "        scoring = 'neg_mean_absolute_error',\n",
    "        n_jobs=4,\n",
    "        verbose=5,\n",
    "        return_train_score=True,\n",
    "        random_state=42\n",
    "        )\n",
    "        grid_search_cv.fit(X_train,y_train)\n",
    "        return grid_search_cv\n",
    "    "
   ]
  },
  {
   "cell_type": "code",
   "execution_count": 4,
   "metadata": {},
   "outputs": [],
   "source": [
    "def pre_process(train_df):\n",
    "    train_df['LotFrontage'] = train_df['LotFrontage'].fillna(0)\n",
    "    train_df['Alley'].fillna(0,inplace=True)\n",
    "    train_df['MasVnrType'].fillna('None',inplace=True)\n",
    "    train_df['MasVnrArea'].fillna(0,inplace=True)\n",
    "    \n",
    "    train_df['BsmtQual'].fillna('NA',inplace=True)\n",
    "    train_df['BsmtCond'].fillna('NA',inplace=True)\n",
    "    train_df['BsmtExposure'].fillna('NA',inplace=True)\n",
    "    train_df['BsmtFinType1'].fillna('NA',inplace=True)\n",
    "    train_df['BsmtFinType2'].fillna('NA',inplace=True)\n",
    "    basement_cols = ['BsmtQual','BsmtCond', 'BsmtExposure' , 'BsmtFinType1' , 'BsmtFinType2']\n",
    "    train_df[basement_cols].any().fillna('NA',inplace=True)\n",
    "    train_df['Electrical'].fillna('SBrkr',inplace=True)\n",
    "    train_df['FireplaceQu'].fillna('NA',inplace=True)\n",
    "    \n",
    "    garage_columns = ['GarageType','GarageYrBlt','GarageFinish','GarageQual','GarageCond' ]\n",
    "    \n",
    "    train_df['GarageType'].fillna('NA',inplace=True)\n",
    "    train_df['GarageYrBlt'].fillna('NA',inplace=True)\n",
    "    train_df['GarageFinish'].fillna('NA',inplace=True)\n",
    "    train_df['GarageQual'].fillna('NA',inplace=True)\n",
    "    train_df['GarageCond'].fillna('NA',inplace=True)\n",
    "    train_df[garage_columns].fillna('NA',inplace=True)\n",
    "    \n",
    "    train_df['PoolQC'].fillna('NA', inplace=True)\n",
    "    train_df['Fence'].fillna('NA', inplace=True)\n",
    "    train_df['MiscFeature'].fillna('NA',inplace=True)\n",
    "    \n",
    "    \n",
    "    #Encoding related to Basement Feature categories\n",
    "    BsmtQual_enc = {'Ex':7,'Gd':5,'TA':4,'Fa':3,'Po':2,'NA':1}\n",
    "    BsmtCond_enc = {'Ex':7,'Gd':5,'TA':4,'Fa':3,'Po':2,'NA':1}\n",
    "    BsmtExposure_enc = {'Gd':6,'Av':4,'Mn':3,'No':2,'NA':1}\n",
    "    BsmtFinType1_enc = {'GLQ':7,'ALQ':6,'BLQ':5,'Rec':4,'LwQ':3,'Unf':2,'NA':1}\n",
    "    BsmtFinType2_enc = {'GLQ':7,'ALQ':6,'BLQ':5,'Rec':4,'LwQ':3,'Unf':2,'NA':1}\n",
    "\n",
    "    \n",
    "        #HeatingConditions Encoding\n",
    "    HeatingQC_enc = {'Ex':10,'Gd':4,'TA':3,'Fa':3,'Po':1}\n",
    "    Heating_enc = {'Floor':6,'GasA':5,'GasW':4,'Grav':3,'OthW':2,'Wall':1}\n",
    "    CentralAir_enc = {'Y':2,'N':1}\n",
    "\n",
    "    #Encoding For Kitchen Quality\n",
    "    KitchenQual_enc = {'Ex':10,'Gd':4,'TA':3,'Fa':2,'Po':1}\n",
    "    \n",
    "    Functional_enc = {'Typ':8,'Min1':7,'Min2':6,'Mod':5,'Maj1':4,'Maj2':3,'Sev':1,'Sal':2}\n",
    "    \n",
    "    #FireplaceEncoding\n",
    "    FireplaceQu_enc = {'Ex':10,'Gd':5,'TA':4,'Fa':3,'Po':2,'NA':1}\n",
    "    \n",
    "    #Garage Encoding\n",
    "    GarageType_enc = {'2Types':10,'Attchd':6,'Basment':5,'BuiltIn':4,'CarPort':3,'Detchd':2,'NA':1}\n",
    "    GarageFinish_enc = {'Fin':10,'RFn':5,'Unf':2,'NA':1}\n",
    "    GarageQual_enc = {'Ex':10,'Gd':6,'TA':5,'Fa':4,'Po':3,'NA':1}\n",
    "    GarageCond_enc = {'Ex':10,'Gd':5,'TA':4,'Fa':3,'Po':2,'NA':1}\n",
    "    \n",
    "    \n",
    "        #Pool Encoding\n",
    "    PoolQC_enc = {'Ex':10,'Gd':5,'TA':3,'Fa':2,'NA':1}\n",
    "    #External_condition\n",
    "    ExterQual_enc = {'Ex':10,'Gd':5,'TA':3,'Fa':2,'Po':1}\n",
    "    ExterCond_enc = {'Ex':10,'Gd':5,'TA':3,'Fa':2,'Po':1}\n",
    "    \n",
    "    Street_enc = {'Grvl':1,'Pave':2}\n",
    "    Alley_enc = {'Grvl':2,'Pave':4,'NA':1}\n",
    "    LotShape_enc = {'Reg':6,'IR1':3, 'IR2':2,'IR3':1}\n",
    "    LandContour_enc = {'Lvl':6 ,'Bnk':3,'HLS':2,'Low':1}\n",
    "    Utilities_enc = {'AllPub':6,'NoSewr':3,'NoSeWa':2,'ELO':1}\n",
    "\n",
    "    LandSlope_enc = {'Gtl':4,'Mod':2,'Sev':1}\n",
    "    PavedDrive_enc = {'Y':4,'P':2,'N':1}\n",
    "    \n",
    "    #Copy dataset to a new variable and then encode it\n",
    "    train_df_encoded = train_df.copy()\n",
    "    \n",
    "    #Basement Features encoding\n",
    "    train_df_encoded['BsmtQual'] = train_df_encoded['BsmtQual'].map(BsmtQual_enc)\n",
    "    train_df_encoded['BsmtCond'] = train_df_encoded['BsmtCond'].map(BsmtCond_enc)\n",
    "    train_df_encoded['BsmtExposure'] = train_df_encoded['BsmtExposure'].map(BsmtExposure_enc)\n",
    "    train_df_encoded['BsmtFinType1'] = train_df_encoded['BsmtFinType1'].map(BsmtFinType1_enc)\n",
    "    train_df_encoded['BsmtFinType2'] = train_df_encoded['BsmtFinType2'].map(BsmtFinType2_enc)\n",
    "\n",
    "    #HeatingConditions Encoding\n",
    "    train_df_encoded['HeatingQC'] = train_df_encoded['HeatingQC'].map(HeatingQC_enc)\n",
    "    train_df_encoded['Heating'] = train_df_encoded['Heating'].map(Heating_enc)\n",
    "    \n",
    "    \n",
    "    train_df_encoded['CentralAir'] = train_df_encoded['CentralAir'].map(CentralAir_enc)\n",
    "    train_df_encoded['KitchenQual'] = train_df_encoded['KitchenQual'].map(KitchenQual_enc)\n",
    "    train_df_encoded['Functional'] = train_df_encoded['Functional'].map(Functional_enc)\n",
    "\n",
    "\n",
    "    train_df_encoded['FireplaceQu'] = train_df_encoded['FireplaceQu'].map(FireplaceQu_enc)\n",
    "\n",
    "    #Garage features encoding\n",
    "    train_df_encoded['GarageType'] = train_df_encoded['GarageType'].map(GarageType_enc)\n",
    "    train_df_encoded['GarageFinish'] = train_df_encoded['GarageFinish'].map(GarageFinish_enc)\n",
    "    train_df_encoded['GarageQual'] = train_df_encoded['GarageQual'].map(GarageQual_enc)\n",
    "    train_df_encoded['GarageCond'] = train_df_encoded['GarageCond'].map(GarageCond_enc)\n",
    "\n",
    "    train_df_encoded['PoolQC'] = train_df_encoded['PoolQC'].map(PoolQC_enc)\n",
    "    train_df_encoded['ExterQual'] = train_df_encoded['ExterQual'].map(ExterQual_enc)\n",
    "    train_df_encoded['ExterCond'] = train_df_encoded['ExterCond'].map(ExterCond_enc)\n",
    "    \n",
    "    train_df_encoded['Street'] = train_df_encoded['Street'].map(Street_enc)\n",
    "    train_df_encoded['Alley'] = train_df_encoded['Alley'].map(Alley_enc)\n",
    "    train_df_encoded['LotShape'] = train_df_encoded['LotShape'].map(LotShape_enc)\n",
    "    train_df_encoded['LandContour'] = train_df_encoded['LandContour'].map(LandContour_enc)\n",
    "    train_df_encoded['Utilities'] = train_df_encoded['Utilities'].map(Utilities_enc)\n",
    "    \n",
    "    train_df_encoded['LandSlope'] = train_df_encoded['LandSlope'].map(LandSlope_enc)\n",
    "    train_df_encoded['PavedDrive'] = train_df_encoded['PavedDrive'].map(PavedDrive_enc)\n",
    "    \n",
    "    train_df_encoded.replace('NA','N',inplace=True)\n",
    "    \n",
    "    object_cols = train_df_encoded.select_dtypes('object')\n",
    "    train_df_encoded.replace('NA','N',inplace=True)\n",
    "    categorial_columns = train_df_encoded.select_dtypes('object').columns\n",
    "    \n",
    "    from sklearn.preprocessing import OrdinalEncoder\n",
    "    enc = OrdinalEncoder()\n",
    "    train_df_encoded[categorial_columns] = enc.fit_transform(train_df_encoded[categorial_columns].astype('str'))\n",
    "    return train_df_encoded\n",
    "    \n",
    "    \n"
   ]
  },
  {
   "cell_type": "code",
   "execution_count": 5,
   "metadata": {},
   "outputs": [],
   "source": [
    "train_df = pd.read_csv('data/train.csv')"
   ]
  },
  {
   "cell_type": "code",
   "execution_count": 6,
   "metadata": {},
   "outputs": [],
   "source": [
    "train_df_encoded = pre_process(train_df)"
   ]
  },
  {
   "cell_type": "code",
   "execution_count": 7,
   "metadata": {},
   "outputs": [
    {
     "data": {
      "text/plain": [
       "Index(['Alley'], dtype='object')"
      ]
     },
     "execution_count": 7,
     "metadata": {},
     "output_type": "execute_result"
    }
   ],
   "source": [
    "s = (train_df_encoded.isnull().sum() > 0)\n",
    "null_columns = s[s].index\n",
    "null_columns\n"
   ]
  },
  {
   "cell_type": "code",
   "execution_count": 9,
   "metadata": {},
   "outputs": [
    {
     "data": {
      "text/plain": [
       "1.0    1369\n",
       "2.0      50\n",
       "4.0      41\n",
       "Name: Alley, dtype: int64"
      ]
     },
     "execution_count": 9,
     "metadata": {},
     "output_type": "execute_result"
    }
   ],
   "source": [
    "train_df_encoded['Alley'].value_counts()"
   ]
  },
  {
   "cell_type": "code",
   "execution_count": 8,
   "metadata": {},
   "outputs": [],
   "source": [
    "train_df_encoded['Alley'].fillna(1,inplace=True)"
   ]
  },
  {
   "cell_type": "code",
   "execution_count": 10,
   "metadata": {},
   "outputs": [],
   "source": [
    "def additional_processing(train_df_encoded):\n",
    "    train_df_encoded['BsmtHalfBath'].replace(2,3,inplace=True)\n",
    "    train_df_encoded['BsmtHalfBath'].replace(1,2,inplace=True)\n",
    "    train_df_encoded['BsmtHalfBath'].replace(0,1,inplace=True)\n",
    "    \n",
    "    train_df_encoded['BsmtFinSF1'].replace(0,1,inplace=True)\n",
    "    train_df_encoded['BsmtFinSF2'].replace(0,1,inplace=True)\n",
    "    train_df_encoded['TotalBsmtSF'].replace(0,1,inplace=True)\n",
    "    train_df_encoded['2ndFlrSF'].replace(0,1,inplace=True)\n",
    "    \n",
    "    train_df_encoded['OverallQual'] = train_df_encoded['OverallQual'] * 10\n",
    "    train_df_encoded['OverallCond'] = train_df_encoded['OverallCond'] * 10\n",
    "    \n",
    "    #Group all relevant columns together\n",
    "    train_df_encoded['Bsmt'] = train_df_encoded['BsmtQual'] * train_df_encoded['BsmtCond'] * train_df_encoded['BsmtExposure'] * train_df_encoded['BsmtFinType1'] * train_df_encoded['TotalBsmtSF']  * train_df_encoded['BsmtFinType2']\n",
    "    train_df_encoded['Heat'] = train_df_encoded['HeatingQC'] * train_df_encoded['Heating']\n",
    "    train_df_encoded['Kitchen'] = train_df_encoded['CentralAir'] *train_df_encoded['KitchenQual'] * train_df_encoded['Functional']\n",
    "    train_df_encoded['Lot'] = train_df_encoded['LotFrontage'] * train_df_encoded['LotArea'] * train_df_encoded['Street'] * train_df_encoded['Alley'] * train_df_encoded['LotShape'] * train_df_encoded['LandContour'] * train_df_encoded['LandSlope']\n",
    "    train_df_encoded['ExtScore'] = train_df_encoded['ExterQual'] * train_df_encoded['ExterCond']\n",
    "    train_df_encoded['FireScore'] = train_df_encoded['Fireplaces'] * train_df_encoded['FireplaceQu']\n",
    "    train_df_encoded['Garage'] = train_df_encoded['GarageType'] *train_df_encoded['GarageFinish'] * train_df_encoded['GarageArea'] * train_df_encoded['GarageQual'] * train_df_encoded['GarageCond'] * train_df_encoded['PavedDrive']\n",
    "    \n",
    "    columns_to_drop = ['LotFrontage','LotArea','Street','Alley' ,'LotShape','LandContour','LandSlope','ExterQual','ExterCond','BsmtQual','BsmtCond','BsmtExposure','BsmtFinType1','BsmtFinSF1','BsmtFinType2','BsmtFinSF2','TotalBsmtSF','Heating','HeatingQC','CentralAir','Fireplaces','FireplaceQu','GarageType','GarageFinish','GarageArea','GarageQual','GarageCond','PavedDrive',]\n",
    "    \n",
    "    train_df_encoded.drop(columns=columns_to_drop,axis=1,inplace=True)\n",
    "    \n",
    "    data_encoded = train_df_encoded\n",
    "    \n",
    "    \n",
    "    \n",
    "    return data_encoded"
   ]
  },
  {
   "cell_type": "code",
   "execution_count": 11,
   "metadata": {},
   "outputs": [],
   "source": [
    "train_df_encoded = additional_processing(train_df_encoded)"
   ]
  },
  {
   "cell_type": "code",
   "execution_count": 10,
   "metadata": {},
   "outputs": [],
   "source": [
    "X = train_df_encoded.drop(labels='SalePrice',axis=1)"
   ]
  },
  {
   "cell_type": "code",
   "execution_count": 11,
   "metadata": {},
   "outputs": [
    {
     "data": {
      "text/plain": [
       "array([0.00000000e+00, 2.72413002e-01, 1.19961648e-01, 2.15780465e-01,\n",
       "       1.57084281e-01, 4.98882157e-03, 1.89212671e-02, 8.39683876e-02,\n",
       "       2.99587050e-02, 1.95349548e-02, 1.93024350e-02, 0.00000000e+00,\n",
       "       5.06075479e-01, 1.15106110e-02, 1.15314993e-02, 3.75975505e-02,\n",
       "       8.04291661e-02, 5.61296319e-01, 1.16611916e-01, 3.66302834e-01,\n",
       "       2.53018213e-01, 7.79856685e-03, 1.33870693e-02, 1.37999230e-01,\n",
       "       1.60711208e-01, 9.36198193e-02, 7.88151186e-02, 3.26667539e-01,\n",
       "       2.05547397e-02, 1.96500491e-01, 3.44020185e-01, 4.44463997e-02,\n",
       "       9.13212261e-02, 1.48423122e-01, 1.45995485e-01, 2.49361692e-02,\n",
       "       1.64009477e-03, 1.20173909e-01, 3.69648992e-01, 5.40433883e-03,\n",
       "       1.51850086e-01, 4.57526395e-02, 5.29140600e-02, 3.11930596e-01,\n",
       "       1.93702155e-01, 5.13882747e-03, 4.83056930e-01, 1.83330821e-02,\n",
       "       1.00488736e-02, 2.50207533e-01, 8.46211073e-02, 7.13776881e-02,\n",
       "       2.00258157e-02, 3.31389969e-01, 2.22447646e-01, 3.34027144e-03,\n",
       "       1.58869274e-01, 2.12010347e-01, 2.15858061e-01, 3.03235818e-01,\n",
       "       2.70414993e-01, 3.64182715e-01, 3.65643972e-01, 6.95526782e-02,\n",
       "       6.71232819e-02, 4.10620773e-02, 1.12648350e-01, 1.49647105e-01,\n",
       "       1.91940362e-02, 3.95953954e-04, 2.38186037e-02, 2.36837684e-03,\n",
       "       0.00000000e+00, 4.33072042e-02, 0.00000000e+00, 1.18305183e-02,\n",
       "       0.00000000e+00, 0.00000000e+00, 6.05283889e-02, 8.75278895e-02])"
      ]
     },
     "execution_count": 11,
     "metadata": {},
     "output_type": "execute_result"
    }
   ],
   "source": [
    "mi = mutual_info_regression(train_df_encoded.drop(labels='SalePrice',axis=1),train_df_encoded['SalePrice'])\n",
    "mi"
   ]
  },
  {
   "cell_type": "code",
   "execution_count": 12,
   "metadata": {},
   "outputs": [
    {
     "data": {
      "text/plain": [
       "OverallQual     0.561296\n",
       "Neighborhood    0.506075\n",
       "GrLivArea       0.483057\n",
       "TotalBsmtSF     0.369649\n",
       "YearBuilt       0.366303\n",
       "                  ...   \n",
       "YrSold          0.000000\n",
       "LandSlope       0.000000\n",
       "MiscFeature     0.000000\n",
       "PoolQC          0.000000\n",
       "Id              0.000000\n",
       "Length: 80, dtype: float64"
      ]
     },
     "execution_count": 12,
     "metadata": {},
     "output_type": "execute_result"
    }
   ],
   "source": [
    "mi = pd.Series(mi)\n",
    "mi.index  = X.columns\n",
    "mi.sort_values(ascending=False)"
   ]
  },
  {
   "cell_type": "code",
   "execution_count": 13,
   "metadata": {},
   "outputs": [
    {
     "data": {
      "text/plain": [
       "80"
      ]
     },
     "execution_count": 13,
     "metadata": {},
     "output_type": "execute_result"
    }
   ],
   "source": [
    "len(mi)"
   ]
  },
  {
   "cell_type": "code",
   "execution_count": 14,
   "metadata": {},
   "outputs": [
    {
     "data": {
      "text/plain": [
       "<matplotlib.axes._subplots.AxesSubplot at 0x7fca9dd71c50>"
      ]
     },
     "execution_count": 14,
     "metadata": {},
     "output_type": "execute_result"
    },
    {
     "data": {
      "image/png": "[encoded data removed]",
      "text/plain": [
       "<Figure size 1296x720 with 1 Axes>"
      ]
     },
     "metadata": {
      "needs_background": "light"
     },
     "output_type": "display_data"
    }
   ],
   "source": [
    "mi.sort_values(ascending=False).plot.bar(figsize=(18,10))"
   ]
  },
  {
   "cell_type": "code",
   "execution_count": 15,
   "metadata": {},
   "outputs": [
    {
     "name": "stdout",
     "output_type": "stream",
     "text": [
      "OverallQual     0.561296\n",
      "Neighborhood    0.506075\n",
      "GrLivArea       0.483057\n",
      "TotalBsmtSF     0.369649\n",
      "YearBuilt       0.366303\n",
      "GarageArea      0.365644\n",
      "GarageCars      0.364183\n",
      "BsmtQual        0.344020\n",
      "KitchenQual     0.331390\n",
      "ExterQual       0.326668\n",
      "1stFlrSF        0.311931\n",
      "GarageYrBlt     0.303236\n",
      "MSSubClass      0.272413\n",
      "GarageFinish    0.270415\n",
      "YearRemodAdd    0.253018\n",
      "FullBath        0.250208\n",
      "TotRmsAbvGrd    0.222448\n",
      "GarageType      0.215858\n",
      "LotFrontage     0.215780\n",
      "FireplaceQu     0.212010\n",
      "Foundation      0.196500\n",
      "2ndFlrSF        0.193702\n",
      "Exterior2nd     0.160711\n",
      "Fireplaces      0.158869\n",
      "LotArea         0.157084\n",
      "HeatingQC       0.151850\n",
      "OpenPorchSF     0.149647\n",
      "BsmtFinType1    0.148423\n",
      "BsmtFinSF1      0.145995\n",
      "Exterior1st     0.137999\n",
      "BsmtUnfSF       0.120174\n",
      "MSZoning        0.119962\n",
      "OverallCond     0.116612\n",
      "WoodDeckSF      0.112648\n",
      "dtype: float64\n",
      "Index(['YearRemodAdd', 'YearBuilt', 'WoodDeckSF', 'TotalBsmtSF',\n",
      "       'TotRmsAbvGrd', 'OverallQual', 'OverallCond', 'OpenPorchSF',\n",
      "       'Neighborhood', 'MSZoning', 'MSSubClass', 'LotFrontage', 'LotArea',\n",
      "       'KitchenQual', 'HeatingQC', 'GrLivArea', 'GarageYrBlt', 'GarageType',\n",
      "       'GarageFinish', 'GarageCars', 'GarageArea', 'FullBath', 'Foundation',\n",
      "       'Fireplaces', 'FireplaceQu', 'Exterior2nd', 'Exterior1st', 'ExterQual',\n",
      "       'BsmtUnfSF', 'BsmtQual', 'BsmtFinType1', 'BsmtFinSF1', '2ndFlrSF',\n",
      "       '1stFlrSF'],\n",
      "      dtype='object')\n",
      "34\n"
     ]
    }
   ],
   "source": [
    "top_mi_score = (mi.values > 0.1)\n",
    "print(mi[top_mi_score].sort_values(ascending=False))\n",
    "top_cols = mi[top_mi_score].index\n",
    "print(top_cols.sort_values(ascending=False))\n",
    "print(len(top_cols))"
   ]
  },
  {
   "cell_type": "code",
   "execution_count": 16,
   "metadata": {},
   "outputs": [
    {
     "name": "stdout",
     "output_type": "stream",
     "text": [
      "(1460, 34)\n"
     ]
    },
    {
     "data": {
      "text/html": [
       "<div>\n",
       "<style scoped>\n",
       "    .dataframe tbody tr th:only-of-type {\n",
       "        vertical-align: middle;\n",
       "    }\n",
       "\n",
       "    .dataframe tbody tr th {\n",
       "        vertical-align: top;\n",
       "    }\n",
       "\n",
       "    .dataframe thead th {\n",
       "        text-align: right;\n",
       "    }\n",
       "</style>\n",
       "<table border=\"1\" class=\"dataframe\">\n",
       "  <thead>\n",
       "    <tr style=\"text-align: right;\">\n",
       "      <th></th>\n",
       "      <th>MSSubClass</th>\n",
       "      <th>MSZoning</th>\n",
       "      <th>LotFrontage</th>\n",
       "      <th>LotArea</th>\n",
       "      <th>Neighborhood</th>\n",
       "      <th>OverallQual</th>\n",
       "      <th>OverallCond</th>\n",
       "      <th>YearBuilt</th>\n",
       "      <th>YearRemodAdd</th>\n",
       "      <th>Exterior1st</th>\n",
       "      <th>...</th>\n",
       "      <th>TotRmsAbvGrd</th>\n",
       "      <th>Fireplaces</th>\n",
       "      <th>FireplaceQu</th>\n",
       "      <th>GarageType</th>\n",
       "      <th>GarageYrBlt</th>\n",
       "      <th>GarageFinish</th>\n",
       "      <th>GarageCars</th>\n",
       "      <th>GarageArea</th>\n",
       "      <th>WoodDeckSF</th>\n",
       "      <th>OpenPorchSF</th>\n",
       "    </tr>\n",
       "  </thead>\n",
       "  <tbody>\n",
       "    <tr>\n",
       "      <th>0</th>\n",
       "      <td>60</td>\n",
       "      <td>3.0</td>\n",
       "      <td>65.0</td>\n",
       "      <td>8450</td>\n",
       "      <td>5.0</td>\n",
       "      <td>7</td>\n",
       "      <td>5</td>\n",
       "      <td>2003</td>\n",
       "      <td>2003</td>\n",
       "      <td>12.0</td>\n",
       "      <td>...</td>\n",
       "      <td>8</td>\n",
       "      <td>0</td>\n",
       "      <td>1</td>\n",
       "      <td>6</td>\n",
       "      <td>89.0</td>\n",
       "      <td>5</td>\n",
       "      <td>2</td>\n",
       "      <td>548</td>\n",
       "      <td>0</td>\n",
       "      <td>61</td>\n",
       "    </tr>\n",
       "    <tr>\n",
       "      <th>1</th>\n",
       "      <td>20</td>\n",
       "      <td>3.0</td>\n",
       "      <td>80.0</td>\n",
       "      <td>9600</td>\n",
       "      <td>24.0</td>\n",
       "      <td>6</td>\n",
       "      <td>8</td>\n",
       "      <td>1976</td>\n",
       "      <td>1976</td>\n",
       "      <td>8.0</td>\n",
       "      <td>...</td>\n",
       "      <td>6</td>\n",
       "      <td>1</td>\n",
       "      <td>4</td>\n",
       "      <td>6</td>\n",
       "      <td>62.0</td>\n",
       "      <td>5</td>\n",
       "      <td>2</td>\n",
       "      <td>460</td>\n",
       "      <td>298</td>\n",
       "      <td>0</td>\n",
       "    </tr>\n",
       "    <tr>\n",
       "      <th>2</th>\n",
       "      <td>60</td>\n",
       "      <td>3.0</td>\n",
       "      <td>68.0</td>\n",
       "      <td>11250</td>\n",
       "      <td>5.0</td>\n",
       "      <td>7</td>\n",
       "      <td>5</td>\n",
       "      <td>2001</td>\n",
       "      <td>2002</td>\n",
       "      <td>12.0</td>\n",
       "      <td>...</td>\n",
       "      <td>6</td>\n",
       "      <td>1</td>\n",
       "      <td>4</td>\n",
       "      <td>6</td>\n",
       "      <td>87.0</td>\n",
       "      <td>5</td>\n",
       "      <td>2</td>\n",
       "      <td>608</td>\n",
       "      <td>0</td>\n",
       "      <td>42</td>\n",
       "    </tr>\n",
       "  </tbody>\n",
       "</table>\n",
       "<p>3 rows × 34 columns</p>\n",
       "</div>"
      ],
      "text/plain": [
       "   MSSubClass  MSZoning  LotFrontage  LotArea  Neighborhood  OverallQual  \\\n",
       "0          60       3.0         65.0     8450           5.0            7   \n",
       "1          20       3.0         80.0     9600          24.0            6   \n",
       "2          60       3.0         68.0    11250           5.0            7   \n",
       "\n",
       "   OverallCond  YearBuilt  YearRemodAdd  Exterior1st  ...  TotRmsAbvGrd  \\\n",
       "0            5       2003          2003         12.0  ...             8   \n",
       "1            8       1976          1976          8.0  ...             6   \n",
       "2            5       2001          2002         12.0  ...             6   \n",
       "\n",
       "   Fireplaces  FireplaceQu  GarageType  GarageYrBlt  GarageFinish  GarageCars  \\\n",
       "0           0            1           6         89.0             5           2   \n",
       "1           1            4           6         62.0             5           2   \n",
       "2           1            4           6         87.0             5           2   \n",
       "\n",
       "   GarageArea  WoodDeckSF  OpenPorchSF  \n",
       "0         548           0           61  \n",
       "1         460         298            0  \n",
       "2         608           0           42  \n",
       "\n",
       "[3 rows x 34 columns]"
      ]
     },
     "execution_count": 16,
     "metadata": {},
     "output_type": "execute_result"
    }
   ],
   "source": [
    "final_dataset = train_df_encoded[top_cols]\n",
    "print(final_dataset.shape)\n",
    "final_dataset.head(3)"
   ]
  },
  {
   "cell_type": "code",
   "execution_count": 17,
   "metadata": {},
   "outputs": [],
   "source": [
    "X_train, X_test, y_train, y_test = train_test_split(final_dataset,train_df_encoded['SalePrice'],test_size=0.3,random_state=42)"
   ]
  },
  {
   "cell_type": "code",
   "execution_count": 19,
   "metadata": {},
   "outputs": [
    {
     "name": "stdout",
     "output_type": "stream",
     "text": [
      "79000.37087550136\n"
     ]
    }
   ],
   "source": [
    "\n",
    "parameters = {'objective' :'reg:squarederror', 'colsample_bytree' : 0.3, 'learning_rate' : 0.1,\n",
    "                'max_depth' : 5, 'alpha' : 10, 'n_estimator' : 10}\n",
    "model_1 = train_xgb_model(parameters)\n",
    "fit_model(model_1,X_train,y_train)\n",
    "model_1.fit(X_train,y_train)\n",
    "y_pred = predict_results(model_1,X_test)\n",
    "rmse = calculate_rmse(model_1,y_test,y_pred)\n",
    "print(rmse)"
   ]
  },
  {
   "cell_type": "code",
   "execution_count": 20,
   "metadata": {},
   "outputs": [
    {
     "name": "stdout",
     "output_type": "stream",
     "text": [
      "RMSE: 79000.370876\n"
     ]
    }
   ],
   "source": [
    "model_1.fit(X_train,y_train)\n",
    "y_predicted = model_1.predict(X_test)\n",
    "rmse = np.sqrt(mean_squared_error(y_test, y_predicted))\n",
    "print(\"RMSE: %f\" % (rmse))"
   ]
  },
  {
   "cell_type": "code",
   "execution_count": 29,
   "metadata": {},
   "outputs": [],
   "source": [
    "booster = ['gbtree','gblinear']\n",
    "n_estimator = [50,100,200,1000,5000]\n",
    "max_depth = [2,3,5,10,15,20,50]\n",
    "learning_rate = [0.01,0.05,0.1,0.2,0.3,0.5,0.7]\n",
    "min_child_weight = [1,5,10,15,20]\n",
    "base_score=[0.25,0.5,0.75,1]\n",
    "aplha = [5,10,15,50,100]\n",
    "objective = ['reg:squarederror','reg:squaredlogerror']\n",
    "\n",
    "hyperparameter_grid = {\n",
    "    'n_estimator' : n_estimator,\n",
    "    'objective' : objective,\n",
    "    'max_depth' : max_depth,\n",
    "    'learning_rate' : learning_rate,\n",
    "    'min_child_weight' : min_child_weight,\n",
    "    'booster' : booster,\n",
    "    'alpha' : aplha\n",
    "}\n"
   ]
  },
  {
   "cell_type": "code",
   "execution_count": 56,
   "metadata": {},
   "outputs": [],
   "source": [
    "from sklearn.model_selection import GridSearchCV"
   ]
  },
  {
   "cell_type": "code",
   "execution_count": 30,
   "metadata": {},
   "outputs": [
    {
     "name": "stdout",
     "output_type": "stream",
     "text": [
      "[17:55:50] WARNING: ../src/learner.cc:576: \n",
      "Parameters: { \"n_estimator\" } might not be used.\n",
      "\n",
      "  This could be a false alarm, with some parameters getting used by language bindings but\n",
      "  then being mistakenly passed down to XGBoost core, or some parameter actually being used\n",
      "  but getting flagged wrongly here. Please open an issue if you find any such cases.\n",
      "\n",
      "\n",
      "RMSE: 79000.370876\n"
     ]
    }
   ],
   "source": [
    "model_tuned = xgb.XGBRegressor(objective ='reg:squarederror', colsample_bytree = 0.3,\n",
    "                max_depth = 15, alpha = 15,n_estimator= 50 ,min_child_weight= 1,learning_rate= 0.3, booster= 'gbtree')\n",
    "\n",
    "fit_model(model_tuned,X_train,y_train)\n",
    "y_predicted = model_1.predict(X_test)\n",
    "rmse = np.sqrt(mean_squared_error(y_test, y_predicted))\n",
    "print(\"RMSE: %f\" % (rmse))"
   ]
  },
  {
   "cell_type": "code",
   "execution_count": 31,
   "metadata": {},
   "outputs": [
    {
     "name": "stdout",
     "output_type": "stream",
     "text": [
      "Fitting 10 folds for each of 100 candidates, totalling 1000 fits\n"
     ]
    },
    {
     "name": "stderr",
     "output_type": "stream",
     "text": [
      "[Parallel(n_jobs=4)]: Using backend LokyBackend with 4 concurrent workers.\n",
      "[Parallel(n_jobs=4)]: Done  10 tasks      | elapsed:    1.2s\n",
      "[Parallel(n_jobs=4)]: Done  64 tasks      | elapsed:    5.8s\n",
      "[Parallel(n_jobs=4)]: Done 154 tasks      | elapsed:   13.4s\n",
      "[Parallel(n_jobs=4)]: Done 280 tasks      | elapsed:   23.6s\n",
      "[Parallel(n_jobs=4)]: Done 442 tasks      | elapsed:   36.5s\n",
      "[Parallel(n_jobs=4)]: Done 640 tasks      | elapsed:   54.1s\n",
      "[Parallel(n_jobs=4)]: Done 874 tasks      | elapsed:  1.2min\n"
     ]
    },
    {
     "name": "stdout",
     "output_type": "stream",
     "text": [
      "[17:57:18] WARNING: ../src/learner.cc:576: \n",
      "Parameters: { \"n_estimator\" } might not be used.\n",
      "\n",
      "  This could be a false alarm, with some parameters getting used by language bindings but\n",
      "  then being mistakenly passed down to XGBoost core, or some parameter actually being used\n",
      "  but getting flagged wrongly here. Please open an issue if you find any such cases.\n",
      "\n",
      "\n"
     ]
    },
    {
     "name": "stderr",
     "output_type": "stream",
     "text": [
      "[Parallel(n_jobs=4)]: Done 1000 out of 1000 | elapsed:  1.4min finished\n"
     ]
    },
    {
     "data": {
      "text/plain": [
       "{'objective': 'reg:squarederror',\n",
       " 'n_estimator': 200,\n",
       " 'min_child_weight': 20,\n",
       " 'max_depth': 10,\n",
       " 'learning_rate': 0.3,\n",
       " 'booster': 'gbtree',\n",
       " 'alpha': 15}"
      ]
     },
     "execution_count": 31,
     "metadata": {},
     "output_type": "execute_result"
    }
   ],
   "source": [
    "gcv_1 = retune_model(model_1,hyperparameter_grid,X_train,y_train)\n",
    "gcv_1.best_params_"
   ]
  },
  {
   "cell_type": "code",
   "execution_count": 24,
   "metadata": {},
   "outputs": [
    {
     "data": {
      "text/plain": [
       "False"
      ]
     },
     "execution_count": 24,
     "metadata": {},
     "output_type": "execute_result"
    }
   ],
   "source": [
    "X_train.isnull().sum().any()"
   ]
  },
  {
   "cell_type": "code",
   "execution_count": 35,
   "metadata": {},
   "outputs": [
    {
     "name": "stdout",
     "output_type": "stream",
     "text": [
      "28517.728956528892\n"
     ]
    }
   ],
   "source": [
    "model_2 = xgb.XGBRegressor(objective ='reg:squarederror', colsample_bytree = 0.3, learning_rate = 0.3,\n",
    "                max_depth = 10, alpha = 15, n_estimators = 200,min_child_weight=20,booster='gbtree')\n",
    "\n",
    "#model_2 = train_xgb_model(gcv_1.best_params_)\n",
    "fit_model(model_2,X_train,y_train)\n",
    "y_pred = predict_results(model_2,X_test)\n",
    "rmse = calculate_rmse(model_2,y_test,y_pred)\n",
    "print(rmse)"
   ]
  },
  {
   "cell_type": "code",
   "execution_count": null,
   "metadata": {},
   "outputs": [],
   "source": []
  }
 ],
 "metadata": {
  "kernelspec": {
   "display_name": "Python 3 (Data Science)",
   "language": "python",
   "name": "python3__SAGEMAKER_INTERNAL__arn:aws:sagemaker:ap-south-1:394103062818:image/datascience-1.0"
  },
  "language_info": {
   "codemirror_mode": {
    "name": "ipython",
    "version": 3
   },
   "file_extension": ".py",
   "mimetype": "text/x-python",
   "name": "python",
   "nbconvert_exporter": "python",
   "pygments_lexer": "ipython3",
   "version": "3.7.10"
  }
 },
 "nbformat": 4,
 "nbformat_minor": 4
}
