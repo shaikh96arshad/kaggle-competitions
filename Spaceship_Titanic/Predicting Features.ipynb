{
 "cells": [
  {
   "cell_type": "code",
   "execution_count": 55,
   "metadata": {},
   "outputs": [],
   "source": [
    "import pandas as pd\n",
    "import numpy as np\n",
    "import xgboost\n",
    "from sklearn.preprocessing import OrdinalEncoder\n",
    "from sklearn.model_selection import train_test_split\n",
    "from sklearn.metrics import accuracy_score\n",
    "from sklearn.model_selection import RandomizedSearchCV"
   ]
  },
  {
   "cell_type": "code",
   "execution_count": 5,
   "metadata": {},
   "outputs": [],
   "source": [
    "#pip install xgboost"
   ]
  },
  {
   "cell_type": "code",
   "execution_count": 137,
   "metadata": {},
   "outputs": [],
   "source": [
    "def process_new(data):\n",
    "    print(data.shape)\n",
    "    new_df = data.copy()\n",
    "    data[['GroupId','GrpPassId']] = data['PassengerId'].str.split('_',expand=True)\n",
    "    data[['Deck','Decknum','DeckSide']] = data['Cabin'].str.split('/',expand=True)\n",
    "    data.loc[(data.Destination == 'TRAPPIST-1e' )  & (data.HomePlanet.isnull()), 'HomePlanet'] ='Earth'\n",
    "    data.loc[(data.Destination == '55 Cancri e' )  & (data.HomePlanet.isnull()), 'HomePlanet'] = 'Europa'\n",
    "    data.loc[(data.Destination == 'PSO J318.5-22' ) & (data.HomePlanet.isnull()) , 'HomePlanet'] = 'Earth'\n",
    "    data['HomePlanet'].fillna(value='Earth',inplace=True)\n",
    "    #data.dropna(how = 'all',inplace=True)\n",
    "    #data['Expenditure'] = data['RoomService'] + data['FoodCourt'] + data['ShoppingMall'] + data['Spa'] +data['VRDeck']\n",
    "    #child_train_index = data[data['Age'] <= 12].index\n",
    "    #data['Adult'] = 1\n",
    "    #data['Adult'].loc[child_train_index] = 0\n",
    "    #plt.figure(figsize=(15,8))\n",
    "    #sns.countplot(x='Destination',hue='Deck',data=data)\n",
    "    #plt.figure(figsize=(15,8))\n",
    "    #sns.countplot(x='HomePlanet',hue='Deck',data=data)\n",
    "    #plt.figure(figsize=(15,8))\n",
    "    #sns.countplot(x='Destination',hue='Deck',data=data)\n",
    "    #Create a new category and assign it to Destination\n",
    "    data['Destination'].fillna('NullDestPlanet',inplace=True)\n",
    "    data[['Fname','Lname']] = data['Name'].str.split(' ',expand=True)\n",
    "    \n",
    "    data['Age'] = data['Age'].fillna(data.groupby(['HomePlanet','Destination','Lname'])['Age'].transform('mean'))\n",
    "    data['Age'] = data['Age'].fillna(data.groupby(['HomePlanet'])['Age'].transform('mean'))\n",
    "    \n",
    "    #Fill na of expenditure columns\n",
    "    data['RoomService'] = data['RoomService'].fillna(data.groupby(['HomePlanet','Destination','Decknum','Lname'])['RoomService'].transform('mean'))\n",
    "    data['RoomService'] = data['RoomService'].fillna(data.groupby(['HomePlanet'])['RoomService'].transform('mean'))\n",
    "    data['FoodCourt'] = data['FoodCourt'].fillna(data.groupby(['HomePlanet','Destination','Decknum','Lname'])['FoodCourt'].transform('mean'))\n",
    "    data['FoodCourt'] = data['FoodCourt'].fillna(data.groupby(['HomePlanet'])['FoodCourt'].transform('mean'))\n",
    "    data['Spa'] = data['Spa'].fillna(data.groupby(['HomePlanet','Destination','Decknum','Lname'])['Spa'].transform('mean'))\n",
    "    data['Spa'] = data['Spa'].fillna(data.groupby(['HomePlanet'])['Spa'].transform('mean'))\n",
    "    data['VRDeck'] = data['VRDeck'].fillna(data.groupby(['HomePlanet','Destination','Decknum','Lname'])['VRDeck'].transform('mean'))\n",
    "    data['VRDeck'] = data['VRDeck'].fillna(data.groupby(['HomePlanet'])['VRDeck'].transform('mean'))\n",
    "    data['ShoppingMall'] = data['ShoppingMall'].fillna(data.groupby(['HomePlanet','Destination','Decknum','Lname'])['ShoppingMall'].transform('mean'))\n",
    "    data['ShoppingMall'] = data['ShoppingMall'].fillna(data.groupby(['HomePlanet'])['ShoppingMall'].transform('mean'))\n",
    "\n",
    "    #Recalculate Expenditure\n",
    "    data['Expenditure'] = data['RoomService'] + data['FoodCourt'] + data['ShoppingMall'] + data['Spa'] +data['VRDeck']\n",
    "    \n",
    "    data['VIP'] = data['VIP'].fillna(data.groupby(['HomePlanet','Destination','Decknum','Lname'])['VIP'].transform('max'))\n",
    "    data['VIP'] = data['VIP'].fillna(data.groupby(['HomePlanet','Expenditure'])['VIP'].transform('max'))\n",
    "    data['VIP'] = data['VIP'].fillna(data.groupby(['GroupId'])['VIP'].transform('max'))\n",
    "    data['VIP'] = data['VIP'].fillna(data.groupby('Expenditure')['VIP'].transform('max'))\n",
    "    data['VIP'] = data['VIP'].fillna(False)\n",
    "    \n",
    "    data['Lname'] = data.groupby(['HomePlanet','Destination'])['Lname'].apply(lambda x : x.fillna(x.value_counts().index[0]))\n",
    "    \n",
    "    cols_to_drop = ['Cabin','Name','Expenditure','Fname']\n",
    "    train_df.drop(columns=cols_to_drop,axis=1,inplace=True)\n",
    "    \n",
    "    cat_cols = list(data.select_dtypes('object').columns.values)\n",
    "    cat_cols.remove('PassengerId')\n",
    "    \n",
    "    tf = {True:1,False:0}\n",
    "    home_planet = {'Earth':3,'Europa':3,'Mars':1}\n",
    "    dest_planet = {'TRAPPIST-1e':3,'Cancri e':2,'PSO J318.5-22':1,'NullDestPlanet':4}\n",
    "    deck = {'F':7,'E':6,'D':5,'C':4,'B':3,'A':2,'T':1}\n",
    "    port = {'S':0,'P':1}\n",
    "    \n",
    "    data['CryoSleep'] = data['CryoSleep'].map(tf)\n",
    "    data['Destination'] = data['Destination'].map(dest_planet)\n",
    "    data['HomePlanet'] = data['HomePlanet'].map(home_planet)\n",
    "    data['VIP'] = data['VIP'].map(tf)\n",
    "    data['Deck'] = data['Deck'].map(deck)\n",
    "    data['DeckSide'] = data['DeckSide'].map(port)\n",
    "    #data['Transported'] = data['Transported'].map(tf)\n",
    "    data['Decknum'].fillna(0,inplace=True)\n",
    "    data['Decknum'] = data['Decknum'].astype(int)\n",
    "    data['GroupId'].fillna(0,inplace=True)\n",
    "    data['GroupId'] = data['GroupId'].astype(int)\n",
    "    data['GrpPassId'].fillna(0,inplace=True)\n",
    "    data['GrpPassId'] = data['GroupId'].astype(int)\n",
    "    \n",
    "    \"\"\"data_enc = train_df['Lname'].values.reshape(-1,1)\n",
    "    ord_enc = OrdinalEncoder()\n",
    "    data['Lname'] = ord_enc.fit_transform(data_enc)\"\"\"\n",
    "    \n",
    "    \n",
    "\n",
    "    \n",
    "    return data"
   ]
  },
  {
   "cell_type": "code",
   "execution_count": 138,
   "metadata": {},
   "outputs": [],
   "source": [
    "train_df = pd.read_csv('data/train.csv')"
   ]
  },
  {
   "cell_type": "code",
   "execution_count": 139,
   "metadata": {},
   "outputs": [
    {
     "name": "stdout",
     "output_type": "stream",
     "text": [
      "(8693, 14)\n"
     ]
    }
   ],
   "source": [
    "cleaned_train_data = process_new(train_df)"
   ]
  },
  {
   "cell_type": "code",
   "execution_count": 140,
   "metadata": {},
   "outputs": [
    {
     "name": "stdout",
     "output_type": "stream",
     "text": [
      "<class 'pandas.core.frame.DataFrame'>\n",
      "RangeIndex: 8693 entries, 0 to 8692\n",
      "Data columns (total 18 columns):\n",
      " #   Column        Non-Null Count  Dtype  \n",
      "---  ------        --------------  -----  \n",
      " 0   PassengerId   8693 non-null   object \n",
      " 1   HomePlanet    8693 non-null   int64  \n",
      " 2   CryoSleep     8476 non-null   float64\n",
      " 3   Destination   6893 non-null   float64\n",
      " 4   Age           8693 non-null   float64\n",
      " 5   VIP           8693 non-null   int64  \n",
      " 6   RoomService   8693 non-null   float64\n",
      " 7   FoodCourt     8693 non-null   float64\n",
      " 8   ShoppingMall  8693 non-null   float64\n",
      " 9   Spa           8693 non-null   float64\n",
      " 10  VRDeck        8693 non-null   float64\n",
      " 11  Transported   8693 non-null   bool   \n",
      " 12  GroupId       8693 non-null   int64  \n",
      " 13  GrpPassId     8693 non-null   int64  \n",
      " 14  Deck          5935 non-null   float64\n",
      " 15  Decknum       8693 non-null   int64  \n",
      " 16  DeckSide      8494 non-null   float64\n",
      " 17  Lname         8693 non-null   object \n",
      "dtypes: bool(1), float64(10), int64(5), object(2)\n",
      "memory usage: 1.1+ MB\n"
     ]
    }
   ],
   "source": [
    "cleaned_train_data.info()"
   ]
  },
  {
   "cell_type": "code",
   "execution_count": 48,
   "metadata": {},
   "outputs": [
    {
     "data": {
      "text/html": [
       "<div>\n",
       "<style scoped>\n",
       "    .dataframe tbody tr th:only-of-type {\n",
       "        vertical-align: middle;\n",
       "    }\n",
       "\n",
       "    .dataframe tbody tr th {\n",
       "        vertical-align: top;\n",
       "    }\n",
       "\n",
       "    .dataframe thead th {\n",
       "        text-align: right;\n",
       "    }\n",
       "</style>\n",
       "<table border=\"1\" class=\"dataframe\">\n",
       "  <thead>\n",
       "    <tr style=\"text-align: right;\">\n",
       "      <th></th>\n",
       "      <th>PassengerId</th>\n",
       "      <th>HomePlanet</th>\n",
       "      <th>CryoSleep</th>\n",
       "      <th>Destination</th>\n",
       "      <th>Age</th>\n",
       "      <th>VIP</th>\n",
       "      <th>RoomService</th>\n",
       "      <th>FoodCourt</th>\n",
       "      <th>ShoppingMall</th>\n",
       "      <th>Spa</th>\n",
       "      <th>VRDeck</th>\n",
       "      <th>Transported</th>\n",
       "      <th>GroupId</th>\n",
       "      <th>GrpPassId</th>\n",
       "      <th>Deck</th>\n",
       "      <th>Decknum</th>\n",
       "      <th>DeckSide</th>\n",
       "      <th>Lname</th>\n",
       "    </tr>\n",
       "  </thead>\n",
       "  <tbody>\n",
       "    <tr>\n",
       "      <th>0</th>\n",
       "      <td>0001_01</td>\n",
       "      <td>3</td>\n",
       "      <td>0.0</td>\n",
       "      <td>3.0</td>\n",
       "      <td>39.0</td>\n",
       "      <td>0</td>\n",
       "      <td>0.0</td>\n",
       "      <td>0.0</td>\n",
       "      <td>0.0</td>\n",
       "      <td>0.0</td>\n",
       "      <td>0.0</td>\n",
       "      <td>0</td>\n",
       "      <td>1</td>\n",
       "      <td>1</td>\n",
       "      <td>3.0</td>\n",
       "      <td>0</td>\n",
       "      <td>1.0</td>\n",
       "      <td>1431.0</td>\n",
       "    </tr>\n",
       "    <tr>\n",
       "      <th>1</th>\n",
       "      <td>0002_01</td>\n",
       "      <td>3</td>\n",
       "      <td>0.0</td>\n",
       "      <td>3.0</td>\n",
       "      <td>24.0</td>\n",
       "      <td>0</td>\n",
       "      <td>109.0</td>\n",
       "      <td>9.0</td>\n",
       "      <td>25.0</td>\n",
       "      <td>549.0</td>\n",
       "      <td>44.0</td>\n",
       "      <td>1</td>\n",
       "      <td>2</td>\n",
       "      <td>2</td>\n",
       "      <td>7.0</td>\n",
       "      <td>0</td>\n",
       "      <td>0.0</td>\n",
       "      <td>2109.0</td>\n",
       "    </tr>\n",
       "    <tr>\n",
       "      <th>2</th>\n",
       "      <td>0003_01</td>\n",
       "      <td>3</td>\n",
       "      <td>0.0</td>\n",
       "      <td>3.0</td>\n",
       "      <td>58.0</td>\n",
       "      <td>1</td>\n",
       "      <td>43.0</td>\n",
       "      <td>3576.0</td>\n",
       "      <td>0.0</td>\n",
       "      <td>6715.0</td>\n",
       "      <td>49.0</td>\n",
       "      <td>0</td>\n",
       "      <td>3</td>\n",
       "      <td>3</td>\n",
       "      <td>2.0</td>\n",
       "      <td>0</td>\n",
       "      <td>0.0</td>\n",
       "      <td>1990.0</td>\n",
       "    </tr>\n",
       "  </tbody>\n",
       "</table>\n",
       "</div>"
      ],
      "text/plain": [
       "  PassengerId  HomePlanet  CryoSleep  Destination   Age  VIP  RoomService  \\\n",
       "0     0001_01           3        0.0          3.0  39.0    0          0.0   \n",
       "1     0002_01           3        0.0          3.0  24.0    0        109.0   \n",
       "2     0003_01           3        0.0          3.0  58.0    1         43.0   \n",
       "\n",
       "   FoodCourt  ShoppingMall     Spa  VRDeck  Transported  GroupId  GrpPassId  \\\n",
       "0        0.0           0.0     0.0     0.0            0        1          1   \n",
       "1        9.0          25.0   549.0    44.0            1        2          2   \n",
       "2     3576.0           0.0  6715.0    49.0            0        3          3   \n",
       "\n",
       "   Deck  Decknum  DeckSide   Lname  \n",
       "0   3.0        0       1.0  1431.0  \n",
       "1   7.0        0       0.0  2109.0  \n",
       "2   2.0        0       0.0  1990.0  "
      ]
     },
     "execution_count": 48,
     "metadata": {},
     "output_type": "execute_result"
    }
   ],
   "source": [
    "cleaned_train_data.head(3)"
   ]
  },
  {
   "cell_type": "code",
   "execution_count": 142,
   "metadata": {},
   "outputs": [],
   "source": [
    "X1 =cleaned_train_data.copy()"
   ]
  },
  {
   "cell_type": "code",
   "execution_count": 143,
   "metadata": {},
   "outputs": [],
   "source": [
    "y1 = X1['Transported']\n",
    "X1.drop(labels=['Transported','PassengerId','Lname'],axis=1,inplace=True)"
   ]
  },
  {
   "cell_type": "code",
   "execution_count": 144,
   "metadata": {},
   "outputs": [
    {
     "data": {
      "text/plain": [
       "0    False\n",
       "1     True\n",
       "2    False\n",
       "Name: Transported, dtype: bool"
      ]
     },
     "execution_count": 144,
     "metadata": {},
     "output_type": "execute_result"
    }
   ],
   "source": [
    "y1.head(3)"
   ]
  },
  {
   "cell_type": "code",
   "execution_count": 145,
   "metadata": {},
   "outputs": [
    {
     "data": {
      "text/html": [
       "<div>\n",
       "<style scoped>\n",
       "    .dataframe tbody tr th:only-of-type {\n",
       "        vertical-align: middle;\n",
       "    }\n",
       "\n",
       "    .dataframe tbody tr th {\n",
       "        vertical-align: top;\n",
       "    }\n",
       "\n",
       "    .dataframe thead th {\n",
       "        text-align: right;\n",
       "    }\n",
       "</style>\n",
       "<table border=\"1\" class=\"dataframe\">\n",
       "  <thead>\n",
       "    <tr style=\"text-align: right;\">\n",
       "      <th></th>\n",
       "      <th>HomePlanet</th>\n",
       "      <th>CryoSleep</th>\n",
       "      <th>Destination</th>\n",
       "      <th>Age</th>\n",
       "      <th>VIP</th>\n",
       "      <th>RoomService</th>\n",
       "      <th>FoodCourt</th>\n",
       "      <th>ShoppingMall</th>\n",
       "      <th>Spa</th>\n",
       "      <th>VRDeck</th>\n",
       "      <th>GroupId</th>\n",
       "      <th>GrpPassId</th>\n",
       "      <th>Deck</th>\n",
       "      <th>Decknum</th>\n",
       "      <th>DeckSide</th>\n",
       "    </tr>\n",
       "  </thead>\n",
       "  <tbody>\n",
       "    <tr>\n",
       "      <th>0</th>\n",
       "      <td>3</td>\n",
       "      <td>0.0</td>\n",
       "      <td>3.0</td>\n",
       "      <td>39.0</td>\n",
       "      <td>0</td>\n",
       "      <td>0.0</td>\n",
       "      <td>0.0</td>\n",
       "      <td>0.0</td>\n",
       "      <td>0.0</td>\n",
       "      <td>0.0</td>\n",
       "      <td>1</td>\n",
       "      <td>1</td>\n",
       "      <td>3.0</td>\n",
       "      <td>0</td>\n",
       "      <td>1.0</td>\n",
       "    </tr>\n",
       "    <tr>\n",
       "      <th>1</th>\n",
       "      <td>3</td>\n",
       "      <td>0.0</td>\n",
       "      <td>3.0</td>\n",
       "      <td>24.0</td>\n",
       "      <td>0</td>\n",
       "      <td>109.0</td>\n",
       "      <td>9.0</td>\n",
       "      <td>25.0</td>\n",
       "      <td>549.0</td>\n",
       "      <td>44.0</td>\n",
       "      <td>2</td>\n",
       "      <td>2</td>\n",
       "      <td>7.0</td>\n",
       "      <td>0</td>\n",
       "      <td>0.0</td>\n",
       "    </tr>\n",
       "    <tr>\n",
       "      <th>2</th>\n",
       "      <td>3</td>\n",
       "      <td>0.0</td>\n",
       "      <td>3.0</td>\n",
       "      <td>58.0</td>\n",
       "      <td>1</td>\n",
       "      <td>43.0</td>\n",
       "      <td>3576.0</td>\n",
       "      <td>0.0</td>\n",
       "      <td>6715.0</td>\n",
       "      <td>49.0</td>\n",
       "      <td>3</td>\n",
       "      <td>3</td>\n",
       "      <td>2.0</td>\n",
       "      <td>0</td>\n",
       "      <td>0.0</td>\n",
       "    </tr>\n",
       "  </tbody>\n",
       "</table>\n",
       "</div>"
      ],
      "text/plain": [
       "   HomePlanet  CryoSleep  Destination   Age  VIP  RoomService  FoodCourt  \\\n",
       "0           3        0.0          3.0  39.0    0          0.0        0.0   \n",
       "1           3        0.0          3.0  24.0    0        109.0        9.0   \n",
       "2           3        0.0          3.0  58.0    1         43.0     3576.0   \n",
       "\n",
       "   ShoppingMall     Spa  VRDeck  GroupId  GrpPassId  Deck  Decknum  DeckSide  \n",
       "0           0.0     0.0     0.0        1          1   3.0        0       1.0  \n",
       "1          25.0   549.0    44.0        2          2   7.0        0       0.0  \n",
       "2           0.0  6715.0    49.0        3          3   2.0        0       0.0  "
      ]
     },
     "execution_count": 145,
     "metadata": {},
     "output_type": "execute_result"
    }
   ],
   "source": [
    "X1.head(3)"
   ]
  },
  {
   "cell_type": "code",
   "execution_count": 146,
   "metadata": {},
   "outputs": [
    {
     "name": "stdout",
     "output_type": "stream",
     "text": [
      "<class 'pandas.core.frame.DataFrame'>\n",
      "RangeIndex: 8693 entries, 0 to 8692\n",
      "Data columns (total 15 columns):\n",
      " #   Column        Non-Null Count  Dtype  \n",
      "---  ------        --------------  -----  \n",
      " 0   HomePlanet    8693 non-null   int64  \n",
      " 1   CryoSleep     8476 non-null   float64\n",
      " 2   Destination   6893 non-null   float64\n",
      " 3   Age           8693 non-null   float64\n",
      " 4   VIP           8693 non-null   int64  \n",
      " 5   RoomService   8693 non-null   float64\n",
      " 6   FoodCourt     8693 non-null   float64\n",
      " 7   ShoppingMall  8693 non-null   float64\n",
      " 8   Spa           8693 non-null   float64\n",
      " 9   VRDeck        8693 non-null   float64\n",
      " 10  GroupId       8693 non-null   int64  \n",
      " 11  GrpPassId     8693 non-null   int64  \n",
      " 12  Deck          5935 non-null   float64\n",
      " 13  Decknum       8693 non-null   int64  \n",
      " 14  DeckSide      8494 non-null   float64\n",
      "dtypes: float64(10), int64(5)\n",
      "memory usage: 1018.8 KB\n"
     ]
    }
   ],
   "source": [
    "X1.info()"
   ]
  },
  {
   "cell_type": "code",
   "execution_count": 147,
   "metadata": {},
   "outputs": [],
   "source": [
    "def train_xgb_model(parameters):\n",
    "    model = xgboost.XGBClassifier(num_boost_round=40)\n",
    "    model.set_params(**parameters)\n",
    "#    model = xgboost.XGBClassifier(n_estimators = parameters['n_estimator'],objective = parameters['objective'], colsample_bytree = parameters['colsample_bytree'], learning_rate = parameters['learning_rate'],\n",
    "#                max_depth = parameters['max_depth'], alpha = parameters['alpha'])\n",
    "    return model\n",
    "def fit_model(model,X_train,y_train):\n",
    "    model.fit(X_train,y_train)\n",
    "    \n",
    "def predict_results(model,X):\n",
    "    predicted_values = model.predict(X)\n",
    "    return predicted_values\n",
    "    \n",
    "def calculate_acc(model,y_actual,y_predicted):\n",
    "    rmse = accuracy_score(y_actual,y_predicted)\n",
    "    return rmse\n",
    "    \n",
    "def retune_model(model,hyperparameter_grid,X_train,y_train):\n",
    "        \n",
    "        grid_search_cv = RandomizedSearchCV(\n",
    "        estimator=model,\n",
    "        param_distributions=hyperparameter_grid,\n",
    "        cv=10,n_iter=100,\n",
    "        scoring = 'neg_mean_absolute_error',\n",
    "        n_jobs=4,\n",
    "        verbose=5,\n",
    "        return_train_score=True,\n",
    "        random_state=42\n",
    "        )\n",
    "        grid_search_cv.fit(X_train,y_train)\n",
    "        return grid_search_cv\n",
    "    "
   ]
  },
  {
   "cell_type": "code",
   "execution_count": 148,
   "metadata": {},
   "outputs": [
    {
     "name": "stderr",
     "output_type": "stream",
     "text": [
      "/opt/conda/lib/python3.7/site-packages/xgboost/sklearn.py:1224: UserWarning: The use of label encoder in XGBClassifier is deprecated and will be removed in a future release. To remove this warning, do the following: 1) Pass option use_label_encoder=False when constructing XGBClassifier object; and 2) Encode your labels (y) as integers starting with 0, i.e. 0, 1, 2, ..., [num_class - 1].\n",
      "  warnings.warn(label_encoder_deprecation_msg, UserWarning)\n"
     ]
    },
    {
     "name": "stdout",
     "output_type": "stream",
     "text": [
      "[01:25:24] WARNING: ../src/learner.cc:576: \n",
      "Parameters: { \"n_estimator\", \"num_boost_round\" } might not be used.\n",
      "\n",
      "  This could be a false alarm, with some parameters getting used by language bindings but\n",
      "  then being mistakenly passed down to XGBoost core, or some parameter actually being used\n",
      "  but getting flagged wrongly here. Please open an issue if you find any such cases.\n",
      "\n",
      "\n",
      "[01:25:25] WARNING: ../src/learner.cc:576: \n",
      "Parameters: { \"n_estimator\", \"num_boost_round\" } might not be used.\n",
      "\n",
      "  This could be a false alarm, with some parameters getting used by language bindings but\n",
      "  then being mistakenly passed down to XGBoost core, or some parameter actually being used\n",
      "  but getting flagged wrongly here. Please open an issue if you find any such cases.\n",
      "\n",
      "\n"
     ]
    },
    {
     "data": {
      "text/plain": [
       "80.67484662576688"
      ]
     },
     "execution_count": 148,
     "metadata": {},
     "output_type": "execute_result"
    }
   ],
   "source": [
    "x1_train,x1_test,y1_train,y1_test = train_test_split(X1,y1,test_size=0.3)\n",
    "parameters = {'objective' :'reg:squarederror', 'colsample_bytree' : 0.3, 'learning_rate' : 0.1,\n",
    "                'max_depth' : 5, 'alpha' : 10, 'n_estimator' : 10}\n",
    "model_1 = train_xgb_model(parameters)\n",
    "fit_model(model_1,x1_train,y1_train)\n",
    "model_1.fit(x1_train,y1_train)\n",
    "y1_pred = predict_results(model_1,x1_test)\n",
    "acc = calculate_acc(model_1,y1_test,y1_pred)\n",
    "acc*100"
   ]
  },
  {
   "cell_type": "code",
   "execution_count": 151,
   "metadata": {},
   "outputs": [
    {
     "data": {
      "text/plain": [
       "1653     True\n",
       "1878    False\n",
       "770     False\n",
       "Name: Transported, dtype: bool"
      ]
     },
     "execution_count": 151,
     "metadata": {},
     "output_type": "execute_result"
    }
   ],
   "source": [
    "y1_train.head(3)"
   ]
  },
  {
   "cell_type": "code",
   "execution_count": 153,
   "metadata": {},
   "outputs": [],
   "source": [
    "y1_train = y1_train.astype(int)"
   ]
  },
  {
   "cell_type": "code",
   "execution_count": 154,
   "metadata": {},
   "outputs": [
    {
     "name": "stdout",
     "output_type": "stream",
     "text": [
      "Fitting 5 folds for each of 100 candidates, totalling 500 fits\n"
     ]
    },
    {
     "name": "stderr",
     "output_type": "stream",
     "text": [
      "[Parallel(n_jobs=5)]: Using backend LokyBackend with 5 concurrent workers.\n",
      "[Parallel(n_jobs=5)]: Done   8 tasks      | elapsed:    9.6s\n",
      "[Parallel(n_jobs=5)]: Done  62 tasks      | elapsed:   36.5s\n",
      "[Parallel(n_jobs=5)]: Done 152 tasks      | elapsed:  1.6min\n",
      "[Parallel(n_jobs=5)]: Done 278 tasks      | elapsed:  2.7min\n",
      "[Parallel(n_jobs=5)]: Done 440 tasks      | elapsed:  4.0min\n",
      "[Parallel(n_jobs=5)]: Done 500 out of 500 | elapsed:  4.5min finished\n",
      "/opt/conda/lib/python3.7/site-packages/xgboost/sklearn.py:1224: UserWarning: The use of label encoder in XGBClassifier is deprecated and will be removed in a future release. To remove this warning, do the following: 1) Pass option use_label_encoder=False when constructing XGBClassifier object; and 2) Encode your labels (y) as integers starting with 0, i.e. 0, 1, 2, ..., [num_class - 1].\n",
      "  warnings.warn(label_encoder_deprecation_msg, UserWarning)\n"
     ]
    },
    {
     "name": "stdout",
     "output_type": "stream",
     "text": [
      "[01:31:20] WARNING: ../src/learner.cc:576: \n",
      "Parameters: { \"n_estimator\", \"num_boost_round\" } might not be used.\n",
      "\n",
      "  This could be a false alarm, with some parameters getting used by language bindings but\n",
      "  then being mistakenly passed down to XGBoost core, or some parameter actually being used\n",
      "  but getting flagged wrongly here. Please open an issue if you find any such cases.\n",
      "\n",
      "\n"
     ]
    },
    {
     "data": {
      "text/plain": [
       "{'objective': 'reg:squarederror',\n",
       " 'n_estimator': 100,\n",
       " 'min_child_weight': 10,\n",
       " 'max_depth': 10,\n",
       " 'learning_rate': 0.3,\n",
       " 'booster': 'gbtree',\n",
       " 'alpha': 100}"
      ]
     },
     "execution_count": 154,
     "metadata": {},
     "output_type": "execute_result"
    }
   ],
   "source": [
    "#Retune Model_1\n",
    "booster = ['gbtree','gblinear']\n",
    "n_estimator = [10,50,100,200,]\n",
    "max_depth = [2,3,5,10,15,20,50]\n",
    "learning_rate = [0.01,0.05,0.1,0.2,0.3,0.5,0.7]\n",
    "min_child_weight = [1,5,10,15,20]\n",
    "base_score=[0.25,0.5,0.75,1]\n",
    "aplha = [5,10,15,50,100]\n",
    "objective = ['reg:squarederror']\n",
    "\n",
    "hyperparameter_grid = {\n",
    "    'n_estimator' : n_estimator,\n",
    "    'objective' : objective,\n",
    "    'max_depth' : max_depth,\n",
    "    'learning_rate' : learning_rate,\n",
    "    'min_child_weight' : min_child_weight,\n",
    "    'booster' : booster,\n",
    "    'alpha' : aplha\n",
    "}\n",
    "\n",
    "grid_search_cv = RandomizedSearchCV(\n",
    "        estimator=model_1,\n",
    "        param_distributions=hyperparameter_grid,\n",
    "        cv=5,n_iter=100,\n",
    "        scoring = 'neg_mean_absolute_error',\n",
    "        n_jobs=5,\n",
    "        verbose=5,\n",
    "        return_train_score=True,\n",
    "        random_state=42,\n",
    "        \n",
    ")\n",
    "grid_search_cv.fit(x1_train,y1_train)\n",
    "grid_search_cv.best_params_\n"
   ]
  },
  {
   "cell_type": "code",
   "execution_count": 155,
   "metadata": {},
   "outputs": [
    {
     "name": "stdout",
     "output_type": "stream",
     "text": [
      "[01:34:28] WARNING: ../src/learner.cc:576: \n",
      "Parameters: { \"n_estimator\", \"num_boost_round\" } might not be used.\n",
      "\n",
      "  This could be a false alarm, with some parameters getting used by language bindings but\n",
      "  then being mistakenly passed down to XGBoost core, or some parameter actually being used\n",
      "  but getting flagged wrongly here. Please open an issue if you find any such cases.\n",
      "\n",
      "\n"
     ]
    },
    {
     "data": {
      "text/plain": [
       "81.63343558282209"
      ]
     },
     "execution_count": 155,
     "metadata": {},
     "output_type": "execute_result"
    }
   ],
   "source": [
    "parameters = {'objective' :'reg:squarederror', 'colsample_bytree' : 0.4, 'learning_rate' : 0.3,\n",
    "                'max_depth' : 10, 'alpha' : 10, 'n_estimator' : 10,'min_child_weight': 20,'booster': 'gbtree'}\n",
    "parameters = {'objective' :'reg:squarederror', 'colsample_bytree' : 0.4, 'learning_rate' : 0.3,\n",
    "                'max_depth' : 10, 'alpha' : 10, 'n_estimator' : 100,'min_child_weight': 10,'booster': 'gbtree'}\n",
    "\n",
    "model_2_tuned = train_xgb_model(parameters)\n",
    "fit_model(model_2_tuned,x1_train,y1_train)\n",
    "#model_1_tuned.fit(x1_train,y1_train)\n",
    "y1_pred_tuned = predict_results(model_2_tuned,x1_test)\n",
    "acc1_tuned = calculate_acc(model_2_tuned,y1_test,y1_pred_tuned)\n",
    "acc1_tuned*100"
   ]
  },
  {
   "cell_type": "code",
   "execution_count": 160,
   "metadata": {},
   "outputs": [],
   "source": [
    "test_df = pd.read_csv('data/test.csv')"
   ]
  },
  {
   "cell_type": "code",
   "execution_count": 161,
   "metadata": {},
   "outputs": [
    {
     "name": "stdout",
     "output_type": "stream",
     "text": [
      "(4277, 13)\n"
     ]
    }
   ],
   "source": [
    "train_df = pd.read_csv('data/test.csv')\n",
    "cleaned_test_data = process_new(train_df)\n",
    "cleaned_test_data.drop(labels=['PassengerId','Lname'],axis=1,inplace=True)\n"
   ]
  },
  {
   "cell_type": "code",
   "execution_count": 162,
   "metadata": {},
   "outputs": [
    {
     "data": {
      "text/html": [
       "<div>\n",
       "<style scoped>\n",
       "    .dataframe tbody tr th:only-of-type {\n",
       "        vertical-align: middle;\n",
       "    }\n",
       "\n",
       "    .dataframe tbody tr th {\n",
       "        vertical-align: top;\n",
       "    }\n",
       "\n",
       "    .dataframe thead th {\n",
       "        text-align: right;\n",
       "    }\n",
       "</style>\n",
       "<table border=\"1\" class=\"dataframe\">\n",
       "  <thead>\n",
       "    <tr style=\"text-align: right;\">\n",
       "      <th></th>\n",
       "      <th>HomePlanet</th>\n",
       "      <th>CryoSleep</th>\n",
       "      <th>Destination</th>\n",
       "      <th>Age</th>\n",
       "      <th>VIP</th>\n",
       "      <th>RoomService</th>\n",
       "      <th>FoodCourt</th>\n",
       "      <th>ShoppingMall</th>\n",
       "      <th>Spa</th>\n",
       "      <th>VRDeck</th>\n",
       "      <th>GroupId</th>\n",
       "      <th>GrpPassId</th>\n",
       "      <th>Deck</th>\n",
       "      <th>Decknum</th>\n",
       "      <th>DeckSide</th>\n",
       "    </tr>\n",
       "  </thead>\n",
       "  <tbody>\n",
       "    <tr>\n",
       "      <th>0</th>\n",
       "      <td>3</td>\n",
       "      <td>1.0</td>\n",
       "      <td>3.0</td>\n",
       "      <td>27.0</td>\n",
       "      <td>0</td>\n",
       "      <td>0.0</td>\n",
       "      <td>0.0</td>\n",
       "      <td>0.0</td>\n",
       "      <td>0.0</td>\n",
       "      <td>0.0</td>\n",
       "      <td>13</td>\n",
       "      <td>13</td>\n",
       "      <td>NaN</td>\n",
       "      <td>3</td>\n",
       "      <td>0.0</td>\n",
       "    </tr>\n",
       "    <tr>\n",
       "      <th>1</th>\n",
       "      <td>3</td>\n",
       "      <td>0.0</td>\n",
       "      <td>3.0</td>\n",
       "      <td>19.0</td>\n",
       "      <td>0</td>\n",
       "      <td>0.0</td>\n",
       "      <td>9.0</td>\n",
       "      <td>0.0</td>\n",
       "      <td>2823.0</td>\n",
       "      <td>0.0</td>\n",
       "      <td>18</td>\n",
       "      <td>18</td>\n",
       "      <td>7.0</td>\n",
       "      <td>4</td>\n",
       "      <td>0.0</td>\n",
       "    </tr>\n",
       "    <tr>\n",
       "      <th>2</th>\n",
       "      <td>3</td>\n",
       "      <td>1.0</td>\n",
       "      <td>NaN</td>\n",
       "      <td>31.0</td>\n",
       "      <td>0</td>\n",
       "      <td>0.0</td>\n",
       "      <td>0.0</td>\n",
       "      <td>0.0</td>\n",
       "      <td>0.0</td>\n",
       "      <td>0.0</td>\n",
       "      <td>19</td>\n",
       "      <td>19</td>\n",
       "      <td>4.0</td>\n",
       "      <td>0</td>\n",
       "      <td>0.0</td>\n",
       "    </tr>\n",
       "  </tbody>\n",
       "</table>\n",
       "</div>"
      ],
      "text/plain": [
       "   HomePlanet  CryoSleep  Destination   Age  VIP  RoomService  FoodCourt  \\\n",
       "0           3        1.0          3.0  27.0    0          0.0        0.0   \n",
       "1           3        0.0          3.0  19.0    0          0.0        9.0   \n",
       "2           3        1.0          NaN  31.0    0          0.0        0.0   \n",
       "\n",
       "   ShoppingMall     Spa  VRDeck  GroupId  GrpPassId  Deck  Decknum  DeckSide  \n",
       "0           0.0     0.0     0.0       13         13   NaN        3       0.0  \n",
       "1           0.0  2823.0     0.0       18         18   7.0        4       0.0  \n",
       "2           0.0     0.0     0.0       19         19   4.0        0       0.0  "
      ]
     },
     "execution_count": 162,
     "metadata": {},
     "output_type": "execute_result"
    }
   ],
   "source": [
    "cleaned_test_data.head(3)"
   ]
  },
  {
   "cell_type": "code",
   "execution_count": 163,
   "metadata": {},
   "outputs": [],
   "source": [
    "y1_pred_tuned_test = predict_results(model_2_tuned,cleaned_test_data)\n"
   ]
  },
  {
   "cell_type": "code",
   "execution_count": 164,
   "metadata": {},
   "outputs": [],
   "source": [
    "recon = {0:False,1:True}\n",
    "\n",
    "data_pred1 = {'PassengerId': test_df['PassengerId'], 'Transported': y1_pred_tuned_test}\n",
    "data_pred1 =pd.DataFrame(data_pred1)\n",
    "data_pred1['Transported'] = data_pred1['Transported'].map(recon)"
   ]
  },
  {
   "cell_type": "code",
   "execution_count": 165,
   "metadata": {},
   "outputs": [
    {
     "data": {
      "text/html": [
       "<div>\n",
       "<style scoped>\n",
       "    .dataframe tbody tr th:only-of-type {\n",
       "        vertical-align: middle;\n",
       "    }\n",
       "\n",
       "    .dataframe tbody tr th {\n",
       "        vertical-align: top;\n",
       "    }\n",
       "\n",
       "    .dataframe thead th {\n",
       "        text-align: right;\n",
       "    }\n",
       "</style>\n",
       "<table border=\"1\" class=\"dataframe\">\n",
       "  <thead>\n",
       "    <tr style=\"text-align: right;\">\n",
       "      <th></th>\n",
       "      <th>PassengerId</th>\n",
       "      <th>Transported</th>\n",
       "    </tr>\n",
       "  </thead>\n",
       "  <tbody>\n",
       "    <tr>\n",
       "      <th>0</th>\n",
       "      <td>0013_01</td>\n",
       "      <td>True</td>\n",
       "    </tr>\n",
       "    <tr>\n",
       "      <th>1</th>\n",
       "      <td>0018_01</td>\n",
       "      <td>False</td>\n",
       "    </tr>\n",
       "    <tr>\n",
       "      <th>2</th>\n",
       "      <td>0019_01</td>\n",
       "      <td>True</td>\n",
       "    </tr>\n",
       "  </tbody>\n",
       "</table>\n",
       "</div>"
      ],
      "text/plain": [
       "  PassengerId  Transported\n",
       "0     0013_01         True\n",
       "1     0018_01        False\n",
       "2     0019_01         True"
      ]
     },
     "execution_count": 165,
     "metadata": {},
     "output_type": "execute_result"
    }
   ],
   "source": [
    "data_pred1.head(3)"
   ]
  },
  {
   "cell_type": "code",
   "execution_count": 166,
   "metadata": {},
   "outputs": [],
   "source": [
    "data_pred1.to_csv('data/submission_08_04_22_7_06.csv',index=False)"
   ]
  },
  {
   "cell_type": "code",
   "execution_count": 135,
   "metadata": {},
   "outputs": [],
   "source": [
    "#Predict Columns Deck "
   ]
  },
  {
   "cell_type": "code",
   "execution_count": 177,
   "metadata": {},
   "outputs": [],
   "source": [
    "def process_new(data):\n",
    "    print(data.shape)\n",
    "    new_df = data.copy()\n",
    "    data[['GroupId','GrpPassId']] = data['PassengerId'].str.split('_',expand=True)\n",
    "    data[['Deck','Decknum','DeckSide']] = data['Cabin'].str.split('/',expand=True)\n",
    "    data.loc[(data.Destination == 'TRAPPIST-1e' )  & (data.HomePlanet.isnull()), 'HomePlanet'] ='Earth'\n",
    "    data.loc[(data.Destination == '55 Cancri e' )  & (data.HomePlanet.isnull()), 'HomePlanet'] = 'Europa'\n",
    "    data.loc[(data.Destination == 'PSO J318.5-22' ) & (data.HomePlanet.isnull()) , 'HomePlanet'] = 'Earth'\n",
    "    data['HomePlanet'].fillna(value='Earth',inplace=True)\n",
    "    #data.dropna(how = 'all',inplace=True)\n",
    "    #data['Expenditure'] = data['RoomService'] + data['FoodCourt'] + data['ShoppingMall'] + data['Spa'] +data['VRDeck']\n",
    "    #child_train_index = data[data['Age'] <= 12].index\n",
    "    #data['Adult'] = 1\n",
    "    #data['Adult'].loc[child_train_index] = 0\n",
    "    #plt.figure(figsize=(15,8))\n",
    "    #sns.countplot(x='Destination',hue='Deck',data=data)\n",
    "    #plt.figure(figsize=(15,8))\n",
    "    #sns.countplot(x='HomePlanet',hue='Deck',data=data)\n",
    "    #plt.figure(figsize=(15,8))\n",
    "    #sns.countplot(x='Destination',hue='Deck',data=data)\n",
    "    #Create a new category and assign it to Destination\n",
    "    data['Destination'].fillna('NullDestPlanet',inplace=True)\n",
    "    data[['Fname','Lname']] = data['Name'].str.split(' ',expand=True)\n",
    "    \n",
    "    data['Age'] = data['Age'].fillna(data.groupby(['HomePlanet','Destination','Lname'])['Age'].transform('mean'))\n",
    "    data['Age'] = data['Age'].fillna(data.groupby(['HomePlanet'])['Age'].transform('mean'))\n",
    "    \n",
    "    #Fill na of expenditure columns\n",
    "    data['RoomService'] = data['RoomService'].fillna(data.groupby(['HomePlanet','Destination','Decknum','Lname'])['RoomService'].transform('mean'))\n",
    "    data['RoomService'] = data['RoomService'].fillna(data.groupby(['HomePlanet'])['RoomService'].transform('mean'))\n",
    "    data['FoodCourt'] = data['FoodCourt'].fillna(data.groupby(['HomePlanet','Destination','Decknum','Lname'])['FoodCourt'].transform('mean'))\n",
    "    data['FoodCourt'] = data['FoodCourt'].fillna(data.groupby(['HomePlanet'])['FoodCourt'].transform('mean'))\n",
    "    data['Spa'] = data['Spa'].fillna(data.groupby(['HomePlanet','Destination','Decknum','Lname'])['Spa'].transform('mean'))\n",
    "    data['Spa'] = data['Spa'].fillna(data.groupby(['HomePlanet'])['Spa'].transform('mean'))\n",
    "    data['VRDeck'] = data['VRDeck'].fillna(data.groupby(['HomePlanet','Destination','Decknum','Lname'])['VRDeck'].transform('mean'))\n",
    "    data['VRDeck'] = data['VRDeck'].fillna(data.groupby(['HomePlanet'])['VRDeck'].transform('mean'))\n",
    "    data['ShoppingMall'] = data['ShoppingMall'].fillna(data.groupby(['HomePlanet','Destination','Decknum','Lname'])['ShoppingMall'].transform('mean'))\n",
    "    data['ShoppingMall'] = data['ShoppingMall'].fillna(data.groupby(['HomePlanet'])['ShoppingMall'].transform('mean'))\n",
    "\n",
    "    #Recalculate Expenditure\n",
    "    data['Expenditure'] = data['RoomService'] + data['FoodCourt'] + data['ShoppingMall'] + data['Spa'] +data['VRDeck']\n",
    "    \n",
    "    data['VIP'] = data['VIP'].fillna(data.groupby(['HomePlanet','Destination','Decknum','Lname'])['VIP'].transform('max'))\n",
    "    data['VIP'] = data['VIP'].fillna(data.groupby(['HomePlanet','Expenditure'])['VIP'].transform('max'))\n",
    "    data['VIP'] = data['VIP'].fillna(data.groupby(['GroupId'])['VIP'].transform('max'))\n",
    "    data['VIP'] = data['VIP'].fillna(data.groupby('Expenditure')['VIP'].transform('max'))\n",
    "    data['VIP'] = data['VIP'].fillna(False)\n",
    "    \n",
    "    data['Lname'] = data.groupby(['HomePlanet','Destination'])['Lname'].apply(lambda x : x.fillna(x.value_counts().index[0]))\n",
    "    \n",
    "    cols_to_drop = ['Cabin','Name','Expenditure','Fname']\n",
    "    train_df.drop(columns=cols_to_drop,axis=1,inplace=True)\n",
    "    \n",
    "    cat_cols = list(data.select_dtypes('object').columns.values)\n",
    "    cat_cols.remove('PassengerId')\n",
    "    \n",
    "    tf = {True:1,False:0}\n",
    "    home_planet = {'Earth':3,'Europa':3,'Mars':1}\n",
    "    dest_planet = {'TRAPPIST-1e':3,'Cancri e':2,'PSO J318.5-22':1,'NullDestPlanet':4}\n",
    "    deck = {'F':7,'E':6,'D':5,'C':4,'B':3,'A':2,'T':1}\n",
    "    port = {'S':0,'P':1}\n",
    "    \n",
    "    data['CryoSleep'] = data['CryoSleep'].map(tf)\n",
    "    data['Destination'] = data['Destination'].map(dest_planet)\n",
    "    data['HomePlanet'] = data['HomePlanet'].map(home_planet)\n",
    "    data['VIP'] = data['VIP'].map(tf)\n",
    "    \"\"\"data['Deck'] = data['Deck'].map(deck)\n",
    "    data['DeckSide'] = data['DeckSide'].map(port)\n",
    "    #data['Transported'] = data['Transported'].map(tf)\n",
    "    data['Decknum'].fillna(0,inplace=True)\n",
    "    data['Decknum'] = data['Decknum'].astype(int)\n",
    "    data['GroupId'].fillna(0,inplace=True)\n",
    "    data['GroupId'] = data['GroupId'].astype(int)\n",
    "    data['GrpPassId'].fillna(0,inplace=True)\n",
    "    data['GrpPassId'] = data['GroupId'].astype(int)\"\"\"\n",
    "    \n",
    "    data_enc = train_df['Lname'].values.reshape(-1,1)\n",
    "    ord_enc = OrdinalEncoder()\n",
    "    data['Lname'] = ord_enc.fit_transform(data_enc)\n",
    "    return data"
   ]
  },
  {
   "cell_type": "code",
   "execution_count": 178,
   "metadata": {},
   "outputs": [],
   "source": [
    "train_df = pd.read_csv('data/train.csv')"
   ]
  },
  {
   "cell_type": "code",
   "execution_count": 179,
   "metadata": {},
   "outputs": [
    {
     "name": "stdout",
     "output_type": "stream",
     "text": [
      "(8693, 14)\n"
     ]
    }
   ],
   "source": [
    "train_process_data = process_new(train_df)"
   ]
  },
  {
   "cell_type": "code",
   "execution_count": 180,
   "metadata": {},
   "outputs": [
    {
     "data": {
      "text/html": [
       "<div>\n",
       "<style scoped>\n",
       "    .dataframe tbody tr th:only-of-type {\n",
       "        vertical-align: middle;\n",
       "    }\n",
       "\n",
       "    .dataframe tbody tr th {\n",
       "        vertical-align: top;\n",
       "    }\n",
       "\n",
       "    .dataframe thead th {\n",
       "        text-align: right;\n",
       "    }\n",
       "</style>\n",
       "<table border=\"1\" class=\"dataframe\">\n",
       "  <thead>\n",
       "    <tr style=\"text-align: right;\">\n",
       "      <th></th>\n",
       "      <th>PassengerId</th>\n",
       "      <th>HomePlanet</th>\n",
       "      <th>CryoSleep</th>\n",
       "      <th>Destination</th>\n",
       "      <th>Age</th>\n",
       "      <th>VIP</th>\n",
       "      <th>RoomService</th>\n",
       "      <th>FoodCourt</th>\n",
       "      <th>ShoppingMall</th>\n",
       "      <th>Spa</th>\n",
       "      <th>VRDeck</th>\n",
       "      <th>Transported</th>\n",
       "      <th>GroupId</th>\n",
       "      <th>GrpPassId</th>\n",
       "      <th>Deck</th>\n",
       "      <th>Decknum</th>\n",
       "      <th>DeckSide</th>\n",
       "      <th>Lname</th>\n",
       "    </tr>\n",
       "  </thead>\n",
       "  <tbody>\n",
       "    <tr>\n",
       "      <th>0</th>\n",
       "      <td>0001_01</td>\n",
       "      <td>3</td>\n",
       "      <td>0.0</td>\n",
       "      <td>3.0</td>\n",
       "      <td>39.0</td>\n",
       "      <td>0</td>\n",
       "      <td>0.0</td>\n",
       "      <td>0.0</td>\n",
       "      <td>0.0</td>\n",
       "      <td>0.0</td>\n",
       "      <td>0.0</td>\n",
       "      <td>False</td>\n",
       "      <td>0001</td>\n",
       "      <td>01</td>\n",
       "      <td>B</td>\n",
       "      <td>0</td>\n",
       "      <td>P</td>\n",
       "      <td>1431.0</td>\n",
       "    </tr>\n",
       "    <tr>\n",
       "      <th>1</th>\n",
       "      <td>0002_01</td>\n",
       "      <td>3</td>\n",
       "      <td>0.0</td>\n",
       "      <td>3.0</td>\n",
       "      <td>24.0</td>\n",
       "      <td>0</td>\n",
       "      <td>109.0</td>\n",
       "      <td>9.0</td>\n",
       "      <td>25.0</td>\n",
       "      <td>549.0</td>\n",
       "      <td>44.0</td>\n",
       "      <td>True</td>\n",
       "      <td>0002</td>\n",
       "      <td>01</td>\n",
       "      <td>F</td>\n",
       "      <td>0</td>\n",
       "      <td>S</td>\n",
       "      <td>2109.0</td>\n",
       "    </tr>\n",
       "    <tr>\n",
       "      <th>2</th>\n",
       "      <td>0003_01</td>\n",
       "      <td>3</td>\n",
       "      <td>0.0</td>\n",
       "      <td>3.0</td>\n",
       "      <td>58.0</td>\n",
       "      <td>1</td>\n",
       "      <td>43.0</td>\n",
       "      <td>3576.0</td>\n",
       "      <td>0.0</td>\n",
       "      <td>6715.0</td>\n",
       "      <td>49.0</td>\n",
       "      <td>False</td>\n",
       "      <td>0003</td>\n",
       "      <td>01</td>\n",
       "      <td>A</td>\n",
       "      <td>0</td>\n",
       "      <td>S</td>\n",
       "      <td>1990.0</td>\n",
       "    </tr>\n",
       "  </tbody>\n",
       "</table>\n",
       "</div>"
      ],
      "text/plain": [
       "  PassengerId  HomePlanet  CryoSleep  Destination   Age  VIP  RoomService  \\\n",
       "0     0001_01           3        0.0          3.0  39.0    0          0.0   \n",
       "1     0002_01           3        0.0          3.0  24.0    0        109.0   \n",
       "2     0003_01           3        0.0          3.0  58.0    1         43.0   \n",
       "\n",
       "   FoodCourt  ShoppingMall     Spa  VRDeck  Transported GroupId GrpPassId  \\\n",
       "0        0.0           0.0     0.0     0.0        False    0001        01   \n",
       "1        9.0          25.0   549.0    44.0         True    0002        01   \n",
       "2     3576.0           0.0  6715.0    49.0        False    0003        01   \n",
       "\n",
       "  Deck Decknum DeckSide   Lname  \n",
       "0    B       0        P  1431.0  \n",
       "1    F       0        S  2109.0  \n",
       "2    A       0        S  1990.0  "
      ]
     },
     "execution_count": 180,
     "metadata": {},
     "output_type": "execute_result"
    }
   ],
   "source": [
    "train_process_data.head(3)"
   ]
  },
  {
   "cell_type": "code",
   "execution_count": 181,
   "metadata": {},
   "outputs": [],
   "source": [
    "X1_Deck = train_process_data.copy()"
   ]
  },
  {
   "cell_type": "code",
   "execution_count": 182,
   "metadata": {},
   "outputs": [],
   "source": [
    "X1_Deck_test = X1_Deck[X1_Deck['Deck'].isna()]"
   ]
  },
  {
   "cell_type": "code",
   "execution_count": 185,
   "metadata": {},
   "outputs": [
    {
     "data": {
      "text/plain": [
       "(199, 18)"
      ]
     },
     "execution_count": 185,
     "metadata": {},
     "output_type": "execute_result"
    }
   ],
   "source": [
    "X1_Deck_test.shape"
   ]
  },
  {
   "cell_type": "code",
   "execution_count": 187,
   "metadata": {},
   "outputs": [
    {
     "name": "stderr",
     "output_type": "stream",
     "text": [
      "/opt/conda/lib/python3.7/site-packages/pandas/core/frame.py:4913: SettingWithCopyWarning: \n",
      "A value is trying to be set on a copy of a slice from a DataFrame\n",
      "\n",
      "See the caveats in the documentation: https://pandas.pydata.org/pandas-docs/stable/user_guide/indexing.html#returning-a-view-versus-a-copy\n",
      "  errors=errors,\n"
     ]
    }
   ],
   "source": [
    "y1_Deck = X1_Deck['Deck']\n",
    "X1_Deck_test.drop(labels=['Transported','PassengerId','Decknum','DeckSide'],axis=1,inplace=True)\n",
    "X1_Deck.drop(labels=['Transported','PassengerId','Decknum','DeckSide'],axis=1,inplace=True)"
   ]
  },
  {
   "cell_type": "code",
   "execution_count": 188,
   "metadata": {},
   "outputs": [
    {
     "data": {
      "text/html": [
       "<div>\n",
       "<style scoped>\n",
       "    .dataframe tbody tr th:only-of-type {\n",
       "        vertical-align: middle;\n",
       "    }\n",
       "\n",
       "    .dataframe tbody tr th {\n",
       "        vertical-align: top;\n",
       "    }\n",
       "\n",
       "    .dataframe thead th {\n",
       "        text-align: right;\n",
       "    }\n",
       "</style>\n",
       "<table border=\"1\" class=\"dataframe\">\n",
       "  <thead>\n",
       "    <tr style=\"text-align: right;\">\n",
       "      <th></th>\n",
       "      <th>HomePlanet</th>\n",
       "      <th>CryoSleep</th>\n",
       "      <th>Destination</th>\n",
       "      <th>Age</th>\n",
       "      <th>VIP</th>\n",
       "      <th>RoomService</th>\n",
       "      <th>FoodCourt</th>\n",
       "      <th>ShoppingMall</th>\n",
       "      <th>Spa</th>\n",
       "      <th>VRDeck</th>\n",
       "      <th>GroupId</th>\n",
       "      <th>GrpPassId</th>\n",
       "      <th>Deck</th>\n",
       "      <th>Lname</th>\n",
       "    </tr>\n",
       "  </thead>\n",
       "  <tbody>\n",
       "    <tr>\n",
       "      <th>15</th>\n",
       "      <td>3</td>\n",
       "      <td>0.0</td>\n",
       "      <td>3.0</td>\n",
       "      <td>31.0</td>\n",
       "      <td>0</td>\n",
       "      <td>32.0</td>\n",
       "      <td>0.0</td>\n",
       "      <td>876.0</td>\n",
       "      <td>0.0</td>\n",
       "      <td>0.0</td>\n",
       "      <td>0012</td>\n",
       "      <td>01</td>\n",
       "      <td>NaN</td>\n",
       "      <td>1573.0</td>\n",
       "    </tr>\n",
       "    <tr>\n",
       "      <th>93</th>\n",
       "      <td>1</td>\n",
       "      <td>1.0</td>\n",
       "      <td>3.0</td>\n",
       "      <td>31.0</td>\n",
       "      <td>0</td>\n",
       "      <td>0.0</td>\n",
       "      <td>0.0</td>\n",
       "      <td>0.0</td>\n",
       "      <td>0.0</td>\n",
       "      <td>0.0</td>\n",
       "      <td>0101</td>\n",
       "      <td>01</td>\n",
       "      <td>NaN</td>\n",
       "      <td>2043.0</td>\n",
       "    </tr>\n",
       "    <tr>\n",
       "      <th>103</th>\n",
       "      <td>3</td>\n",
       "      <td>0.0</td>\n",
       "      <td>3.0</td>\n",
       "      <td>32.0</td>\n",
       "      <td>0</td>\n",
       "      <td>0.0</td>\n",
       "      <td>410.0</td>\n",
       "      <td>6.0</td>\n",
       "      <td>3929.0</td>\n",
       "      <td>764.0</td>\n",
       "      <td>0110</td>\n",
       "      <td>01</td>\n",
       "      <td>NaN</td>\n",
       "      <td>26.0</td>\n",
       "    </tr>\n",
       "  </tbody>\n",
       "</table>\n",
       "</div>"
      ],
      "text/plain": [
       "     HomePlanet  CryoSleep  Destination   Age  VIP  RoomService  FoodCourt  \\\n",
       "15            3        0.0          3.0  31.0    0         32.0        0.0   \n",
       "93            1        1.0          3.0  31.0    0          0.0        0.0   \n",
       "103           3        0.0          3.0  32.0    0          0.0      410.0   \n",
       "\n",
       "     ShoppingMall     Spa  VRDeck GroupId GrpPassId Deck   Lname  \n",
       "15          876.0     0.0     0.0    0012        01  NaN  1573.0  \n",
       "93            0.0     0.0     0.0    0101        01  NaN  2043.0  \n",
       "103           6.0  3929.0   764.0    0110        01  NaN    26.0  "
      ]
     },
     "execution_count": 188,
     "metadata": {},
     "output_type": "execute_result"
    }
   ],
   "source": [
    "X1_Deck_test.head(3)"
   ]
  },
  {
   "cell_type": "code",
   "execution_count": 189,
   "metadata": {},
   "outputs": [
    {
     "data": {
      "text/html": [
       "<div>\n",
       "<style scoped>\n",
       "    .dataframe tbody tr th:only-of-type {\n",
       "        vertical-align: middle;\n",
       "    }\n",
       "\n",
       "    .dataframe tbody tr th {\n",
       "        vertical-align: top;\n",
       "    }\n",
       "\n",
       "    .dataframe thead th {\n",
       "        text-align: right;\n",
       "    }\n",
       "</style>\n",
       "<table border=\"1\" class=\"dataframe\">\n",
       "  <thead>\n",
       "    <tr style=\"text-align: right;\">\n",
       "      <th></th>\n",
       "      <th>HomePlanet</th>\n",
       "      <th>CryoSleep</th>\n",
       "      <th>Destination</th>\n",
       "      <th>Age</th>\n",
       "      <th>VIP</th>\n",
       "      <th>RoomService</th>\n",
       "      <th>FoodCourt</th>\n",
       "      <th>ShoppingMall</th>\n",
       "      <th>Spa</th>\n",
       "      <th>VRDeck</th>\n",
       "      <th>GroupId</th>\n",
       "      <th>GrpPassId</th>\n",
       "      <th>Deck</th>\n",
       "      <th>Lname</th>\n",
       "    </tr>\n",
       "  </thead>\n",
       "  <tbody>\n",
       "    <tr>\n",
       "      <th>0</th>\n",
       "      <td>3</td>\n",
       "      <td>0.0</td>\n",
       "      <td>3.0</td>\n",
       "      <td>39.0</td>\n",
       "      <td>0</td>\n",
       "      <td>0.0</td>\n",
       "      <td>0.0</td>\n",
       "      <td>0.0</td>\n",
       "      <td>0.0</td>\n",
       "      <td>0.0</td>\n",
       "      <td>0001</td>\n",
       "      <td>01</td>\n",
       "      <td>B</td>\n",
       "      <td>1431.0</td>\n",
       "    </tr>\n",
       "    <tr>\n",
       "      <th>1</th>\n",
       "      <td>3</td>\n",
       "      <td>0.0</td>\n",
       "      <td>3.0</td>\n",
       "      <td>24.0</td>\n",
       "      <td>0</td>\n",
       "      <td>109.0</td>\n",
       "      <td>9.0</td>\n",
       "      <td>25.0</td>\n",
       "      <td>549.0</td>\n",
       "      <td>44.0</td>\n",
       "      <td>0002</td>\n",
       "      <td>01</td>\n",
       "      <td>F</td>\n",
       "      <td>2109.0</td>\n",
       "    </tr>\n",
       "    <tr>\n",
       "      <th>2</th>\n",
       "      <td>3</td>\n",
       "      <td>0.0</td>\n",
       "      <td>3.0</td>\n",
       "      <td>58.0</td>\n",
       "      <td>1</td>\n",
       "      <td>43.0</td>\n",
       "      <td>3576.0</td>\n",
       "      <td>0.0</td>\n",
       "      <td>6715.0</td>\n",
       "      <td>49.0</td>\n",
       "      <td>0003</td>\n",
       "      <td>01</td>\n",
       "      <td>A</td>\n",
       "      <td>1990.0</td>\n",
       "    </tr>\n",
       "  </tbody>\n",
       "</table>\n",
       "</div>"
      ],
      "text/plain": [
       "   HomePlanet  CryoSleep  Destination   Age  VIP  RoomService  FoodCourt  \\\n",
       "0           3        0.0          3.0  39.0    0          0.0        0.0   \n",
       "1           3        0.0          3.0  24.0    0        109.0        9.0   \n",
       "2           3        0.0          3.0  58.0    1         43.0     3576.0   \n",
       "\n",
       "   ShoppingMall     Spa  VRDeck GroupId GrpPassId Deck   Lname  \n",
       "0           0.0     0.0     0.0    0001        01    B  1431.0  \n",
       "1          25.0   549.0    44.0    0002        01    F  2109.0  \n",
       "2           0.0  6715.0    49.0    0003        01    A  1990.0  "
      ]
     },
     "execution_count": 189,
     "metadata": {},
     "output_type": "execute_result"
    }
   ],
   "source": [
    "X1_Deck.head(3)"
   ]
  },
  {
   "cell_type": "code",
   "execution_count": 190,
   "metadata": {},
   "outputs": [],
   "source": [
    "deck = {'F':7,'E':6,'D':5,'C':4,'B':3,'A':2,'T':1}\n",
    "X1_Deck['Deck'] = X1_Deck['Deck'].map(deck)"
   ]
  },
  {
   "cell_type": "code",
   "execution_count": 191,
   "metadata": {},
   "outputs": [
    {
     "data": {
      "text/html": [
       "<div>\n",
       "<style scoped>\n",
       "    .dataframe tbody tr th:only-of-type {\n",
       "        vertical-align: middle;\n",
       "    }\n",
       "\n",
       "    .dataframe tbody tr th {\n",
       "        vertical-align: top;\n",
       "    }\n",
       "\n",
       "    .dataframe thead th {\n",
       "        text-align: right;\n",
       "    }\n",
       "</style>\n",
       "<table border=\"1\" class=\"dataframe\">\n",
       "  <thead>\n",
       "    <tr style=\"text-align: right;\">\n",
       "      <th></th>\n",
       "      <th>HomePlanet</th>\n",
       "      <th>CryoSleep</th>\n",
       "      <th>Destination</th>\n",
       "      <th>Age</th>\n",
       "      <th>VIP</th>\n",
       "      <th>RoomService</th>\n",
       "      <th>FoodCourt</th>\n",
       "      <th>ShoppingMall</th>\n",
       "      <th>Spa</th>\n",
       "      <th>VRDeck</th>\n",
       "      <th>GroupId</th>\n",
       "      <th>GrpPassId</th>\n",
       "      <th>Deck</th>\n",
       "      <th>Lname</th>\n",
       "    </tr>\n",
       "  </thead>\n",
       "  <tbody>\n",
       "    <tr>\n",
       "      <th>0</th>\n",
       "      <td>3</td>\n",
       "      <td>0.0</td>\n",
       "      <td>3.0</td>\n",
       "      <td>39.0</td>\n",
       "      <td>0</td>\n",
       "      <td>0.0</td>\n",
       "      <td>0.0</td>\n",
       "      <td>0.0</td>\n",
       "      <td>0.0</td>\n",
       "      <td>0.0</td>\n",
       "      <td>0001</td>\n",
       "      <td>01</td>\n",
       "      <td>3.0</td>\n",
       "      <td>1431.0</td>\n",
       "    </tr>\n",
       "    <tr>\n",
       "      <th>1</th>\n",
       "      <td>3</td>\n",
       "      <td>0.0</td>\n",
       "      <td>3.0</td>\n",
       "      <td>24.0</td>\n",
       "      <td>0</td>\n",
       "      <td>109.0</td>\n",
       "      <td>9.0</td>\n",
       "      <td>25.0</td>\n",
       "      <td>549.0</td>\n",
       "      <td>44.0</td>\n",
       "      <td>0002</td>\n",
       "      <td>01</td>\n",
       "      <td>7.0</td>\n",
       "      <td>2109.0</td>\n",
       "    </tr>\n",
       "    <tr>\n",
       "      <th>2</th>\n",
       "      <td>3</td>\n",
       "      <td>0.0</td>\n",
       "      <td>3.0</td>\n",
       "      <td>58.0</td>\n",
       "      <td>1</td>\n",
       "      <td>43.0</td>\n",
       "      <td>3576.0</td>\n",
       "      <td>0.0</td>\n",
       "      <td>6715.0</td>\n",
       "      <td>49.0</td>\n",
       "      <td>0003</td>\n",
       "      <td>01</td>\n",
       "      <td>2.0</td>\n",
       "      <td>1990.0</td>\n",
       "    </tr>\n",
       "  </tbody>\n",
       "</table>\n",
       "</div>"
      ],
      "text/plain": [
       "   HomePlanet  CryoSleep  Destination   Age  VIP  RoomService  FoodCourt  \\\n",
       "0           3        0.0          3.0  39.0    0          0.0        0.0   \n",
       "1           3        0.0          3.0  24.0    0        109.0        9.0   \n",
       "2           3        0.0          3.0  58.0    1         43.0     3576.0   \n",
       "\n",
       "   ShoppingMall     Spa  VRDeck GroupId GrpPassId  Deck   Lname  \n",
       "0           0.0     0.0     0.0    0001        01   3.0  1431.0  \n",
       "1          25.0   549.0    44.0    0002        01   7.0  2109.0  \n",
       "2           0.0  6715.0    49.0    0003        01   2.0  1990.0  "
      ]
     },
     "execution_count": 191,
     "metadata": {},
     "output_type": "execute_result"
    }
   ],
   "source": [
    "X1_Deck.head(3)"
   ]
  },
  {
   "cell_type": "code",
   "execution_count": 192,
   "metadata": {},
   "outputs": [
    {
     "data": {
      "text/html": [
       "<div>\n",
       "<style scoped>\n",
       "    .dataframe tbody tr th:only-of-type {\n",
       "        vertical-align: middle;\n",
       "    }\n",
       "\n",
       "    .dataframe tbody tr th {\n",
       "        vertical-align: top;\n",
       "    }\n",
       "\n",
       "    .dataframe thead th {\n",
       "        text-align: right;\n",
       "    }\n",
       "</style>\n",
       "<table border=\"1\" class=\"dataframe\">\n",
       "  <thead>\n",
       "    <tr style=\"text-align: right;\">\n",
       "      <th></th>\n",
       "      <th>HomePlanet</th>\n",
       "      <th>CryoSleep</th>\n",
       "      <th>Destination</th>\n",
       "      <th>Age</th>\n",
       "      <th>VIP</th>\n",
       "      <th>RoomService</th>\n",
       "      <th>FoodCourt</th>\n",
       "      <th>ShoppingMall</th>\n",
       "      <th>Spa</th>\n",
       "      <th>VRDeck</th>\n",
       "      <th>GroupId</th>\n",
       "      <th>GrpPassId</th>\n",
       "      <th>Deck</th>\n",
       "      <th>Lname</th>\n",
       "    </tr>\n",
       "  </thead>\n",
       "  <tbody>\n",
       "    <tr>\n",
       "      <th>15</th>\n",
       "      <td>3</td>\n",
       "      <td>0.0</td>\n",
       "      <td>3.0</td>\n",
       "      <td>31.0</td>\n",
       "      <td>0</td>\n",
       "      <td>32.0</td>\n",
       "      <td>0.0</td>\n",
       "      <td>876.0</td>\n",
       "      <td>0.0</td>\n",
       "      <td>0.0</td>\n",
       "      <td>0012</td>\n",
       "      <td>01</td>\n",
       "      <td>NaN</td>\n",
       "      <td>1573.0</td>\n",
       "    </tr>\n",
       "    <tr>\n",
       "      <th>93</th>\n",
       "      <td>1</td>\n",
       "      <td>1.0</td>\n",
       "      <td>3.0</td>\n",
       "      <td>31.0</td>\n",
       "      <td>0</td>\n",
       "      <td>0.0</td>\n",
       "      <td>0.0</td>\n",
       "      <td>0.0</td>\n",
       "      <td>0.0</td>\n",
       "      <td>0.0</td>\n",
       "      <td>0101</td>\n",
       "      <td>01</td>\n",
       "      <td>NaN</td>\n",
       "      <td>2043.0</td>\n",
       "    </tr>\n",
       "    <tr>\n",
       "      <th>103</th>\n",
       "      <td>3</td>\n",
       "      <td>0.0</td>\n",
       "      <td>3.0</td>\n",
       "      <td>32.0</td>\n",
       "      <td>0</td>\n",
       "      <td>0.0</td>\n",
       "      <td>410.0</td>\n",
       "      <td>6.0</td>\n",
       "      <td>3929.0</td>\n",
       "      <td>764.0</td>\n",
       "      <td>0110</td>\n",
       "      <td>01</td>\n",
       "      <td>NaN</td>\n",
       "      <td>26.0</td>\n",
       "    </tr>\n",
       "  </tbody>\n",
       "</table>\n",
       "</div>"
      ],
      "text/plain": [
       "     HomePlanet  CryoSleep  Destination   Age  VIP  RoomService  FoodCourt  \\\n",
       "15            3        0.0          3.0  31.0    0         32.0        0.0   \n",
       "93            1        1.0          3.0  31.0    0          0.0        0.0   \n",
       "103           3        0.0          3.0  32.0    0          0.0      410.0   \n",
       "\n",
       "     ShoppingMall     Spa  VRDeck GroupId GrpPassId Deck   Lname  \n",
       "15          876.0     0.0     0.0    0012        01  NaN  1573.0  \n",
       "93            0.0     0.0     0.0    0101        01  NaN  2043.0  \n",
       "103           6.0  3929.0   764.0    0110        01  NaN    26.0  "
      ]
     },
     "execution_count": 192,
     "metadata": {},
     "output_type": "execute_result"
    }
   ],
   "source": [
    "X1_Deck_test.head(3)"
   ]
  },
  {
   "cell_type": "code",
   "execution_count": 193,
   "metadata": {},
   "outputs": [],
   "source": [
    "x1_Deck_train,x1_Deck_test,y1_Deck_train,y1_Deck_test = train_test_split(X1_Deck.drop(labels=['Deck'],axis=1),X1_Deck['Deck'],test_size=0.3)"
   ]
  },
  {
   "cell_type": "code",
   "execution_count": 194,
   "metadata": {},
   "outputs": [
    {
     "name": "stderr",
     "output_type": "stream",
     "text": [
      "/opt/conda/lib/python3.7/site-packages/xgboost/sklearn.py:1224: UserWarning: The use of label encoder in XGBClassifier is deprecated and will be removed in a future release. To remove this warning, do the following: 1) Pass option use_label_encoder=False when constructing XGBClassifier object; and 2) Encode your labels (y) as integers starting with 0, i.e. 0, 1, 2, ..., [num_class - 1].\n",
      "  warnings.warn(label_encoder_deprecation_msg, UserWarning)\n"
     ]
    },
    {
     "ename": "ValueError",
     "evalue": "y contains previously unseen labels: [nan]",
     "output_type": "error",
     "traceback": [
      "\u001b[0;31m---------------------------------------------------------------------------\u001b[0m",
      "\u001b[0;31mValueError\u001b[0m                                Traceback (most recent call last)",
      "\u001b[0;32m<ipython-input-194-ba2c7bb0c0d7>\u001b[0m in \u001b[0;36m<module>\u001b[0;34m\u001b[0m\n\u001b[1;32m      2\u001b[0m                 'max_depth' : 5, 'alpha' : 10, 'n_estimator' : 10}\n\u001b[1;32m      3\u001b[0m \u001b[0mDeck_model_1\u001b[0m \u001b[0;34m=\u001b[0m \u001b[0mtrain_xgb_model\u001b[0m\u001b[0;34m(\u001b[0m\u001b[0mparameters\u001b[0m\u001b[0;34m)\u001b[0m\u001b[0;34m\u001b[0m\u001b[0;34m\u001b[0m\u001b[0m\n\u001b[0;32m----> 4\u001b[0;31m \u001b[0mfit_model\u001b[0m\u001b[0;34m(\u001b[0m\u001b[0mDeck_model_1\u001b[0m\u001b[0;34m,\u001b[0m\u001b[0mx1_Deck_train\u001b[0m\u001b[0;34m,\u001b[0m\u001b[0my1_Deck_train\u001b[0m\u001b[0;34m)\u001b[0m\u001b[0;34m\u001b[0m\u001b[0;34m\u001b[0m\u001b[0m\n\u001b[0m\u001b[1;32m      5\u001b[0m \u001b[0mDeck_model_1\u001b[0m\u001b[0;34m.\u001b[0m\u001b[0mfit\u001b[0m\u001b[0;34m(\u001b[0m\u001b[0mx1_Deck_train\u001b[0m\u001b[0;34m,\u001b[0m\u001b[0my1_Deck_train\u001b[0m\u001b[0;34m)\u001b[0m\u001b[0;34m\u001b[0m\u001b[0;34m\u001b[0m\u001b[0m\n\u001b[1;32m      6\u001b[0m \u001b[0my1_Deck_pred\u001b[0m \u001b[0;34m=\u001b[0m \u001b[0mpredict_results\u001b[0m\u001b[0;34m(\u001b[0m\u001b[0mDeck_model_1\u001b[0m\u001b[0;34m,\u001b[0m\u001b[0mx1_Deck_train\u001b[0m\u001b[0;34m)\u001b[0m\u001b[0;34m\u001b[0m\u001b[0;34m\u001b[0m\u001b[0m\n",
      "\u001b[0;32m<ipython-input-147-af75a4c2efa8>\u001b[0m in \u001b[0;36mfit_model\u001b[0;34m(model, X_train, y_train)\u001b[0m\n\u001b[1;32m      6\u001b[0m     \u001b[0;32mreturn\u001b[0m \u001b[0mmodel\u001b[0m\u001b[0;34m\u001b[0m\u001b[0;34m\u001b[0m\u001b[0m\n\u001b[1;32m      7\u001b[0m \u001b[0;32mdef\u001b[0m \u001b[0mfit_model\u001b[0m\u001b[0;34m(\u001b[0m\u001b[0mmodel\u001b[0m\u001b[0;34m,\u001b[0m\u001b[0mX_train\u001b[0m\u001b[0;34m,\u001b[0m\u001b[0my_train\u001b[0m\u001b[0;34m)\u001b[0m\u001b[0;34m:\u001b[0m\u001b[0;34m\u001b[0m\u001b[0;34m\u001b[0m\u001b[0m\n\u001b[0;32m----> 8\u001b[0;31m     \u001b[0mmodel\u001b[0m\u001b[0;34m.\u001b[0m\u001b[0mfit\u001b[0m\u001b[0;34m(\u001b[0m\u001b[0mX_train\u001b[0m\u001b[0;34m,\u001b[0m\u001b[0my_train\u001b[0m\u001b[0;34m)\u001b[0m\u001b[0;34m\u001b[0m\u001b[0;34m\u001b[0m\u001b[0m\n\u001b[0m\u001b[1;32m      9\u001b[0m \u001b[0;34m\u001b[0m\u001b[0m\n\u001b[1;32m     10\u001b[0m \u001b[0;32mdef\u001b[0m \u001b[0mpredict_results\u001b[0m\u001b[0;34m(\u001b[0m\u001b[0mmodel\u001b[0m\u001b[0;34m,\u001b[0m\u001b[0mX\u001b[0m\u001b[0;34m)\u001b[0m\u001b[0;34m:\u001b[0m\u001b[0;34m\u001b[0m\u001b[0;34m\u001b[0m\u001b[0m\n",
      "\u001b[0;32m/opt/conda/lib/python3.7/site-packages/xgboost/core.py\u001b[0m in \u001b[0;36minner_f\u001b[0;34m(*args, **kwargs)\u001b[0m\n\u001b[1;32m    504\u001b[0m         \u001b[0;32mfor\u001b[0m \u001b[0mk\u001b[0m\u001b[0;34m,\u001b[0m \u001b[0marg\u001b[0m \u001b[0;32min\u001b[0m \u001b[0mzip\u001b[0m\u001b[0;34m(\u001b[0m\u001b[0msig\u001b[0m\u001b[0;34m.\u001b[0m\u001b[0mparameters\u001b[0m\u001b[0;34m,\u001b[0m \u001b[0margs\u001b[0m\u001b[0;34m)\u001b[0m\u001b[0;34m:\u001b[0m\u001b[0;34m\u001b[0m\u001b[0;34m\u001b[0m\u001b[0m\n\u001b[1;32m    505\u001b[0m             \u001b[0mkwargs\u001b[0m\u001b[0;34m[\u001b[0m\u001b[0mk\u001b[0m\u001b[0;34m]\u001b[0m \u001b[0;34m=\u001b[0m \u001b[0marg\u001b[0m\u001b[0;34m\u001b[0m\u001b[0;34m\u001b[0m\u001b[0m\n\u001b[0;32m--> 506\u001b[0;31m         \u001b[0;32mreturn\u001b[0m \u001b[0mf\u001b[0m\u001b[0;34m(\u001b[0m\u001b[0;34m**\u001b[0m\u001b[0mkwargs\u001b[0m\u001b[0;34m)\u001b[0m\u001b[0;34m\u001b[0m\u001b[0;34m\u001b[0m\u001b[0m\n\u001b[0m\u001b[1;32m    507\u001b[0m \u001b[0;34m\u001b[0m\u001b[0m\n\u001b[1;32m    508\u001b[0m     \u001b[0;32mreturn\u001b[0m \u001b[0minner_f\u001b[0m\u001b[0;34m\u001b[0m\u001b[0;34m\u001b[0m\u001b[0m\n",
      "\u001b[0;32m/opt/conda/lib/python3.7/site-packages/xgboost/sklearn.py\u001b[0m in \u001b[0;36mfit\u001b[0;34m(self, X, y, sample_weight, base_margin, eval_set, eval_metric, early_stopping_rounds, verbose, xgb_model, sample_weight_eval_set, base_margin_eval_set, feature_weights, callbacks)\u001b[0m\n\u001b[1;32m   1245\u001b[0m             \u001b[0mcreate_dmatrix\u001b[0m\u001b[0;34m=\u001b[0m\u001b[0;32mlambda\u001b[0m \u001b[0;34m**\u001b[0m\u001b[0mkwargs\u001b[0m\u001b[0;34m:\u001b[0m \u001b[0mDMatrix\u001b[0m\u001b[0;34m(\u001b[0m\u001b[0mnthread\u001b[0m\u001b[0;34m=\u001b[0m\u001b[0mself\u001b[0m\u001b[0;34m.\u001b[0m\u001b[0mn_jobs\u001b[0m\u001b[0;34m,\u001b[0m \u001b[0;34m**\u001b[0m\u001b[0mkwargs\u001b[0m\u001b[0;34m)\u001b[0m\u001b[0;34m,\u001b[0m\u001b[0;34m\u001b[0m\u001b[0;34m\u001b[0m\u001b[0m\n\u001b[1;32m   1246\u001b[0m             \u001b[0menable_categorical\u001b[0m\u001b[0;34m=\u001b[0m\u001b[0mself\u001b[0m\u001b[0;34m.\u001b[0m\u001b[0menable_categorical\u001b[0m\u001b[0;34m,\u001b[0m\u001b[0;34m\u001b[0m\u001b[0;34m\u001b[0m\u001b[0m\n\u001b[0;32m-> 1247\u001b[0;31m             \u001b[0mlabel_transform\u001b[0m\u001b[0;34m=\u001b[0m\u001b[0mlabel_transform\u001b[0m\u001b[0;34m,\u001b[0m\u001b[0;34m\u001b[0m\u001b[0;34m\u001b[0m\u001b[0m\n\u001b[0m\u001b[1;32m   1248\u001b[0m         )\n\u001b[1;32m   1249\u001b[0m \u001b[0;34m\u001b[0m\u001b[0m\n",
      "\u001b[0;32m/opt/conda/lib/python3.7/site-packages/xgboost/sklearn.py\u001b[0m in \u001b[0;36m_wrap_evaluation_matrices\u001b[0;34m(missing, X, y, group, qid, sample_weight, base_margin, feature_weights, eval_set, sample_weight_eval_set, base_margin_eval_set, eval_group, eval_qid, create_dmatrix, enable_categorical, label_transform)\u001b[0m\n\u001b[1;32m    286\u001b[0m     train_dmatrix = create_dmatrix(\n\u001b[1;32m    287\u001b[0m         \u001b[0mdata\u001b[0m\u001b[0;34m=\u001b[0m\u001b[0mX\u001b[0m\u001b[0;34m,\u001b[0m\u001b[0;34m\u001b[0m\u001b[0;34m\u001b[0m\u001b[0m\n\u001b[0;32m--> 288\u001b[0;31m         \u001b[0mlabel\u001b[0m\u001b[0;34m=\u001b[0m\u001b[0mlabel_transform\u001b[0m\u001b[0;34m(\u001b[0m\u001b[0my\u001b[0m\u001b[0;34m)\u001b[0m\u001b[0;34m,\u001b[0m\u001b[0;34m\u001b[0m\u001b[0;34m\u001b[0m\u001b[0m\n\u001b[0m\u001b[1;32m    289\u001b[0m         \u001b[0mgroup\u001b[0m\u001b[0;34m=\u001b[0m\u001b[0mgroup\u001b[0m\u001b[0;34m,\u001b[0m\u001b[0;34m\u001b[0m\u001b[0;34m\u001b[0m\u001b[0m\n\u001b[1;32m    290\u001b[0m         \u001b[0mqid\u001b[0m\u001b[0;34m=\u001b[0m\u001b[0mqid\u001b[0m\u001b[0;34m,\u001b[0m\u001b[0;34m\u001b[0m\u001b[0;34m\u001b[0m\u001b[0m\n",
      "\u001b[0;32m/opt/conda/lib/python3.7/site-packages/sklearn/preprocessing/_label.py\u001b[0m in \u001b[0;36mtransform\u001b[0;34m(self, y)\u001b[0m\n\u001b[1;32m    271\u001b[0m             \u001b[0;32mreturn\u001b[0m \u001b[0mnp\u001b[0m\u001b[0;34m.\u001b[0m\u001b[0marray\u001b[0m\u001b[0;34m(\u001b[0m\u001b[0;34m[\u001b[0m\u001b[0;34m]\u001b[0m\u001b[0;34m)\u001b[0m\u001b[0;34m\u001b[0m\u001b[0;34m\u001b[0m\u001b[0m\n\u001b[1;32m    272\u001b[0m \u001b[0;34m\u001b[0m\u001b[0m\n\u001b[0;32m--> 273\u001b[0;31m         \u001b[0m_\u001b[0m\u001b[0;34m,\u001b[0m \u001b[0my\u001b[0m \u001b[0;34m=\u001b[0m \u001b[0m_encode\u001b[0m\u001b[0;34m(\u001b[0m\u001b[0my\u001b[0m\u001b[0;34m,\u001b[0m \u001b[0muniques\u001b[0m\u001b[0;34m=\u001b[0m\u001b[0mself\u001b[0m\u001b[0;34m.\u001b[0m\u001b[0mclasses_\u001b[0m\u001b[0;34m,\u001b[0m \u001b[0mencode\u001b[0m\u001b[0;34m=\u001b[0m\u001b[0;32mTrue\u001b[0m\u001b[0;34m)\u001b[0m\u001b[0;34m\u001b[0m\u001b[0;34m\u001b[0m\u001b[0m\n\u001b[0m\u001b[1;32m    274\u001b[0m         \u001b[0;32mreturn\u001b[0m \u001b[0my\u001b[0m\u001b[0;34m\u001b[0m\u001b[0;34m\u001b[0m\u001b[0m\n\u001b[1;32m    275\u001b[0m \u001b[0;34m\u001b[0m\u001b[0m\n",
      "\u001b[0;32m/opt/conda/lib/python3.7/site-packages/sklearn/preprocessing/_label.py\u001b[0m in \u001b[0;36m_encode\u001b[0;34m(values, uniques, encode, check_unknown)\u001b[0m\n\u001b[1;32m    116\u001b[0m     \u001b[0;32melse\u001b[0m\u001b[0;34m:\u001b[0m\u001b[0;34m\u001b[0m\u001b[0;34m\u001b[0m\u001b[0m\n\u001b[1;32m    117\u001b[0m         return _encode_numpy(values, uniques, encode,\n\u001b[0;32m--> 118\u001b[0;31m                              check_unknown=check_unknown)\n\u001b[0m\u001b[1;32m    119\u001b[0m \u001b[0;34m\u001b[0m\u001b[0m\n\u001b[1;32m    120\u001b[0m \u001b[0;34m\u001b[0m\u001b[0m\n",
      "\u001b[0;32m/opt/conda/lib/python3.7/site-packages/sklearn/preprocessing/_label.py\u001b[0m in \u001b[0;36m_encode_numpy\u001b[0;34m(values, uniques, encode, check_unknown)\u001b[0m\n\u001b[1;32m     48\u001b[0m             \u001b[0;32mif\u001b[0m \u001b[0mdiff\u001b[0m\u001b[0;34m:\u001b[0m\u001b[0;34m\u001b[0m\u001b[0;34m\u001b[0m\u001b[0m\n\u001b[1;32m     49\u001b[0m                 raise ValueError(\"y contains previously unseen labels: %s\"\n\u001b[0;32m---> 50\u001b[0;31m                                  % str(diff))\n\u001b[0m\u001b[1;32m     51\u001b[0m         \u001b[0mencoded\u001b[0m \u001b[0;34m=\u001b[0m \u001b[0mnp\u001b[0m\u001b[0;34m.\u001b[0m\u001b[0msearchsorted\u001b[0m\u001b[0;34m(\u001b[0m\u001b[0muniques\u001b[0m\u001b[0;34m,\u001b[0m \u001b[0mvalues\u001b[0m\u001b[0;34m)\u001b[0m\u001b[0;34m\u001b[0m\u001b[0;34m\u001b[0m\u001b[0m\n\u001b[1;32m     52\u001b[0m         \u001b[0;32mreturn\u001b[0m \u001b[0muniques\u001b[0m\u001b[0;34m,\u001b[0m \u001b[0mencoded\u001b[0m\u001b[0;34m\u001b[0m\u001b[0;34m\u001b[0m\u001b[0m\n",
      "\u001b[0;31mValueError\u001b[0m: y contains previously unseen labels: [nan]"
     ]
    }
   ],
   "source": [
    "parameters = {'objective' :'reg:squarederror', 'colsample_bytree' : 0.3, 'learning_rate' : 0.1,\n",
    "                'max_depth' : 5, 'alpha' : 10, 'n_estimator' : 10}\n",
    "Deck_model_1 = train_xgb_model(parameters)\n",
    "fit_model(Deck_model_1,x1_Deck_train,y1_Deck_train)\n",
    "Deck_model_1.fit(x1_Deck_train,y1_Deck_train)\n",
    "y1_Deck_pred = predict_results(Deck_model_1,x1_Deck_train)\n",
    "acc = calculate_acc(Deck_model_1,y1_Deck_test,y1_Deck_pred)\n",
    "acc*100"
   ]
  },
  {
   "cell_type": "code",
   "execution_count": 196,
   "metadata": {},
   "outputs": [
    {
     "data": {
      "text/plain": [
       "1937"
      ]
     },
     "execution_count": 196,
     "metadata": {},
     "output_type": "execute_result"
    }
   ],
   "source": [
    "y1_Deck_train.isna().sum()"
   ]
  },
  {
   "cell_type": "code",
   "execution_count": 197,
   "metadata": {},
   "outputs": [
    {
     "data": {
      "text/plain": [
       "6085"
      ]
     },
     "execution_count": 197,
     "metadata": {},
     "output_type": "execute_result"
    }
   ],
   "source": [
    "len(y1_Deck_train)"
   ]
  },
  {
   "cell_type": "code",
   "execution_count": null,
   "metadata": {},
   "outputs": [],
   "source": []
  }
 ],
 "metadata": {
  "kernelspec": {
   "display_name": "Python 3 (Data Science)",
   "language": "python",
   "name": "python3__SAGEMAKER_INTERNAL__arn:aws:sagemaker:ap-south-1:394103062818:image/datascience-1.0"
  },
  "language_info": {
   "codemirror_mode": {
    "name": "ipython",
    "version": 3
   },
   "file_extension": ".py",
   "mimetype": "text/x-python",
   "name": "python",
   "nbconvert_exporter": "python",
   "pygments_lexer": "ipython3",
   "version": "3.7.10"
  }
 },
 "nbformat": 4,
 "nbformat_minor": 4
}
