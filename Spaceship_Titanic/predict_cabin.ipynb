{
 "cells": [
  {
   "cell_type": "code",
   "execution_count": 1,
   "metadata": {},
   "outputs": [],
   "source": [
    "import pandas as pd\n",
    "import numpy as np\n",
    "import xgboost\n",
    "#import matlpotlib.pyplot as plt\n",
    "import pickle"
   ]
  },
  {
   "cell_type": "code",
   "execution_count": 2,
   "metadata": {},
   "outputs": [],
   "source": [
    "#pip install --upgrade numpy"
   ]
  },
  {
   "cell_type": "code",
   "execution_count": 3,
   "metadata": {},
   "outputs": [],
   "source": [
    "from sklearn.preprocessing import OrdinalEncoder\n",
    "from sklearn.model_selection import train_test_split\n",
    "from sklearn.metrics import accuracy_score\n",
    "from sklearn.model_selection import RandomizedSearchCV"
   ]
  },
  {
   "cell_type": "code",
   "execution_count": 4,
   "metadata": {},
   "outputs": [],
   "source": [
    "#pip install xgboost"
   ]
  },
  {
   "cell_type": "code",
   "execution_count": 5,
   "metadata": {},
   "outputs": [
    {
     "data": {
      "text/html": [
       "<div>\n",
       "<style scoped>\n",
       "    .dataframe tbody tr th:only-of-type {\n",
       "        vertical-align: middle;\n",
       "    }\n",
       "\n",
       "    .dataframe tbody tr th {\n",
       "        vertical-align: top;\n",
       "    }\n",
       "\n",
       "    .dataframe thead th {\n",
       "        text-align: right;\n",
       "    }\n",
       "</style>\n",
       "<table border=\"1\" class=\"dataframe\">\n",
       "  <thead>\n",
       "    <tr style=\"text-align: right;\">\n",
       "      <th></th>\n",
       "      <th>PassengerId</th>\n",
       "      <th>HomePlanet</th>\n",
       "      <th>CryoSleep</th>\n",
       "      <th>Cabin</th>\n",
       "      <th>Destination</th>\n",
       "      <th>Age</th>\n",
       "      <th>VIP</th>\n",
       "      <th>RoomService</th>\n",
       "      <th>FoodCourt</th>\n",
       "      <th>ShoppingMall</th>\n",
       "      <th>...</th>\n",
       "      <th>VRDeck</th>\n",
       "      <th>Name</th>\n",
       "      <th>Transported</th>\n",
       "      <th>GroupId</th>\n",
       "      <th>GrpPassId</th>\n",
       "      <th>Deck</th>\n",
       "      <th>Decknum</th>\n",
       "      <th>DeckSide</th>\n",
       "      <th>Expenditure</th>\n",
       "      <th>Adult</th>\n",
       "    </tr>\n",
       "  </thead>\n",
       "  <tbody>\n",
       "    <tr>\n",
       "      <th>0</th>\n",
       "      <td>0001_01</td>\n",
       "      <td>Europa</td>\n",
       "      <td>True</td>\n",
       "      <td>B/0/P</td>\n",
       "      <td>TRAPPIST-1e</td>\n",
       "      <td>39.0</td>\n",
       "      <td>False</td>\n",
       "      <td>0.0</td>\n",
       "      <td>0.0</td>\n",
       "      <td>0.0</td>\n",
       "      <td>...</td>\n",
       "      <td>0.0</td>\n",
       "      <td>Maham Ofracculy</td>\n",
       "      <td>False</td>\n",
       "      <td>1</td>\n",
       "      <td>1</td>\n",
       "      <td>B</td>\n",
       "      <td>0.0</td>\n",
       "      <td>P</td>\n",
       "      <td>0.0</td>\n",
       "      <td>1</td>\n",
       "    </tr>\n",
       "    <tr>\n",
       "      <th>1</th>\n",
       "      <td>0002_01</td>\n",
       "      <td>Earth</td>\n",
       "      <td>False</td>\n",
       "      <td>F/0/S</td>\n",
       "      <td>TRAPPIST-1e</td>\n",
       "      <td>24.0</td>\n",
       "      <td>False</td>\n",
       "      <td>109.0</td>\n",
       "      <td>9.0</td>\n",
       "      <td>25.0</td>\n",
       "      <td>...</td>\n",
       "      <td>44.0</td>\n",
       "      <td>Juanna Vines</td>\n",
       "      <td>True</td>\n",
       "      <td>2</td>\n",
       "      <td>1</td>\n",
       "      <td>F</td>\n",
       "      <td>0.0</td>\n",
       "      <td>S</td>\n",
       "      <td>736.0</td>\n",
       "      <td>1</td>\n",
       "    </tr>\n",
       "    <tr>\n",
       "      <th>2</th>\n",
       "      <td>0003_01</td>\n",
       "      <td>Europa</td>\n",
       "      <td>False</td>\n",
       "      <td>A/0/S</td>\n",
       "      <td>TRAPPIST-1e</td>\n",
       "      <td>58.0</td>\n",
       "      <td>True</td>\n",
       "      <td>43.0</td>\n",
       "      <td>3576.0</td>\n",
       "      <td>0.0</td>\n",
       "      <td>...</td>\n",
       "      <td>49.0</td>\n",
       "      <td>Altark Susent</td>\n",
       "      <td>False</td>\n",
       "      <td>3</td>\n",
       "      <td>1</td>\n",
       "      <td>A</td>\n",
       "      <td>0.0</td>\n",
       "      <td>S</td>\n",
       "      <td>10383.0</td>\n",
       "      <td>1</td>\n",
       "    </tr>\n",
       "  </tbody>\n",
       "</table>\n",
       "<p>3 rows × 21 columns</p>\n",
       "</div>"
      ],
      "text/plain": [
       "  PassengerId HomePlanet  CryoSleep  Cabin  Destination   Age    VIP  \\\n",
       "0     0001_01     Europa       True  B/0/P  TRAPPIST-1e  39.0  False   \n",
       "1     0002_01      Earth      False  F/0/S  TRAPPIST-1e  24.0  False   \n",
       "2     0003_01     Europa      False  A/0/S  TRAPPIST-1e  58.0   True   \n",
       "\n",
       "   RoomService  FoodCourt  ShoppingMall  ...  VRDeck             Name  \\\n",
       "0          0.0        0.0           0.0  ...     0.0  Maham Ofracculy   \n",
       "1        109.0        9.0          25.0  ...    44.0     Juanna Vines   \n",
       "2         43.0     3576.0           0.0  ...    49.0    Altark Susent   \n",
       "\n",
       "  Transported  GroupId  GrpPassId  Deck Decknum  DeckSide Expenditure  Adult  \n",
       "0       False        1          1     B     0.0         P         0.0      1  \n",
       "1        True        2          1     F     0.0         S       736.0      1  \n",
       "2       False        3          1     A     0.0         S     10383.0      1  \n",
       "\n",
       "[3 rows x 21 columns]"
      ]
     },
     "execution_count": 5,
     "metadata": {},
     "output_type": "execute_result"
    }
   ],
   "source": [
    "data_path = 'data/train_df.csv'\n",
    "df = pd.read_csv(data_path)\n",
    "df.head(3)"
   ]
  },
  {
   "cell_type": "code",
   "execution_count": 6,
   "metadata": {},
   "outputs": [
    {
     "data": {
      "text/plain": [
       "['PassengerId',\n",
       " 'HomePlanet',\n",
       " 'CryoSleep',\n",
       " 'Cabin',\n",
       " 'Destination',\n",
       " 'Age',\n",
       " 'VIP',\n",
       " 'RoomService',\n",
       " 'FoodCourt',\n",
       " 'ShoppingMall',\n",
       " 'Spa',\n",
       " 'VRDeck',\n",
       " 'Name',\n",
       " 'Transported',\n",
       " 'GroupId',\n",
       " 'GrpPassId',\n",
       " 'Deck',\n",
       " 'Decknum',\n",
       " 'DeckSide',\n",
       " 'Expenditure',\n",
       " 'Adult']"
      ]
     },
     "execution_count": 6,
     "metadata": {},
     "output_type": "execute_result"
    }
   ],
   "source": [
    "list(df.columns)"
   ]
  },
  {
   "cell_type": "code",
   "execution_count": 7,
   "metadata": {},
   "outputs": [
    {
     "name": "stdout",
     "output_type": "stream",
     "text": [
      "<class 'pandas.core.frame.DataFrame'>\n",
      "RangeIndex: 8693 entries, 0 to 8692\n",
      "Data columns (total 21 columns):\n",
      " #   Column        Non-Null Count  Dtype  \n",
      "---  ------        --------------  -----  \n",
      " 0   PassengerId   8693 non-null   object \n",
      " 1   HomePlanet    8693 non-null   object \n",
      " 2   CryoSleep     8693 non-null   bool   \n",
      " 3   Cabin         8494 non-null   object \n",
      " 4   Destination   8511 non-null   object \n",
      " 5   Age           8514 non-null   float64\n",
      " 6   VIP           8490 non-null   object \n",
      " 7   RoomService   8512 non-null   float64\n",
      " 8   FoodCourt     8510 non-null   float64\n",
      " 9   ShoppingMall  8485 non-null   float64\n",
      " 10  Spa           8510 non-null   float64\n",
      " 11  VRDeck        8505 non-null   float64\n",
      " 12  Name          8493 non-null   object \n",
      " 13  Transported   8693 non-null   bool   \n",
      " 14  GroupId       8693 non-null   int64  \n",
      " 15  GrpPassId     8693 non-null   int64  \n",
      " 16  Deck          8494 non-null   object \n",
      " 17  Decknum       8494 non-null   float64\n",
      " 18  DeckSide      8494 non-null   object \n",
      " 19  Expenditure   7785 non-null   float64\n",
      " 20  Adult         8693 non-null   int64  \n",
      "dtypes: bool(2), float64(8), int64(3), object(8)\n",
      "memory usage: 1.3+ MB\n"
     ]
    }
   ],
   "source": [
    "df.info()"
   ]
  },
  {
   "cell_type": "code",
   "execution_count": 8,
   "metadata": {},
   "outputs": [
    {
     "data": {
      "text/plain": [
       "\"list_cat = [[True,False],['Earth','Europa','Mars'],['TRAPPIST-1e','Cancri e','PSO J318.5-22'],['F','E','D','C','B','A','T'],['S','P']]\\no_enc = OrdinalEncoder(categories=cat_cols)\\ndf = o_enc.fit_transform(df)\\ndf.head(3)\""
      ]
     },
     "execution_count": 8,
     "metadata": {},
     "output_type": "execute_result"
    }
   ],
   "source": [
    "\"\"\"list_cat = [[True,False],['Earth','Europa','Mars'],['TRAPPIST-1e','Cancri e','PSO J318.5-22'],['F','E','D','C','B','A','T'],['S','P']]\n",
    "o_enc = OrdinalEncoder(categories=cat_cols)\n",
    "df = o_enc.fit_transform(df)\n",
    "df.head(3)\"\"\""
   ]
  },
  {
   "cell_type": "code",
   "execution_count": 9,
   "metadata": {},
   "outputs": [
    {
     "data": {
      "text/html": [
       "<div>\n",
       "<style scoped>\n",
       "    .dataframe tbody tr th:only-of-type {\n",
       "        vertical-align: middle;\n",
       "    }\n",
       "\n",
       "    .dataframe tbody tr th {\n",
       "        vertical-align: top;\n",
       "    }\n",
       "\n",
       "    .dataframe thead th {\n",
       "        text-align: right;\n",
       "    }\n",
       "</style>\n",
       "<table border=\"1\" class=\"dataframe\">\n",
       "  <thead>\n",
       "    <tr style=\"text-align: right;\">\n",
       "      <th></th>\n",
       "      <th>PassengerId</th>\n",
       "      <th>HomePlanet</th>\n",
       "      <th>CryoSleep</th>\n",
       "      <th>Cabin</th>\n",
       "      <th>Destination</th>\n",
       "      <th>Age</th>\n",
       "      <th>VIP</th>\n",
       "      <th>RoomService</th>\n",
       "      <th>FoodCourt</th>\n",
       "      <th>ShoppingMall</th>\n",
       "      <th>...</th>\n",
       "      <th>VRDeck</th>\n",
       "      <th>Name</th>\n",
       "      <th>Transported</th>\n",
       "      <th>GroupId</th>\n",
       "      <th>GrpPassId</th>\n",
       "      <th>Deck</th>\n",
       "      <th>Decknum</th>\n",
       "      <th>DeckSide</th>\n",
       "      <th>Expenditure</th>\n",
       "      <th>Adult</th>\n",
       "    </tr>\n",
       "  </thead>\n",
       "  <tbody>\n",
       "    <tr>\n",
       "      <th>0</th>\n",
       "      <td>0001_01</td>\n",
       "      <td>Europa</td>\n",
       "      <td>True</td>\n",
       "      <td>B/0/P</td>\n",
       "      <td>TRAPPIST-1e</td>\n",
       "      <td>39.0</td>\n",
       "      <td>False</td>\n",
       "      <td>0.0</td>\n",
       "      <td>0.0</td>\n",
       "      <td>0.0</td>\n",
       "      <td>...</td>\n",
       "      <td>0.0</td>\n",
       "      <td>Maham Ofracculy</td>\n",
       "      <td>False</td>\n",
       "      <td>1</td>\n",
       "      <td>1</td>\n",
       "      <td>B</td>\n",
       "      <td>0.0</td>\n",
       "      <td>P</td>\n",
       "      <td>0.0</td>\n",
       "      <td>1</td>\n",
       "    </tr>\n",
       "    <tr>\n",
       "      <th>1</th>\n",
       "      <td>0002_01</td>\n",
       "      <td>Earth</td>\n",
       "      <td>False</td>\n",
       "      <td>F/0/S</td>\n",
       "      <td>TRAPPIST-1e</td>\n",
       "      <td>24.0</td>\n",
       "      <td>False</td>\n",
       "      <td>109.0</td>\n",
       "      <td>9.0</td>\n",
       "      <td>25.0</td>\n",
       "      <td>...</td>\n",
       "      <td>44.0</td>\n",
       "      <td>Juanna Vines</td>\n",
       "      <td>True</td>\n",
       "      <td>2</td>\n",
       "      <td>1</td>\n",
       "      <td>F</td>\n",
       "      <td>0.0</td>\n",
       "      <td>S</td>\n",
       "      <td>736.0</td>\n",
       "      <td>1</td>\n",
       "    </tr>\n",
       "    <tr>\n",
       "      <th>2</th>\n",
       "      <td>0003_01</td>\n",
       "      <td>Europa</td>\n",
       "      <td>False</td>\n",
       "      <td>A/0/S</td>\n",
       "      <td>TRAPPIST-1e</td>\n",
       "      <td>58.0</td>\n",
       "      <td>True</td>\n",
       "      <td>43.0</td>\n",
       "      <td>3576.0</td>\n",
       "      <td>0.0</td>\n",
       "      <td>...</td>\n",
       "      <td>49.0</td>\n",
       "      <td>Altark Susent</td>\n",
       "      <td>False</td>\n",
       "      <td>3</td>\n",
       "      <td>1</td>\n",
       "      <td>A</td>\n",
       "      <td>0.0</td>\n",
       "      <td>S</td>\n",
       "      <td>10383.0</td>\n",
       "      <td>1</td>\n",
       "    </tr>\n",
       "  </tbody>\n",
       "</table>\n",
       "<p>3 rows × 21 columns</p>\n",
       "</div>"
      ],
      "text/plain": [
       "  PassengerId HomePlanet  CryoSleep  Cabin  Destination   Age    VIP  \\\n",
       "0     0001_01     Europa       True  B/0/P  TRAPPIST-1e  39.0  False   \n",
       "1     0002_01      Earth      False  F/0/S  TRAPPIST-1e  24.0  False   \n",
       "2     0003_01     Europa      False  A/0/S  TRAPPIST-1e  58.0   True   \n",
       "\n",
       "   RoomService  FoodCourt  ShoppingMall  ...  VRDeck             Name  \\\n",
       "0          0.0        0.0           0.0  ...     0.0  Maham Ofracculy   \n",
       "1        109.0        9.0          25.0  ...    44.0     Juanna Vines   \n",
       "2         43.0     3576.0           0.0  ...    49.0    Altark Susent   \n",
       "\n",
       "  Transported  GroupId  GrpPassId  Deck Decknum  DeckSide Expenditure  Adult  \n",
       "0       False        1          1     B     0.0         P         0.0      1  \n",
       "1        True        2          1     F     0.0         S       736.0      1  \n",
       "2       False        3          1     A     0.0         S     10383.0      1  \n",
       "\n",
       "[3 rows x 21 columns]"
      ]
     },
     "execution_count": 9,
     "metadata": {},
     "output_type": "execute_result"
    }
   ],
   "source": [
    "df.head(3)"
   ]
  },
  {
   "cell_type": "code",
   "execution_count": 10,
   "metadata": {},
   "outputs": [],
   "source": [
    "df.drop(labels=['Name','Cabin'],axis=1,inplace=True)"
   ]
  },
  {
   "cell_type": "code",
   "execution_count": 11,
   "metadata": {},
   "outputs": [
    {
     "data": {
      "text/plain": [
       "['HomePlanet', 'Destination', 'VIP', 'Deck', 'DeckSide']"
      ]
     },
     "execution_count": 11,
     "metadata": {},
     "output_type": "execute_result"
    }
   ],
   "source": [
    "cat_cols = list(df.select_dtypes('object').columns.values)\n",
    "cat_cols.remove('PassengerId')\n",
    "cat_cols"
   ]
  },
  {
   "cell_type": "code",
   "execution_count": 12,
   "metadata": {},
   "outputs": [
    {
     "name": "stdout",
     "output_type": "stream",
     "text": [
      "HomePlanet\n",
      "Earth     4772\n",
      "Europa    2162\n",
      "Mars      1759\n",
      "Name: HomePlanet, dtype: int64\n",
      "Destination\n",
      "TRAPPIST-1e      5915\n",
      "55 Cancri e      1800\n",
      "PSO J318.5-22     796\n",
      "Name: Destination, dtype: int64\n",
      "VIP\n",
      "False    8291\n",
      "True      199\n",
      "Name: VIP, dtype: int64\n",
      "Deck\n",
      "F    2794\n",
      "G    2559\n",
      "E     876\n",
      "B     779\n",
      "C     747\n",
      "D     478\n",
      "A     256\n",
      "T       5\n",
      "Name: Deck, dtype: int64\n",
      "DeckSide\n",
      "S    4288\n",
      "P    4206\n",
      "Name: DeckSide, dtype: int64\n"
     ]
    }
   ],
   "source": [
    "#df['HomePlanet'].value_counts()\n",
    "for col in cat_cols:\n",
    "    print(col)\n",
    "    print(df[col].value_counts())"
   ]
  },
  {
   "cell_type": "code",
   "execution_count": 13,
   "metadata": {},
   "outputs": [],
   "source": [
    "tf = {True:1,False:0}\n",
    "home_planet = {'Earth':3,'Europa':3,'Mars':1}\n",
    "dest_planet = {'TRAPPIST-1e':3,'Cancri e':2,'PSO J318.5-22':1}\n",
    "deck = {'F':7,'E':6,'D':5,'C':4,'B':3,'A':2,'T':1}\n",
    "port = {'S':0,'P':1}\n"
   ]
  },
  {
   "cell_type": "code",
   "execution_count": 14,
   "metadata": {},
   "outputs": [],
   "source": [
    "df['CryoSleep'] = df['CryoSleep'].map(tf)\n",
    "df['Destination'] = df['Destination'].map(dest_planet)\n",
    "df['HomePlanet'] = df['HomePlanet'].map(home_planet)\n",
    "df['VIP'] = df['VIP'].map(tf)\n",
    "df['Deck'] = df['Deck'].map(deck)\n",
    "df['DeckSide'] = df['DeckSide'].map(port)\n",
    "df['Transported'] = df['Transported'].map(tf)"
   ]
  },
  {
   "cell_type": "code",
   "execution_count": 15,
   "metadata": {},
   "outputs": [
    {
     "name": "stdout",
     "output_type": "stream",
     "text": [
      "<class 'pandas.core.frame.DataFrame'>\n",
      "RangeIndex: 8693 entries, 0 to 8692\n",
      "Data columns (total 19 columns):\n",
      " #   Column        Non-Null Count  Dtype  \n",
      "---  ------        --------------  -----  \n",
      " 0   PassengerId   8693 non-null   object \n",
      " 1   HomePlanet    8693 non-null   int64  \n",
      " 2   CryoSleep     8693 non-null   int64  \n",
      " 3   Destination   6711 non-null   float64\n",
      " 4   Age           8514 non-null   float64\n",
      " 5   VIP           8490 non-null   float64\n",
      " 6   RoomService   8512 non-null   float64\n",
      " 7   FoodCourt     8510 non-null   float64\n",
      " 8   ShoppingMall  8485 non-null   float64\n",
      " 9   Spa           8510 non-null   float64\n",
      " 10  VRDeck        8505 non-null   float64\n",
      " 11  Transported   8693 non-null   int64  \n",
      " 12  GroupId       8693 non-null   int64  \n",
      " 13  GrpPassId     8693 non-null   int64  \n",
      " 14  Deck          5935 non-null   float64\n",
      " 15  Decknum       8494 non-null   float64\n",
      " 16  DeckSide      8494 non-null   float64\n",
      " 17  Expenditure   7785 non-null   float64\n",
      " 18  Adult         8693 non-null   int64  \n",
      "dtypes: float64(12), int64(6), object(1)\n",
      "memory usage: 1.3+ MB\n"
     ]
    }
   ],
   "source": [
    "df.info()"
   ]
  },
  {
   "cell_type": "code",
   "execution_count": 16,
   "metadata": {},
   "outputs": [],
   "source": [
    "X = df.drop(labels=['Transported','PassengerId'],axis=1)\n",
    "y = df['Transported']"
   ]
  },
  {
   "cell_type": "code",
   "execution_count": 17,
   "metadata": {},
   "outputs": [],
   "source": [
    "x_train,x_test,y_train,y_test = train_test_split(X,y,test_size=0.3)"
   ]
  },
  {
   "cell_type": "code",
   "execution_count": 44,
   "metadata": {},
   "outputs": [],
   "source": [
    "def train_xgb_model(parameters):\n",
    "    model = xgboost.XGBClassifier(num_boost_round=40)\n",
    "    model.set_params(**parameters)\n",
    "#    model = xgboost.XGBClassifier(n_estimators = parameters['n_estimator'],objective = parameters['objective'], colsample_bytree = parameters['colsample_bytree'], learning_rate = parameters['learning_rate'],\n",
    "#                max_depth = parameters['max_depth'], alpha = parameters['alpha'])\n",
    "    return model\n",
    "def fit_model(model,X_train,y_train):\n",
    "    model.fit(X_train,y_train)\n",
    "    \n",
    "def predict_results(model,X):\n",
    "    predicted_values = model.predict(X)\n",
    "    return predicted_values\n",
    "    \n",
    "def calculate_acc(model,y_actual,y_predicted):\n",
    "    rmse = accuracy_score(y_actual,y_predicted)\n",
    "    return rmse\n",
    "    \n",
    "def retune_model(model,hyperparameter_grid,X_train,y_train):\n",
    "        \n",
    "        grid_search_cv = RandomizedSearchCV(\n",
    "        estimator=model,\n",
    "        param_distributions=hyperparameter_grid,\n",
    "        cv=10,n_iter=100,\n",
    "        scoring = 'neg_mean_absolute_error',\n",
    "        n_jobs=4,\n",
    "        verbose=5,\n",
    "        return_train_score=True,\n",
    "        random_state=42\n",
    "        )\n",
    "        grid_search_cv.fit(X_train,y_train)\n",
    "        return grid_search_cv\n",
    "    "
   ]
  },
  {
   "cell_type": "code",
   "execution_count": 19,
   "metadata": {},
   "outputs": [
    {
     "name": "stderr",
     "output_type": "stream",
     "text": [
      "/opt/conda/lib/python3.7/site-packages/xgboost/sklearn.py:1224: UserWarning: The use of label encoder in XGBClassifier is deprecated and will be removed in a future release. To remove this warning, do the following: 1) Pass option use_label_encoder=False when constructing XGBClassifier object; and 2) Encode your labels (y) as integers starting with 0, i.e. 0, 1, 2, ..., [num_class - 1].\n",
      "  warnings.warn(label_encoder_deprecation_msg, UserWarning)\n"
     ]
    },
    {
     "name": "stdout",
     "output_type": "stream",
     "text": [
      "[14:39:25] WARNING: ../src/learner.cc:576: \n",
      "Parameters: { \"n_estimator\", \"num_boost_round\" } might not be used.\n",
      "\n",
      "  This could be a false alarm, with some parameters getting used by language bindings but\n",
      "  then being mistakenly passed down to XGBoost core, or some parameter actually being used\n",
      "  but getting flagged wrongly here. Please open an issue if you find any such cases.\n",
      "\n",
      "\n",
      "[14:39:26] WARNING: ../src/learner.cc:576: \n",
      "Parameters: { \"n_estimator\", \"num_boost_round\" } might not be used.\n",
      "\n",
      "  This could be a false alarm, with some parameters getting used by language bindings but\n",
      "  then being mistakenly passed down to XGBoost core, or some parameter actually being used\n",
      "  but getting flagged wrongly here. Please open an issue if you find any such cases.\n",
      "\n",
      "\n"
     ]
    }
   ],
   "source": [
    "parameters = {'objective' :'reg:squarederror', 'colsample_bytree' : 0.3, 'learning_rate' : 0.1,\n",
    "                'max_depth' : 5, 'alpha' : 10, 'n_estimator' : 10}\n",
    "model_1 = train_xgb_model(parameters)\n",
    "fit_model(model_1,x_train,y_train)\n",
    "model_1.fit(x_train,y_train)\n",
    "y_pred = predict_results(model_1,x_test)\n",
    "acc = calculate_acc(model_1,y_test,y_pred)\n"
   ]
  },
  {
   "cell_type": "code",
   "execution_count": 20,
   "metadata": {},
   "outputs": [
    {
     "data": {
      "text/plain": [
       "79.17944785276073"
      ]
     },
     "execution_count": 20,
     "metadata": {},
     "output_type": "execute_result"
    }
   ],
   "source": [
    "acc*100"
   ]
  },
  {
   "cell_type": "markdown",
   "metadata": {},
   "source": [
    "#HyperTune parameters"
   ]
  },
  {
   "cell_type": "code",
   "execution_count": 21,
   "metadata": {},
   "outputs": [],
   "source": [
    "booster = ['gbtree','gblinear']\n",
    "n_estimator = [10,20,30,50,100,200,1000,5000]\n",
    "max_depth = [2,3,5,10,15,20,50]\n",
    "learning_rate = [0.01,0.05,0.1,0.2,0.3,0.5,0.7]\n",
    "min_child_weight = [1,5,10,15,20]\n",
    "base_score=[0.25,0.5,0.75,1]\n",
    "aplha = [5,10,15,50,100]\n",
    "objective = ['reg:squarederror','reg:squaredlogerror']\n",
    "\n",
    "hyperparameter_grid = {\n",
    "    'n_estimator' : n_estimator,\n",
    "    'objective' : objective,\n",
    "    'max_depth' : max_depth,\n",
    "    'learning_rate' : learning_rate,\n",
    "    'min_child_weight' : min_child_weight,\n",
    "    'booster' : booster,\n",
    "    'alpha' : aplha\n",
    "}\n"
   ]
  },
  {
   "cell_type": "code",
   "execution_count": 22,
   "metadata": {},
   "outputs": [
    {
     "name": "stdout",
     "output_type": "stream",
     "text": [
      "<class 'pandas.core.frame.DataFrame'>\n",
      "Int64Index: 6085 entries, 3738 to 7892\n",
      "Data columns (total 17 columns):\n",
      " #   Column        Non-Null Count  Dtype  \n",
      "---  ------        --------------  -----  \n",
      " 0   HomePlanet    6085 non-null   int64  \n",
      " 1   CryoSleep     6085 non-null   int64  \n",
      " 2   Destination   4679 non-null   float64\n",
      " 3   Age           5966 non-null   float64\n",
      " 4   VIP           5944 non-null   float64\n",
      " 5   RoomService   5958 non-null   float64\n",
      " 6   FoodCourt     5956 non-null   float64\n",
      " 7   ShoppingMall  5934 non-null   float64\n",
      " 8   Spa           5957 non-null   float64\n",
      " 9   VRDeck        5954 non-null   float64\n",
      " 10  GroupId       6085 non-null   int64  \n",
      " 11  GrpPassId     6085 non-null   int64  \n",
      " 12  Deck          4154 non-null   float64\n",
      " 13  Decknum       5951 non-null   float64\n",
      " 14  DeckSide      5951 non-null   float64\n",
      " 15  Expenditure   5443 non-null   float64\n",
      " 16  Adult         6085 non-null   int64  \n",
      "dtypes: float64(12), int64(5)\n",
      "memory usage: 855.7 KB\n"
     ]
    }
   ],
   "source": [
    "x_train.info()"
   ]
  },
  {
   "cell_type": "code",
   "execution_count": 23,
   "metadata": {},
   "outputs": [
    {
     "name": "stdout",
     "output_type": "stream",
     "text": [
      "Fitting 5 folds for each of 50 candidates, totalling 250 fits\n"
     ]
    },
    {
     "name": "stderr",
     "output_type": "stream",
     "text": [
      "[Parallel(n_jobs=10)]: Using backend LokyBackend with 10 concurrent workers.\n",
      "[Parallel(n_jobs=10)]: Done  52 tasks      | elapsed:   35.8s\n",
      "[Parallel(n_jobs=10)]: Done 142 tasks      | elapsed:  1.4min\n",
      "[Parallel(n_jobs=10)]: Done 250 out of 250 | elapsed:  2.3min finished\n",
      "/opt/conda/lib/python3.7/site-packages/xgboost/sklearn.py:1224: UserWarning: The use of label encoder in XGBClassifier is deprecated and will be removed in a future release. To remove this warning, do the following: 1) Pass option use_label_encoder=False when constructing XGBClassifier object; and 2) Encode your labels (y) as integers starting with 0, i.e. 0, 1, 2, ..., [num_class - 1].\n",
      "  warnings.warn(label_encoder_deprecation_msg, UserWarning)\n"
     ]
    },
    {
     "name": "stdout",
     "output_type": "stream",
     "text": [
      "[14:42:32] WARNING: ../src/learner.cc:576: \n",
      "Parameters: { \"n_estimator\", \"num_boost_round\" } might not be used.\n",
      "\n",
      "  This could be a false alarm, with some parameters getting used by language bindings but\n",
      "  then being mistakenly passed down to XGBoost core, or some parameter actually being used\n",
      "  but getting flagged wrongly here. Please open an issue if you find any such cases.\n",
      "\n",
      "\n"
     ]
    },
    {
     "data": {
      "text/plain": [
       "{'objective': 'reg:squarederror',\n",
       " 'n_estimator': 5000,\n",
       " 'min_child_weight': 20,\n",
       " 'max_depth': 15,\n",
       " 'learning_rate': 0.5,\n",
       " 'booster': 'gbtree',\n",
       " 'alpha': 15}"
      ]
     },
     "execution_count": 23,
     "metadata": {},
     "output_type": "execute_result"
    }
   ],
   "source": [
    "grid_search_cv = RandomizedSearchCV(\n",
    "        estimator=model_1,\n",
    "        param_distributions=hyperparameter_grid,\n",
    "        cv=5,n_iter=50,\n",
    "        scoring = 'neg_mean_absolute_error',\n",
    "        n_jobs=10,\n",
    "        verbose=5,\n",
    "        return_train_score=True,\n",
    "        random_state=2\n",
    ")\n",
    "grid_search_cv.fit(x_train,y_train)\n",
    "grid_search_cv.best_params_"
   ]
  },
  {
   "cell_type": "code",
   "execution_count": 24,
   "metadata": {},
   "outputs": [
    {
     "name": "stdout",
     "output_type": "stream",
     "text": [
      "[14:43:30] WARNING: ../src/learner.cc:576: \n",
      "Parameters: { \"n_estimator\" } might not be used.\n",
      "\n",
      "  This could be a false alarm, with some parameters getting used by language bindings but\n",
      "  then being mistakenly passed down to XGBoost core, or some parameter actually being used\n",
      "  but getting flagged wrongly here. Please open an issue if you find any such cases.\n",
      "\n",
      "\n",
      "[14:43:31] WARNING: ../src/learner.cc:576: \n",
      "Parameters: { \"n_estimator\" } might not be used.\n",
      "\n",
      "  This could be a false alarm, with some parameters getting used by language bindings but\n",
      "  then being mistakenly passed down to XGBoost core, or some parameter actually being used\n",
      "  but getting flagged wrongly here. Please open an issue if you find any such cases.\n",
      "\n",
      "\n"
     ]
    },
    {
     "data": {
      "text/plain": [
       "79.63957055214725"
      ]
     },
     "execution_count": 24,
     "metadata": {},
     "output_type": "execute_result"
    }
   ],
   "source": [
    "model_2 = xgboost.XGBClassifier(objective = 'reg:squarederror', n_estimator=5000,min_child_weight=20,max_depth=15,learning_rate=0.5,booster='gbtree',alpha=15)\n",
    "fit_model(model_2,x_train,y_train)\n",
    "model_2.fit(x_train,y_train)\n",
    "y_pred = predict_results(model_2,x_test)\n",
    "acc = calculate_acc(model_2,y_test,y_pred)\n",
    "acc*100"
   ]
  },
  {
   "cell_type": "code",
   "execution_count": 53,
   "metadata": {},
   "outputs": [
    {
     "data": {
      "text/plain": [
       "0.7891104294478528"
      ]
     },
     "execution_count": 53,
     "metadata": {},
     "output_type": "execute_result"
    }
   ],
   "source": [
    "acc"
   ]
  },
  {
   "cell_type": "code",
   "execution_count": 25,
   "metadata": {},
   "outputs": [],
   "source": [
    "def process(data):\n",
    "    print(data.shape)\n",
    "    data[['GroupId','GrpPassId']] = data['PassengerId'].str.split('_',expand=True)\n",
    "    data[['Deck','Decknum','DeckSide']] = data['Cabin'].str.split('/',expand=True)\n",
    "    data.loc[(data.Destination == 'TRAPPIST-1e' )  & (data.HomePlanet.isnull()), 'HomePlanet'] ='Earth'\n",
    "    data.loc[(data.Destination == '55 Cancri e' )  & (data.HomePlanet.isnull()), 'HomePlanet'] = 'Europa'\n",
    "    data.loc[(data.Destination == 'PSO J318.5-22' ) & (data.HomePlanet.isnull()) , 'HomePlanet'] = 'Earth'\n",
    "    data['HomePlanet'].fillna(value='Earth',inplace=True)\n",
    "    #data.dropna(how = 'all',inplace=True)\n",
    "    data['Expenditure'] = data['RoomService'] + data['FoodCourt'] + data['ShoppingMall'] + data['Spa'] +data['VRDeck']\n",
    "    child_train_index = data[data['Age'] <= 12].index\n",
    "    data['Adult'] = 1\n",
    "    data['Adult'].loc[child_train_index] = 0\n",
    "    #plt.figure(figsize=(15,8))\n",
    "    #sns.countplot(x='Destination',hue='Deck',data=data)\n",
    "    #plt.figure(figsize=(15,8))\n",
    "    #sns.countplot(x='HomePlanet',hue='Deck',data=data)\n",
    "    #plt.figure(figsize=(15,8))\n",
    "    #sns.countplot(x='Destination',hue='Deck',data=data)\n",
    "    \n",
    "    \n",
    "    data.drop(labels=['Name','Cabin'],axis=1,inplace=True)\n",
    "    cat_cols = list(df.select_dtypes('object').columns.values)\n",
    "    cat_cols.remove('PassengerId')\n",
    "    \n",
    "    tf = {True:1,False:0}\n",
    "    home_planet = {'Earth':3,'Europa':3,'Mars':1}\n",
    "    dest_planet = {'TRAPPIST-1e':3,'Cancri e':2,'PSO J318.5-22':1}\n",
    "    deck = {'F':7,'E':6,'D':5,'C':4,'B':3,'A':2,'T':1}\n",
    "    port = {'S':0,'P':1}\n",
    "    \n",
    "    data['CryoSleep'] = data['CryoSleep'].map(tf)\n",
    "    data['Destination'] = data['Destination'].map(dest_planet)\n",
    "    data['HomePlanet'] = data['HomePlanet'].map(home_planet)\n",
    "    data['VIP'] = data['VIP'].map(tf)\n",
    "    data['Deck'] = data['Deck'].map(deck)\n",
    "    data['DeckSide'] = data['DeckSide'].map(port)\n",
    "    data['Decknum'].fillna(0,inplace=True)\n",
    "    data['Decknum'] = data['Decknum'].astype(int)\n",
    "    data['GroupId'].fillna(0,inplace=True)\n",
    "    data['GroupId'] = data['GroupId'].astype(int)\n",
    "    data['GrpPassId'].fillna(0,inplace=True)\n",
    "    data['GrpPassId'] = data['GroupId'].astype(int)\n",
    "#    data['Transported'] = data['Transported'].map(tf)\n",
    "    pred = pd.DataFrame(['PassengerId','Transported'])\n",
    "    #pred['PassengerId'] = df['PassengerId']\n",
    "    X = data.drop(labels=['PassengerId'],axis=1)\n",
    "    \n",
    "    #y = df['Transported']\n",
    "    passenger_id =df['PassengerId']\n",
    "    print(passenger_id.shape)\n",
    "    \n",
    "    y_pred = model_2.predict(X)\n",
    "    print(len(y_pred))\n",
    "    #pred['Transported'] = y_pred\n",
    "    data_pred = {'PassengerId': data['PassengerId'], 'Transported': y_pred}\n",
    "    data_pred =pd.DataFrame(data_pred)\n",
    "    return data_pred\n",
    "    \n",
    "    \n",
    "    \n",
    "    \n",
    "    \n",
    "    \n",
    "    \n",
    "    \n",
    "    \n",
    "\n",
    "    \n",
    "    \n",
    "\n",
    "    "
   ]
  },
  {
   "cell_type": "code",
   "execution_count": 26,
   "metadata": {},
   "outputs": [
    {
     "name": "stdout",
     "output_type": "stream",
     "text": [
      "(4277, 13)\n",
      "(8693,)\n",
      "4277\n"
     ]
    },
    {
     "name": "stderr",
     "output_type": "stream",
     "text": [
      "/opt/conda/lib/python3.7/site-packages/pandas/core/indexing.py:1732: SettingWithCopyWarning: \n",
      "A value is trying to be set on a copy of a slice from a DataFrame\n",
      "\n",
      "See the caveats in the documentation: https://pandas.pydata.org/pandas-docs/stable/user_guide/indexing.html#returning-a-view-versus-a-copy\n",
      "  self._setitem_single_block(indexer, value, name)\n"
     ]
    },
    {
     "data": {
      "text/plain": [
       "(4277, 2)"
      ]
     },
     "execution_count": 26,
     "metadata": {},
     "output_type": "execute_result"
    }
   ],
   "source": [
    "data = pd.read_csv('data/test.csv')\n",
    "X = process(data)\n",
    "X.shape"
   ]
  },
  {
   "cell_type": "code",
   "execution_count": 27,
   "metadata": {},
   "outputs": [
    {
     "data": {
      "text/html": [
       "<div>\n",
       "<style scoped>\n",
       "    .dataframe tbody tr th:only-of-type {\n",
       "        vertical-align: middle;\n",
       "    }\n",
       "\n",
       "    .dataframe tbody tr th {\n",
       "        vertical-align: top;\n",
       "    }\n",
       "\n",
       "    .dataframe thead th {\n",
       "        text-align: right;\n",
       "    }\n",
       "</style>\n",
       "<table border=\"1\" class=\"dataframe\">\n",
       "  <thead>\n",
       "    <tr style=\"text-align: right;\">\n",
       "      <th></th>\n",
       "      <th>PassengerId</th>\n",
       "      <th>Transported</th>\n",
       "    </tr>\n",
       "  </thead>\n",
       "  <tbody>\n",
       "    <tr>\n",
       "      <th>0</th>\n",
       "      <td>0013_01</td>\n",
       "      <td>1</td>\n",
       "    </tr>\n",
       "    <tr>\n",
       "      <th>1</th>\n",
       "      <td>0018_01</td>\n",
       "      <td>0</td>\n",
       "    </tr>\n",
       "    <tr>\n",
       "      <th>2</th>\n",
       "      <td>0019_01</td>\n",
       "      <td>1</td>\n",
       "    </tr>\n",
       "  </tbody>\n",
       "</table>\n",
       "</div>"
      ],
      "text/plain": [
       "  PassengerId  Transported\n",
       "0     0013_01            1\n",
       "1     0018_01            0\n",
       "2     0019_01            1"
      ]
     },
     "execution_count": 27,
     "metadata": {},
     "output_type": "execute_result"
    }
   ],
   "source": [
    "X.head(3)"
   ]
  },
  {
   "cell_type": "code",
   "execution_count": 28,
   "metadata": {},
   "outputs": [
    {
     "name": "stdout",
     "output_type": "stream",
     "text": [
      "<class 'pandas.core.frame.DataFrame'>\n",
      "RangeIndex: 4277 entries, 0 to 4276\n",
      "Data columns (total 2 columns):\n",
      " #   Column       Non-Null Count  Dtype \n",
      "---  ------       --------------  ----- \n",
      " 0   PassengerId  4277 non-null   object\n",
      " 1   Transported  4277 non-null   int64 \n",
      "dtypes: int64(1), object(1)\n",
      "memory usage: 67.0+ KB\n"
     ]
    }
   ],
   "source": [
    "X.info()"
   ]
  },
  {
   "cell_type": "code",
   "execution_count": 29,
   "metadata": {},
   "outputs": [
    {
     "data": {
      "text/plain": [
       "\"X['Decknum'].value_counts()\\nfor i in range(len(X)):\\n    X.loc[i,'Decknum'] = (X.iloc[i,'Decknum'])\\n    X.loc[i,'GroupId'] = int(X.iloc[i,'GroupId'])\""
      ]
     },
     "execution_count": 29,
     "metadata": {},
     "output_type": "execute_result"
    }
   ],
   "source": [
    "#X['GroupId'].value_counts()\n",
    "\n",
    "\"\"\"X['Decknum'].value_counts()\n",
    "for i in range(len(X)):\n",
    "    X.loc[i,'Decknum'] = (X.iloc[i,'Decknum'])\n",
    "    X.loc[i,'GroupId'] = int(X.iloc[i,'GroupId'])\"\"\""
   ]
  },
  {
   "cell_type": "code",
   "execution_count": 30,
   "metadata": {},
   "outputs": [
    {
     "data": {
      "text/plain": [
       "(4277, 2)"
      ]
     },
     "execution_count": 30,
     "metadata": {},
     "output_type": "execute_result"
    }
   ],
   "source": [
    "recon = {0:False,1:True}\n",
    "X['Transported'] = X['Transported'].map(recon)\n",
    "X.shape"
   ]
  },
  {
   "cell_type": "code",
   "execution_count": 149,
   "metadata": {},
   "outputs": [],
   "source": [
    "path = 'data/submission.csv'\n",
    "X.to_csv(path,index=False)"
   ]
  },
  {
   "cell_type": "code",
   "execution_count": 150,
   "metadata": {},
   "outputs": [
    {
     "data": {
      "text/html": [
       "<div>\n",
       "<style scoped>\n",
       "    .dataframe tbody tr th:only-of-type {\n",
       "        vertical-align: middle;\n",
       "    }\n",
       "\n",
       "    .dataframe tbody tr th {\n",
       "        vertical-align: top;\n",
       "    }\n",
       "\n",
       "    .dataframe thead th {\n",
       "        text-align: right;\n",
       "    }\n",
       "</style>\n",
       "<table border=\"1\" class=\"dataframe\">\n",
       "  <thead>\n",
       "    <tr style=\"text-align: right;\">\n",
       "      <th></th>\n",
       "      <th>PassengerId</th>\n",
       "      <th>Transported</th>\n",
       "    </tr>\n",
       "  </thead>\n",
       "  <tbody>\n",
       "    <tr>\n",
       "      <th>0</th>\n",
       "      <td>0001_01</td>\n",
       "      <td>1</td>\n",
       "    </tr>\n",
       "    <tr>\n",
       "      <th>1</th>\n",
       "      <td>0002_01</td>\n",
       "      <td>0</td>\n",
       "    </tr>\n",
       "    <tr>\n",
       "      <th>2</th>\n",
       "      <td>0003_01</td>\n",
       "      <td>0</td>\n",
       "    </tr>\n",
       "  </tbody>\n",
       "</table>\n",
       "</div>"
      ],
      "text/plain": [
       "  PassengerId  Transported\n",
       "0     0001_01            1\n",
       "1     0002_01            0\n",
       "2     0003_01            0"
      ]
     },
     "execution_count": 150,
     "metadata": {},
     "output_type": "execute_result"
    }
   ],
   "source": [
    "pred.head(3)"
   ]
  },
  {
   "cell_type": "code",
   "execution_count": null,
   "metadata": {},
   "outputs": [],
   "source": [
    "y_pred = model_2.predict(X)\n",
    "    #pred['Transported'] = y_pred\n",
    "data_pred = {'PassengerId': df['PassengerId'], 'Transported': y_pred}\n",
    "data_pred =pd.DataFrame(data_pred)"
   ]
  },
  {
   "cell_type": "code",
   "execution_count": 31,
   "metadata": {},
   "outputs": [],
   "source": [
    "def process_new(data,test,model):\n",
    "    print(data.shape)\n",
    "    new_df = data.copy()\n",
    "    data[['GroupId','GrpPassId']] = data['PassengerId'].str.split('_',expand=True)\n",
    "    data[['Deck','Decknum','DeckSide']] = data['Cabin'].str.split('/',expand=True)\n",
    "    data.loc[(data.Destination == 'TRAPPIST-1e' )  & (data.HomePlanet.isnull()), 'HomePlanet'] ='Earth'\n",
    "    data.loc[(data.Destination == '55 Cancri e' )  & (data.HomePlanet.isnull()), 'HomePlanet'] = 'Europa'\n",
    "    data.loc[(data.Destination == 'PSO J318.5-22' ) & (data.HomePlanet.isnull()) , 'HomePlanet'] = 'Earth'\n",
    "    data['HomePlanet'].fillna(value='Earth',inplace=True)\n",
    "    #data.dropna(how = 'all',inplace=True)\n",
    "    data['Expenditure'] = data['RoomService'] + data['FoodCourt'] + data['ShoppingMall'] + data['Spa'] +data['VRDeck']\n",
    "    child_train_index = data[data['Age'] <= 12].index\n",
    "    data['Adult'] = 1\n",
    "    data['Adult'].loc[child_train_index] = 0\n",
    "    #plt.figure(figsize=(15,8))\n",
    "    #sns.countplot(x='Destination',hue='Deck',data=data)\n",
    "    #plt.figure(figsize=(15,8))\n",
    "    #sns.countplot(x='HomePlanet',hue='Deck',data=data)\n",
    "    #plt.figure(figsize=(15,8))\n",
    "    #sns.countplot(x='Destination',hue='Deck',data=data)\n",
    "    \n",
    "    \n",
    "    data.drop(labels=['Name','Cabin'],axis=1,inplace=True)\n",
    "    cat_cols = list(data.select_dtypes('object').columns.values)\n",
    "    cat_cols.remove('PassengerId')\n",
    "    \n",
    "    tf = {True:1,False:0}\n",
    "    home_planet = {'Earth':3,'Europa':3,'Mars':1}\n",
    "    dest_planet = {'TRAPPIST-1e':3,'Cancri e':2,'PSO J318.5-22':1}\n",
    "    deck = {'F':7,'E':6,'D':5,'C':4,'B':3,'A':2,'T':1}\n",
    "    port = {'S':0,'P':1}\n",
    "    \n",
    "    data['CryoSleep'] = data['CryoSleep'].map(tf)\n",
    "    data['Destination'] = data['Destination'].map(dest_planet)\n",
    "    data['HomePlanet'] = data['HomePlanet'].map(home_planet)\n",
    "    data['VIP'] = data['VIP'].map(tf)\n",
    "    data['Deck'] = data['Deck'].map(deck)\n",
    "    data['DeckSide'] = data['DeckSide'].map(port)\n",
    "    data['Decknum'].fillna(0,inplace=True)\n",
    "    data['Decknum'] = data['Decknum'].astype(int)\n",
    "    data['GroupId'].fillna(0,inplace=True)\n",
    "    data['GroupId'] = data['GroupId'].astype(int)\n",
    "    data['GrpPassId'].fillna(0,inplace=True)\n",
    "    data['GrpPassId'] = data['GroupId'].astype(int)\n",
    "#    data['Transported'] = data['Transported'].map(tf)\n",
    "    pred = pd.DataFrame(['PassengerId','Transported'])\n",
    "    #pred['PassengerId'] = df['PassengerId']\n",
    "    data = data.drop(labels=['PassengerId'],axis=1)\n",
    "    if test == False:\n",
    "        data.drop(labels=['Transported'],axis=1,inplace=True)\n",
    "        X = data\n",
    "        \n",
    "    else:\n",
    "        \n",
    "        \n",
    "\n",
    "        y_pred = model.predict(data)\n",
    "        print(len(y_pred))\n",
    "        #pred['Transported'] = y_pred\n",
    "        data_pred = {'PassengerId': new_df['PassengerId'], 'Transported': y_pred}\n",
    "        #print(data_pred.shape)\n",
    "        data_pred =pd.DataFrame(data_pred)\n",
    "        print(data_pred.shape)\n",
    "        X =data_pred\n",
    "        \n",
    "    return X"
   ]
  },
  {
   "cell_type": "code",
   "execution_count": 33,
   "metadata": {},
   "outputs": [
    {
     "name": "stdout",
     "output_type": "stream",
     "text": [
      "(8693, 14)\n"
     ]
    },
    {
     "name": "stderr",
     "output_type": "stream",
     "text": [
      "/opt/conda/lib/python3.7/site-packages/pandas/core/indexing.py:1732: SettingWithCopyWarning: \n",
      "A value is trying to be set on a copy of a slice from a DataFrame\n",
      "\n",
      "See the caveats in the documentation: https://pandas.pydata.org/pandas-docs/stable/user_guide/indexing.html#returning-a-view-versus-a-copy\n",
      "  self._setitem_single_block(indexer, value, name)\n"
     ]
    },
    {
     "data": {
      "text/html": [
       "<div>\n",
       "<style scoped>\n",
       "    .dataframe tbody tr th:only-of-type {\n",
       "        vertical-align: middle;\n",
       "    }\n",
       "\n",
       "    .dataframe tbody tr th {\n",
       "        vertical-align: top;\n",
       "    }\n",
       "\n",
       "    .dataframe thead th {\n",
       "        text-align: right;\n",
       "    }\n",
       "</style>\n",
       "<table border=\"1\" class=\"dataframe\">\n",
       "  <thead>\n",
       "    <tr style=\"text-align: right;\">\n",
       "      <th></th>\n",
       "      <th>HomePlanet</th>\n",
       "      <th>CryoSleep</th>\n",
       "      <th>Destination</th>\n",
       "      <th>Age</th>\n",
       "      <th>VIP</th>\n",
       "      <th>RoomService</th>\n",
       "      <th>FoodCourt</th>\n",
       "      <th>ShoppingMall</th>\n",
       "      <th>Spa</th>\n",
       "      <th>VRDeck</th>\n",
       "      <th>GroupId</th>\n",
       "      <th>GrpPassId</th>\n",
       "      <th>Deck</th>\n",
       "      <th>Decknum</th>\n",
       "      <th>DeckSide</th>\n",
       "      <th>Expenditure</th>\n",
       "      <th>Adult</th>\n",
       "    </tr>\n",
       "  </thead>\n",
       "  <tbody>\n",
       "    <tr>\n",
       "      <th>0</th>\n",
       "      <td>3</td>\n",
       "      <td>0.0</td>\n",
       "      <td>3.0</td>\n",
       "      <td>39.0</td>\n",
       "      <td>0.0</td>\n",
       "      <td>0.0</td>\n",
       "      <td>0.0</td>\n",
       "      <td>0.0</td>\n",
       "      <td>0.0</td>\n",
       "      <td>0.0</td>\n",
       "      <td>1</td>\n",
       "      <td>1</td>\n",
       "      <td>3.0</td>\n",
       "      <td>0</td>\n",
       "      <td>1.0</td>\n",
       "      <td>0.0</td>\n",
       "      <td>1</td>\n",
       "    </tr>\n",
       "    <tr>\n",
       "      <th>1</th>\n",
       "      <td>3</td>\n",
       "      <td>0.0</td>\n",
       "      <td>3.0</td>\n",
       "      <td>24.0</td>\n",
       "      <td>0.0</td>\n",
       "      <td>109.0</td>\n",
       "      <td>9.0</td>\n",
       "      <td>25.0</td>\n",
       "      <td>549.0</td>\n",
       "      <td>44.0</td>\n",
       "      <td>2</td>\n",
       "      <td>2</td>\n",
       "      <td>7.0</td>\n",
       "      <td>0</td>\n",
       "      <td>0.0</td>\n",
       "      <td>736.0</td>\n",
       "      <td>1</td>\n",
       "    </tr>\n",
       "    <tr>\n",
       "      <th>2</th>\n",
       "      <td>3</td>\n",
       "      <td>0.0</td>\n",
       "      <td>3.0</td>\n",
       "      <td>58.0</td>\n",
       "      <td>1.0</td>\n",
       "      <td>43.0</td>\n",
       "      <td>3576.0</td>\n",
       "      <td>0.0</td>\n",
       "      <td>6715.0</td>\n",
       "      <td>49.0</td>\n",
       "      <td>3</td>\n",
       "      <td>3</td>\n",
       "      <td>2.0</td>\n",
       "      <td>0</td>\n",
       "      <td>0.0</td>\n",
       "      <td>10383.0</td>\n",
       "      <td>1</td>\n",
       "    </tr>\n",
       "  </tbody>\n",
       "</table>\n",
       "</div>"
      ],
      "text/plain": [
       "   HomePlanet  CryoSleep  Destination   Age  VIP  RoomService  FoodCourt  \\\n",
       "0           3        0.0          3.0  39.0  0.0          0.0        0.0   \n",
       "1           3        0.0          3.0  24.0  0.0        109.0        9.0   \n",
       "2           3        0.0          3.0  58.0  1.0         43.0     3576.0   \n",
       "\n",
       "   ShoppingMall     Spa  VRDeck  GroupId  GrpPassId  Deck  Decknum  DeckSide  \\\n",
       "0           0.0     0.0     0.0        1          1   3.0        0       1.0   \n",
       "1          25.0   549.0    44.0        2          2   7.0        0       0.0   \n",
       "2           0.0  6715.0    49.0        3          3   2.0        0       0.0   \n",
       "\n",
       "   Expenditure  Adult  \n",
       "0          0.0      1  \n",
       "1        736.0      1  \n",
       "2      10383.0      1  "
      ]
     },
     "execution_count": 33,
     "metadata": {},
     "output_type": "execute_result"
    }
   ],
   "source": [
    "train_df = pd.read_csv('data/train.csv')\n",
    "processed_data = process_new(train_df,False,False)\n",
    "processed_data.head(3)"
   ]
  },
  {
   "cell_type": "code",
   "execution_count": 34,
   "metadata": {},
   "outputs": [
    {
     "name": "stdout",
     "output_type": "stream",
     "text": [
      "<class 'pandas.core.frame.DataFrame'>\n",
      "RangeIndex: 8693 entries, 0 to 8692\n",
      "Data columns (total 17 columns):\n",
      " #   Column        Non-Null Count  Dtype  \n",
      "---  ------        --------------  -----  \n",
      " 0   HomePlanet    8693 non-null   int64  \n",
      " 1   CryoSleep     8476 non-null   float64\n",
      " 2   Destination   6711 non-null   float64\n",
      " 3   Age           8514 non-null   float64\n",
      " 4   VIP           8490 non-null   float64\n",
      " 5   RoomService   8512 non-null   float64\n",
      " 6   FoodCourt     8510 non-null   float64\n",
      " 7   ShoppingMall  8485 non-null   float64\n",
      " 8   Spa           8510 non-null   float64\n",
      " 9   VRDeck        8505 non-null   float64\n",
      " 10  GroupId       8693 non-null   int64  \n",
      " 11  GrpPassId     8693 non-null   int64  \n",
      " 12  Deck          5935 non-null   float64\n",
      " 13  Decknum       8693 non-null   int64  \n",
      " 14  DeckSide      8494 non-null   float64\n",
      " 15  Expenditure   7785 non-null   float64\n",
      " 16  Adult         8693 non-null   int64  \n",
      "dtypes: float64(12), int64(5)\n",
      "memory usage: 1.1 MB\n"
     ]
    }
   ],
   "source": [
    "processed_data.info()"
   ]
  },
  {
   "cell_type": "code",
   "execution_count": 38,
   "metadata": {},
   "outputs": [
    {
     "name": "stdout",
     "output_type": "stream",
     "text": [
      "[14:49:59] WARNING: ../src/learner.cc:576: \n",
      "Parameters: { \"n_estimator\", \"num_boost_round\" } might not be used.\n",
      "\n",
      "  This could be a false alarm, with some parameters getting used by language bindings but\n",
      "  then being mistakenly passed down to XGBoost core, or some parameter actually being used\n",
      "  but getting flagged wrongly here. Please open an issue if you find any such cases.\n",
      "\n",
      "\n",
      "[14:49:59] WARNING: ../src/learner.cc:576: \n",
      "Parameters: { \"n_estimator\", \"num_boost_round\" } might not be used.\n",
      "\n",
      "  This could be a false alarm, with some parameters getting used by language bindings but\n",
      "  then being mistakenly passed down to XGBoost core, or some parameter actually being used\n",
      "  but getting flagged wrongly here. Please open an issue if you find any such cases.\n",
      "\n",
      "\n"
     ]
    },
    {
     "data": {
      "text/plain": [
       "80.86656441717791"
      ]
     },
     "execution_count": 38,
     "metadata": {},
     "output_type": "execute_result"
    }
   ],
   "source": [
    "X = processed_data\n",
    "y = train_df['Transported'].map(tf)\n",
    "x_train,x_test,y_train,y_test = train_test_split(X,y,test_size=0.3)\n",
    "parameters = {'objective' :'reg:squarederror', 'colsample_bytree' : 0.3, 'learning_rate' : 0.1,\n",
    "                'max_depth' : 5, 'alpha' : 10, 'n_estimator' : 10}\n",
    "model_1 = train_xgb_model(parameters)\n",
    "fit_model(model_1,x_train,y_train)\n",
    "model_1.fit(x_train,y_train)\n",
    "y_pred = predict_results(model_1,x_test)\n",
    "acc = calculate_acc(model_1,y_test,y_pred)\n",
    "acc*100"
   ]
  },
  {
   "cell_type": "code",
   "execution_count": 39,
   "metadata": {},
   "outputs": [
    {
     "data": {
      "text/plain": [
       "0       0\n",
       "1       1\n",
       "2       0\n",
       "3       0\n",
       "4       1\n",
       "       ..\n",
       "8688    0\n",
       "8689    0\n",
       "8690    1\n",
       "8691    0\n",
       "8692    1\n",
       "Name: Transported, Length: 8693, dtype: int64"
      ]
     },
     "execution_count": 39,
     "metadata": {},
     "output_type": "execute_result"
    }
   ],
   "source": [
    "y"
   ]
  },
  {
   "cell_type": "code",
   "execution_count": 41,
   "metadata": {},
   "outputs": [
    {
     "name": "stdout",
     "output_type": "stream",
     "text": [
      "Fitting 5 folds for each of 1000 candidates, totalling 5000 fits\n"
     ]
    },
    {
     "name": "stderr",
     "output_type": "stream",
     "text": [
      "[Parallel(n_jobs=5)]: Using backend LokyBackend with 5 concurrent workers.\n",
      "[Parallel(n_jobs=5)]: Done   8 tasks      | elapsed:   10.5s\n",
      "[Parallel(n_jobs=5)]: Done  62 tasks      | elapsed:   39.6s\n",
      "[Parallel(n_jobs=5)]: Done 152 tasks      | elapsed:  1.8min\n",
      "[Parallel(n_jobs=5)]: Done 278 tasks      | elapsed:  3.1min\n",
      "[Parallel(n_jobs=5)]: Done 440 tasks      | elapsed:  4.6min\n",
      "[Parallel(n_jobs=5)]: Done 638 tasks      | elapsed:  6.5min\n",
      "[Parallel(n_jobs=5)]: Done 872 tasks      | elapsed:  8.6min\n",
      "[Parallel(n_jobs=5)]: Done 1142 tasks      | elapsed: 11.7min\n",
      "[Parallel(n_jobs=5)]: Done 1448 tasks      | elapsed: 15.1min\n",
      "[Parallel(n_jobs=5)]: Done 1790 tasks      | elapsed: 18.3min\n",
      "[Parallel(n_jobs=5)]: Done 2168 tasks      | elapsed: 21.7min\n",
      "[Parallel(n_jobs=5)]: Done 2582 tasks      | elapsed: 25.6min\n",
      "[Parallel(n_jobs=5)]: Done 3032 tasks      | elapsed: 29.8min\n",
      "[Parallel(n_jobs=5)]: Done 3518 tasks      | elapsed: 34.2min\n",
      "[Parallel(n_jobs=5)]: Done 4040 tasks      | elapsed: 39.4min\n",
      "[Parallel(n_jobs=5)]: Done 4598 tasks      | elapsed: 44.9min\n",
      "[Parallel(n_jobs=5)]: Done 5000 out of 5000 | elapsed: 48.7min finished\n",
      "/opt/conda/lib/python3.7/site-packages/xgboost/sklearn.py:1224: UserWarning: The use of label encoder in XGBClassifier is deprecated and will be removed in a future release. To remove this warning, do the following: 1) Pass option use_label_encoder=False when constructing XGBClassifier object; and 2) Encode your labels (y) as integers starting with 0, i.e. 0, 1, 2, ..., [num_class - 1].\n",
      "  warnings.warn(label_encoder_deprecation_msg, UserWarning)\n"
     ]
    },
    {
     "name": "stdout",
     "output_type": "stream",
     "text": [
      "[15:39:16] WARNING: ../src/learner.cc:576: \n",
      "Parameters: { \"n_estimator\", \"num_boost_round\" } might not be used.\n",
      "\n",
      "  This could be a false alarm, with some parameters getting used by language bindings but\n",
      "  then being mistakenly passed down to XGBoost core, or some parameter actually being used\n",
      "  but getting flagged wrongly here. Please open an issue if you find any such cases.\n",
      "\n",
      "\n"
     ]
    },
    {
     "data": {
      "text/plain": [
       "{'objective': 'reg:squarederror',\n",
       " 'n_estimator': 200,\n",
       " 'min_child_weight': 5,\n",
       " 'max_depth': 15,\n",
       " 'learning_rate': 0.7,\n",
       " 'booster': 'gbtree',\n",
       " 'alpha': 15}"
      ]
     },
     "execution_count": 41,
     "metadata": {},
     "output_type": "execute_result"
    }
   ],
   "source": [
    "#Retune Model_1\n",
    "booster = ['gbtree','gblinear']\n",
    "n_estimator = [10,50,100,200,]\n",
    "max_depth = [2,3,5,10,15,20,50]\n",
    "learning_rate = [0.01,0.05,0.1,0.2,0.3,0.5,0.7]\n",
    "min_child_weight = [1,5,10,15,20]\n",
    "base_score=[0.25,0.5,0.75,1]\n",
    "aplha = [5,10,15,50,100]\n",
    "objective = ['reg:squarederror']\n",
    "\n",
    "hyperparameter_grid = {\n",
    "    'n_estimator' : n_estimator,\n",
    "    'objective' : objective,\n",
    "    'max_depth' : max_depth,\n",
    "    'learning_rate' : learning_rate,\n",
    "    'min_child_weight' : min_child_weight,\n",
    "    'booster' : booster,\n",
    "    'alpha' : aplha\n",
    "}\n",
    "\n",
    "grid_search_cv = RandomizedSearchCV(\n",
    "        estimator=model_1,\n",
    "        param_distributions=hyperparameter_grid,\n",
    "        cv=5,n_iter=100,\n",
    "        scoring = 'neg_mean_absolute_error',\n",
    "        n_jobs=5,\n",
    "        verbose=5,\n",
    "        return_train_score=True,\n",
    "        random_state=42,\n",
    "        \n",
    ")\n",
    "grid_search_cv.fit(x_train,y_train)\n",
    "grid_search_cv.best_params_\n"
   ]
  },
  {
   "cell_type": "code",
   "execution_count": 45,
   "metadata": {},
   "outputs": [
    {
     "name": "stdout",
     "output_type": "stream",
     "text": [
      "[16:42:44] WARNING: ../src/learner.cc:576: \n",
      "Parameters: { \"n_estimator\", \"num_boost_round\" } might not be used.\n",
      "\n",
      "  This could be a false alarm, with some parameters getting used by language bindings but\n",
      "  then being mistakenly passed down to XGBoost core, or some parameter actually being used\n",
      "  but getting flagged wrongly here. Please open an issue if you find any such cases.\n",
      "\n",
      "\n",
      "[16:42:45] WARNING: ../src/learner.cc:576: \n",
      "Parameters: { \"n_estimator\", \"num_boost_round\" } might not be used.\n",
      "\n",
      "  This could be a false alarm, with some parameters getting used by language bindings but\n",
      "  then being mistakenly passed down to XGBoost core, or some parameter actually being used\n",
      "  but getting flagged wrongly here. Please open an issue if you find any such cases.\n",
      "\n",
      "\n"
     ]
    },
    {
     "data": {
      "text/plain": [
       "78.87269938650306"
      ]
     },
     "execution_count": 45,
     "metadata": {},
     "output_type": "execute_result"
    }
   ],
   "source": [
    "X = processed_data\n",
    "y = train_df['Transported'].map(tf)\n",
    "x_train,x_test,y_train,y_test = train_test_split(X,y,test_size=0.3)\n",
    "parameters = {'objective' :'reg:squarederror', 'colsample_bytree' : 0.3, 'learning_rate' : 0.7,\n",
    "                'max_depth' : 15, 'alpha' : 15, 'n_estimator' : 200,'min_child_weight': 5,'booster': 'gbtree'}\n",
    "model_1_tuned = train_xgb_model(parameters)\n",
    "fit_model(model_1_tuned,x_train,y_train)\n",
    "model_1_tuned.fit(x_train,y_train)\n",
    "y_pred = predict_results(model_1_tuned,x_test)\n",
    "acc = calculate_acc(model_1_tuned,y_test,y_pred)\n",
    "acc*100"
   ]
  },
  {
   "cell_type": "code",
   "execution_count": 58,
   "metadata": {},
   "outputs": [
    {
     "name": "stdout",
     "output_type": "stream",
     "text": [
      "(4277, 13)\n",
      "4277\n",
      "(4277, 2)\n"
     ]
    },
    {
     "name": "stderr",
     "output_type": "stream",
     "text": [
      "/opt/conda/lib/python3.7/site-packages/pandas/core/indexing.py:1732: SettingWithCopyWarning: \n",
      "A value is trying to be set on a copy of a slice from a DataFrame\n",
      "\n",
      "See the caveats in the documentation: https://pandas.pydata.org/pandas-docs/stable/user_guide/indexing.html#returning-a-view-versus-a-copy\n",
      "  self._setitem_single_block(indexer, value, name)\n"
     ]
    },
    {
     "data": {
      "text/html": [
       "<div>\n",
       "<style scoped>\n",
       "    .dataframe tbody tr th:only-of-type {\n",
       "        vertical-align: middle;\n",
       "    }\n",
       "\n",
       "    .dataframe tbody tr th {\n",
       "        vertical-align: top;\n",
       "    }\n",
       "\n",
       "    .dataframe thead th {\n",
       "        text-align: right;\n",
       "    }\n",
       "</style>\n",
       "<table border=\"1\" class=\"dataframe\">\n",
       "  <thead>\n",
       "    <tr style=\"text-align: right;\">\n",
       "      <th></th>\n",
       "      <th>PassengerId</th>\n",
       "      <th>Transported</th>\n",
       "    </tr>\n",
       "  </thead>\n",
       "  <tbody>\n",
       "    <tr>\n",
       "      <th>0</th>\n",
       "      <td>0013_01</td>\n",
       "      <td>True</td>\n",
       "    </tr>\n",
       "    <tr>\n",
       "      <th>1</th>\n",
       "      <td>0018_01</td>\n",
       "      <td>False</td>\n",
       "    </tr>\n",
       "    <tr>\n",
       "      <th>2</th>\n",
       "      <td>0019_01</td>\n",
       "      <td>True</td>\n",
       "    </tr>\n",
       "  </tbody>\n",
       "</table>\n",
       "</div>"
      ],
      "text/plain": [
       "  PassengerId  Transported\n",
       "0     0013_01         True\n",
       "1     0018_01        False\n",
       "2     0019_01         True"
      ]
     },
     "execution_count": 58,
     "metadata": {},
     "output_type": "execute_result"
    }
   ],
   "source": [
    "test_df = pd.read_csv('data/test.csv')\n",
    "processed_test_data = process_new(test_df,True)\n",
    "processed_test_data.map(recon)\n",
    "processed_test_data.head(3)"
   ]
  },
  {
   "cell_type": "code",
   "execution_count": 59,
   "metadata": {},
   "outputs": [],
   "source": [
    "#processed_test_data.to_csv('data/submission.csv',index=False)"
   ]
  },
  {
   "cell_type": "code",
   "execution_count": 46,
   "metadata": {},
   "outputs": [
    {
     "name": "stdout",
     "output_type": "stream",
     "text": [
      "[16:43:38] WARNING: ../src/learner.cc:576: \n",
      "Parameters: { \"n_estimator\", \"num_boost_round\" } might not be used.\n",
      "\n",
      "  This could be a false alarm, with some parameters getting used by language bindings but\n",
      "  then being mistakenly passed down to XGBoost core, or some parameter actually being used\n",
      "  but getting flagged wrongly here. Please open an issue if you find any such cases.\n",
      "\n",
      "\n",
      "[16:43:39] WARNING: ../src/learner.cc:576: \n",
      "Parameters: { \"n_estimator\", \"num_boost_round\" } might not be used.\n",
      "\n",
      "  This could be a false alarm, with some parameters getting used by language bindings but\n",
      "  then being mistakenly passed down to XGBoost core, or some parameter actually being used\n",
      "  but getting flagged wrongly here. Please open an issue if you find any such cases.\n",
      "\n",
      "\n"
     ]
    },
    {
     "data": {
      "text/plain": [
       "0.8052147239263804"
      ]
     },
     "execution_count": 46,
     "metadata": {},
     "output_type": "execute_result"
    }
   ],
   "source": [
    "X = processed_data\n",
    "y = train_df['Transported'].map(tf)\n",
    "\n",
    "x_train,x_test,y_train,y_test = train_test_split(X,y,test_size=0.3)\n",
    "parameters = {'objective' :'reg:squarederror', 'colsample_bytree' : 0.3, 'learning_rate' : 0.1,\n",
    "                'max_depth' : 5, 'alpha' : 10, 'n_estimator' : 10}\n",
    "model_3 = train_xgb_model(parameters)\n",
    "fit_model(model_3,x_train,y_train)\n",
    "model_3.fit(x_train,y_train)\n",
    "y_pred = predict_results(model_3,x_test)\n",
    "acc = calculate_acc(model_1,y_test,y_pred)\n",
    "acc"
   ]
  },
  {
   "cell_type": "code",
   "execution_count": 47,
   "metadata": {},
   "outputs": [
    {
     "name": "stdout",
     "output_type": "stream",
     "text": [
      "Fitting 5 folds for each of 100 candidates, totalling 500 fits\n"
     ]
    },
    {
     "name": "stderr",
     "output_type": "stream",
     "text": [
      "[Parallel(n_jobs=5)]: Using backend LokyBackend with 5 concurrent workers.\n",
      "[Parallel(n_jobs=5)]: Done   8 tasks      | elapsed:   10.0s\n",
      "[Parallel(n_jobs=5)]: Done  62 tasks      | elapsed:   37.7s\n",
      "[Parallel(n_jobs=5)]: Done 152 tasks      | elapsed:  1.4min\n",
      "[Parallel(n_jobs=5)]: Done 278 tasks      | elapsed:  2.5min\n",
      "[Parallel(n_jobs=5)]: Done 440 tasks      | elapsed:  4.1min\n",
      "[Parallel(n_jobs=5)]: Done 500 out of 500 | elapsed:  4.7min finished\n",
      "/opt/conda/lib/python3.7/site-packages/xgboost/sklearn.py:1224: UserWarning: The use of label encoder in XGBClassifier is deprecated and will be removed in a future release. To remove this warning, do the following: 1) Pass option use_label_encoder=False when constructing XGBClassifier object; and 2) Encode your labels (y) as integers starting with 0, i.e. 0, 1, 2, ..., [num_class - 1].\n",
      "  warnings.warn(label_encoder_deprecation_msg, UserWarning)\n"
     ]
    },
    {
     "name": "stdout",
     "output_type": "stream",
     "text": [
      "[16:51:03] WARNING: ../src/learner.cc:576: \n",
      "Parameters: { \"n_estimator\", \"num_boost_round\" } might not be used.\n",
      "\n",
      "  This could be a false alarm, with some parameters getting used by language bindings but\n",
      "  then being mistakenly passed down to XGBoost core, or some parameter actually being used\n",
      "  but getting flagged wrongly here. Please open an issue if you find any such cases.\n",
      "\n",
      "\n"
     ]
    },
    {
     "data": {
      "text/plain": [
       "{'objective': 'reg:squarederror',\n",
       " 'n_estimator': 100,\n",
       " 'min_child_weight': 5,\n",
       " 'max_depth': 15,\n",
       " 'learning_rate': 0.5,\n",
       " 'booster': 'gbtree',\n",
       " 'alpha': 50}"
      ]
     },
     "execution_count": 47,
     "metadata": {},
     "output_type": "execute_result"
    }
   ],
   "source": [
    "#Retune Model_1\n",
    "booster = ['gbtree','gblinear']\n",
    "n_estimator = [10,50,100,200,500,1000]\n",
    "max_depth = [2,3,5,10,15,20,50]\n",
    "learning_rate = [0.01,0.05,0.1,0.2,0.3,0.5,0.7]\n",
    "min_child_weight = [1,5,10,15,20]\n",
    "base_score=[0.25,0.5,0.75,1]\n",
    "aplha = [5,10,15,50,100]\n",
    "objective = ['reg:squarederror']\n",
    "\n",
    "hyperparameter_grid = {\n",
    "    'n_estimator' : n_estimator,\n",
    "    'objective' : objective,\n",
    "    'max_depth' : max_depth,\n",
    "    'learning_rate' : learning_rate,\n",
    "    'min_child_weight' : min_child_weight,\n",
    "    'booster' : booster,\n",
    "    'alpha' : aplha\n",
    "}\n",
    "\n",
    "grid_search_cv = RandomizedSearchCV(\n",
    "        estimator=model_3,\n",
    "        param_distributions=hyperparameter_grid,\n",
    "        cv=5,n_iter=100,\n",
    "        scoring = 'neg_mean_absolute_error',\n",
    "        n_jobs=5,\n",
    "        verbose=5,\n",
    "        return_train_score=True,\n",
    "        random_state=42,\n",
    "        \n",
    ")\n",
    "grid_search_cv.fit(x_train,y_train)\n",
    "grid_search_cv.best_params_"
   ]
  },
  {
   "cell_type": "code",
   "execution_count": 67,
   "metadata": {},
   "outputs": [
    {
     "name": "stdout",
     "output_type": "stream",
     "text": [
      "[16:57:44] WARNING: ../src/learner.cc:576: \n",
      "Parameters: { \"n_estimator\", \"num_boost_round\" } might not be used.\n",
      "\n",
      "  This could be a false alarm, with some parameters getting used by language bindings but\n",
      "  then being mistakenly passed down to XGBoost core, or some parameter actually being used\n",
      "  but getting flagged wrongly here. Please open an issue if you find any such cases.\n",
      "\n",
      "\n",
      "[16:57:45] WARNING: ../src/learner.cc:576: \n",
      "Parameters: { \"n_estimator\", \"num_boost_round\" } might not be used.\n",
      "\n",
      "  This could be a false alarm, with some parameters getting used by language bindings but\n",
      "  then being mistakenly passed down to XGBoost core, or some parameter actually being used\n",
      "  but getting flagged wrongly here. Please open an issue if you find any such cases.\n",
      "\n",
      "\n"
     ]
    },
    {
     "data": {
      "text/plain": [
       "81.17331288343557"
      ]
     },
     "execution_count": 67,
     "metadata": {},
     "output_type": "execute_result"
    }
   ],
   "source": [
    "X = processed_data\n",
    "y = train_df['Transported'].map(tf)\n",
    "\n",
    "x_train,x_test,y_train,y_test = train_test_split(X,y,test_size=0.3)\n",
    "\"\"\"parameters = {'objective' :'reg:squarederror', 'colsample_bytree' : 0.3, 'learning_rate' : 0.5,\n",
    "                'max_depth' : 40, 'alpha' : 10, 'n_estimator' : 100}\"\"\"\n",
    "parameters = {'objective' :'reg:squarederror', 'colsample_bytree' : 0.3, 'learning_rate' : 0.5,\n",
    "                'max_depth' : 45, 'alpha' : 10, 'n_estimator' : 200}\n",
    "model_3_tuned = train_xgb_model(parameters)\n",
    "fit_model(model_3_tuned,x_train,y_train)\n",
    "model_3_tuned.fit(x_train,y_train)\n",
    "y_pred = predict_results(model_3_tuned,x_test)\n",
    "acc = calculate_acc(model_3_tuned,y_test,y_pred)\n",
    "acc*100"
   ]
  },
  {
   "cell_type": "code",
   "execution_count": 69,
   "metadata": {},
   "outputs": [
    {
     "name": "stdout",
     "output_type": "stream",
     "text": [
      "(4277, 13)\n",
      "4277\n",
      "(4277, 2)\n"
     ]
    },
    {
     "data": {
      "text/html": [
       "<div>\n",
       "<style scoped>\n",
       "    .dataframe tbody tr th:only-of-type {\n",
       "        vertical-align: middle;\n",
       "    }\n",
       "\n",
       "    .dataframe tbody tr th {\n",
       "        vertical-align: top;\n",
       "    }\n",
       "\n",
       "    .dataframe thead th {\n",
       "        text-align: right;\n",
       "    }\n",
       "</style>\n",
       "<table border=\"1\" class=\"dataframe\">\n",
       "  <thead>\n",
       "    <tr style=\"text-align: right;\">\n",
       "      <th></th>\n",
       "      <th>PassengerId</th>\n",
       "      <th>Transported</th>\n",
       "    </tr>\n",
       "  </thead>\n",
       "  <tbody>\n",
       "    <tr>\n",
       "      <th>0</th>\n",
       "      <td>0013_01</td>\n",
       "      <td>True</td>\n",
       "    </tr>\n",
       "    <tr>\n",
       "      <th>1</th>\n",
       "      <td>0018_01</td>\n",
       "      <td>False</td>\n",
       "    </tr>\n",
       "    <tr>\n",
       "      <th>2</th>\n",
       "      <td>0019_01</td>\n",
       "      <td>True</td>\n",
       "    </tr>\n",
       "  </tbody>\n",
       "</table>\n",
       "</div>"
      ],
      "text/plain": [
       "  PassengerId  Transported\n",
       "0     0013_01         True\n",
       "1     0018_01        False\n",
       "2     0019_01         True"
      ]
     },
     "execution_count": 69,
     "metadata": {},
     "output_type": "execute_result"
    }
   ],
   "source": [
    "test_df = pd.read_csv('data/test.csv')\n",
    "processed_test_data = process_new(test_df,True,model_3_tuned)\n",
    "processed_test_data['Transported'] = processed_test_data['Transported'].map(recon)\n",
    "processed_test_data.to_csv('data/submission_mode_3_tuned.csv',index=False)\n",
    "processed_test_data.head(3)\n"
   ]
  },
  {
   "cell_type": "code",
   "execution_count": 85,
   "metadata": {},
   "outputs": [],
   "source": [
    "#filename = 'model_artifacts/mod_81_acc.sav'\n",
    "#pickle.dump(model_3, open(filename, 'wb'))"
   ]
  },
  {
   "cell_type": "code",
   "execution_count": null,
   "metadata": {},
   "outputs": [],
   "source": []
  }
 ],
 "metadata": {
  "kernelspec": {
   "display_name": "Python 3 (Data Science)",
   "language": "python",
   "name": "python3__SAGEMAKER_INTERNAL__arn:aws:sagemaker:ap-south-1:394103062818:image/datascience-1.0"
  },
  "language_info": {
   "codemirror_mode": {
    "name": "ipython",
    "version": 3
   },
   "file_extension": ".py",
   "mimetype": "text/x-python",
   "name": "python",
   "nbconvert_exporter": "python",
   "pygments_lexer": "ipython3",
   "version": "3.7.10"
  }
 },
 "nbformat": 4,
 "nbformat_minor": 4
}
