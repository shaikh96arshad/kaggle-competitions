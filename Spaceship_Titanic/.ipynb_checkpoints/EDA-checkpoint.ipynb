{
 "cells": [
  {
   "cell_type": "code",
   "execution_count": 4,
   "metadata": {},
   "outputs": [],
   "source": [
    "import pandas as pd\n",
    "import numpy as np\n",
    "import matplotlib.pyplot as plt"
   ]
  },
  {
   "cell_type": "code",
   "execution_count": 5,
   "metadata": {},
   "outputs": [],
   "source": [
    "#pip install --upgrade numpy"
   ]
  },
  {
   "cell_type": "code",
   "execution_count": 6,
   "metadata": {},
   "outputs": [],
   "source": [
    "#pip install --upgrade numpy\n",
    "from matplotlib import cm\n",
    "import warnings\n",
    "warnings.filterwarnings('ignore')\n",
    "import seaborn as sns"
   ]
  },
  {
   "cell_type": "code",
   "execution_count": 7,
   "metadata": {},
   "outputs": [
    {
     "data": {
      "text/html": [
       "<div>\n",
       "<style scoped>\n",
       "    .dataframe tbody tr th:only-of-type {\n",
       "        vertical-align: middle;\n",
       "    }\n",
       "\n",
       "    .dataframe tbody tr th {\n",
       "        vertical-align: top;\n",
       "    }\n",
       "\n",
       "    .dataframe thead th {\n",
       "        text-align: right;\n",
       "    }\n",
       "</style>\n",
       "<table border=\"1\" class=\"dataframe\">\n",
       "  <thead>\n",
       "    <tr style=\"text-align: right;\">\n",
       "      <th></th>\n",
       "      <th>PassengerId</th>\n",
       "      <th>HomePlanet</th>\n",
       "      <th>CryoSleep</th>\n",
       "      <th>Cabin</th>\n",
       "      <th>Destination</th>\n",
       "      <th>Age</th>\n",
       "      <th>VIP</th>\n",
       "      <th>RoomService</th>\n",
       "      <th>FoodCourt</th>\n",
       "      <th>ShoppingMall</th>\n",
       "      <th>Spa</th>\n",
       "      <th>VRDeck</th>\n",
       "      <th>Name</th>\n",
       "      <th>Transported</th>\n",
       "    </tr>\n",
       "  </thead>\n",
       "  <tbody>\n",
       "    <tr>\n",
       "      <th>0</th>\n",
       "      <td>0001_01</td>\n",
       "      <td>Europa</td>\n",
       "      <td>False</td>\n",
       "      <td>B/0/P</td>\n",
       "      <td>TRAPPIST-1e</td>\n",
       "      <td>39.0</td>\n",
       "      <td>False</td>\n",
       "      <td>0.0</td>\n",
       "      <td>0.0</td>\n",
       "      <td>0.0</td>\n",
       "      <td>0.0</td>\n",
       "      <td>0.0</td>\n",
       "      <td>Maham Ofracculy</td>\n",
       "      <td>False</td>\n",
       "    </tr>\n",
       "    <tr>\n",
       "      <th>1</th>\n",
       "      <td>0002_01</td>\n",
       "      <td>Earth</td>\n",
       "      <td>False</td>\n",
       "      <td>F/0/S</td>\n",
       "      <td>TRAPPIST-1e</td>\n",
       "      <td>24.0</td>\n",
       "      <td>False</td>\n",
       "      <td>109.0</td>\n",
       "      <td>9.0</td>\n",
       "      <td>25.0</td>\n",
       "      <td>549.0</td>\n",
       "      <td>44.0</td>\n",
       "      <td>Juanna Vines</td>\n",
       "      <td>True</td>\n",
       "    </tr>\n",
       "    <tr>\n",
       "      <th>2</th>\n",
       "      <td>0003_01</td>\n",
       "      <td>Europa</td>\n",
       "      <td>False</td>\n",
       "      <td>A/0/S</td>\n",
       "      <td>TRAPPIST-1e</td>\n",
       "      <td>58.0</td>\n",
       "      <td>True</td>\n",
       "      <td>43.0</td>\n",
       "      <td>3576.0</td>\n",
       "      <td>0.0</td>\n",
       "      <td>6715.0</td>\n",
       "      <td>49.0</td>\n",
       "      <td>Altark Susent</td>\n",
       "      <td>False</td>\n",
       "    </tr>\n",
       "  </tbody>\n",
       "</table>\n",
       "</div>"
      ],
      "text/plain": [
       "  PassengerId HomePlanet CryoSleep  Cabin  Destination   Age    VIP  \\\n",
       "0     0001_01     Europa     False  B/0/P  TRAPPIST-1e  39.0  False   \n",
       "1     0002_01      Earth     False  F/0/S  TRAPPIST-1e  24.0  False   \n",
       "2     0003_01     Europa     False  A/0/S  TRAPPIST-1e  58.0   True   \n",
       "\n",
       "   RoomService  FoodCourt  ShoppingMall     Spa  VRDeck             Name  \\\n",
       "0          0.0        0.0           0.0     0.0     0.0  Maham Ofracculy   \n",
       "1        109.0        9.0          25.0   549.0    44.0     Juanna Vines   \n",
       "2         43.0     3576.0           0.0  6715.0    49.0    Altark Susent   \n",
       "\n",
       "   Transported  \n",
       "0        False  \n",
       "1         True  \n",
       "2        False  "
      ]
     },
     "execution_count": 7,
     "metadata": {},
     "output_type": "execute_result"
    }
   ],
   "source": [
    "train_path = 'data/train.csv'\n",
    "train_df = pd.read_csv(train_path)\n",
    "train_df.head(3)"
   ]
  },
  {
   "cell_type": "code",
   "execution_count": 8,
   "metadata": {},
   "outputs": [
    {
     "name": "stdout",
     "output_type": "stream",
     "text": [
      "<class 'pandas.core.frame.DataFrame'>\n",
      "RangeIndex: 8693 entries, 0 to 8692\n",
      "Data columns (total 14 columns):\n",
      " #   Column        Non-Null Count  Dtype  \n",
      "---  ------        --------------  -----  \n",
      " 0   PassengerId   8693 non-null   object \n",
      " 1   HomePlanet    8492 non-null   object \n",
      " 2   CryoSleep     8476 non-null   object \n",
      " 3   Cabin         8494 non-null   object \n",
      " 4   Destination   8511 non-null   object \n",
      " 5   Age           8514 non-null   float64\n",
      " 6   VIP           8490 non-null   object \n",
      " 7   RoomService   8512 non-null   float64\n",
      " 8   FoodCourt     8510 non-null   float64\n",
      " 9   ShoppingMall  8485 non-null   float64\n",
      " 10  Spa           8510 non-null   float64\n",
      " 11  VRDeck        8505 non-null   float64\n",
      " 12  Name          8493 non-null   object \n",
      " 13  Transported   8693 non-null   bool   \n",
      "dtypes: bool(1), float64(6), object(7)\n",
      "memory usage: 891.5+ KB\n"
     ]
    }
   ],
   "source": [
    "train_df.info()"
   ]
  },
  {
   "cell_type": "code",
   "execution_count": 9,
   "metadata": {},
   "outputs": [
    {
     "data": {
      "text/html": [
       "<div>\n",
       "<style scoped>\n",
       "    .dataframe tbody tr th:only-of-type {\n",
       "        vertical-align: middle;\n",
       "    }\n",
       "\n",
       "    .dataframe tbody tr th {\n",
       "        vertical-align: top;\n",
       "    }\n",
       "\n",
       "    .dataframe thead th {\n",
       "        text-align: right;\n",
       "    }\n",
       "</style>\n",
       "<table border=\"1\" class=\"dataframe\">\n",
       "  <thead>\n",
       "    <tr style=\"text-align: right;\">\n",
       "      <th></th>\n",
       "      <th>Age</th>\n",
       "      <th>RoomService</th>\n",
       "      <th>FoodCourt</th>\n",
       "      <th>ShoppingMall</th>\n",
       "      <th>Spa</th>\n",
       "      <th>VRDeck</th>\n",
       "    </tr>\n",
       "  </thead>\n",
       "  <tbody>\n",
       "    <tr>\n",
       "      <th>count</th>\n",
       "      <td>8514.000000</td>\n",
       "      <td>8512.000000</td>\n",
       "      <td>8510.000000</td>\n",
       "      <td>8485.000000</td>\n",
       "      <td>8510.000000</td>\n",
       "      <td>8505.000000</td>\n",
       "    </tr>\n",
       "    <tr>\n",
       "      <th>mean</th>\n",
       "      <td>28.827930</td>\n",
       "      <td>224.687617</td>\n",
       "      <td>458.077203</td>\n",
       "      <td>173.729169</td>\n",
       "      <td>311.138778</td>\n",
       "      <td>304.854791</td>\n",
       "    </tr>\n",
       "    <tr>\n",
       "      <th>std</th>\n",
       "      <td>14.489021</td>\n",
       "      <td>666.717663</td>\n",
       "      <td>1611.489240</td>\n",
       "      <td>604.696458</td>\n",
       "      <td>1136.705535</td>\n",
       "      <td>1145.717189</td>\n",
       "    </tr>\n",
       "    <tr>\n",
       "      <th>min</th>\n",
       "      <td>0.000000</td>\n",
       "      <td>0.000000</td>\n",
       "      <td>0.000000</td>\n",
       "      <td>0.000000</td>\n",
       "      <td>0.000000</td>\n",
       "      <td>0.000000</td>\n",
       "    </tr>\n",
       "    <tr>\n",
       "      <th>25%</th>\n",
       "      <td>19.000000</td>\n",
       "      <td>0.000000</td>\n",
       "      <td>0.000000</td>\n",
       "      <td>0.000000</td>\n",
       "      <td>0.000000</td>\n",
       "      <td>0.000000</td>\n",
       "    </tr>\n",
       "    <tr>\n",
       "      <th>50%</th>\n",
       "      <td>27.000000</td>\n",
       "      <td>0.000000</td>\n",
       "      <td>0.000000</td>\n",
       "      <td>0.000000</td>\n",
       "      <td>0.000000</td>\n",
       "      <td>0.000000</td>\n",
       "    </tr>\n",
       "    <tr>\n",
       "      <th>75%</th>\n",
       "      <td>38.000000</td>\n",
       "      <td>47.000000</td>\n",
       "      <td>76.000000</td>\n",
       "      <td>27.000000</td>\n",
       "      <td>59.000000</td>\n",
       "      <td>46.000000</td>\n",
       "    </tr>\n",
       "    <tr>\n",
       "      <th>max</th>\n",
       "      <td>79.000000</td>\n",
       "      <td>14327.000000</td>\n",
       "      <td>29813.000000</td>\n",
       "      <td>23492.000000</td>\n",
       "      <td>22408.000000</td>\n",
       "      <td>24133.000000</td>\n",
       "    </tr>\n",
       "  </tbody>\n",
       "</table>\n",
       "</div>"
      ],
      "text/plain": [
       "               Age   RoomService     FoodCourt  ShoppingMall           Spa  \\\n",
       "count  8514.000000   8512.000000   8510.000000   8485.000000   8510.000000   \n",
       "mean     28.827930    224.687617    458.077203    173.729169    311.138778   \n",
       "std      14.489021    666.717663   1611.489240    604.696458   1136.705535   \n",
       "min       0.000000      0.000000      0.000000      0.000000      0.000000   \n",
       "25%      19.000000      0.000000      0.000000      0.000000      0.000000   \n",
       "50%      27.000000      0.000000      0.000000      0.000000      0.000000   \n",
       "75%      38.000000     47.000000     76.000000     27.000000     59.000000   \n",
       "max      79.000000  14327.000000  29813.000000  23492.000000  22408.000000   \n",
       "\n",
       "             VRDeck  \n",
       "count   8505.000000  \n",
       "mean     304.854791  \n",
       "std     1145.717189  \n",
       "min        0.000000  \n",
       "25%        0.000000  \n",
       "50%        0.000000  \n",
       "75%       46.000000  \n",
       "max    24133.000000  "
      ]
     },
     "execution_count": 9,
     "metadata": {},
     "output_type": "execute_result"
    }
   ],
   "source": [
    "train_df.describe()"
   ]
  },
  {
   "cell_type": "code",
   "execution_count": 10,
   "metadata": {},
   "outputs": [
    {
     "data": {
      "text/plain": [
       "PassengerId       0\n",
       "HomePlanet      201\n",
       "CryoSleep       217\n",
       "Cabin           199\n",
       "Destination     182\n",
       "Age             179\n",
       "VIP             203\n",
       "RoomService     181\n",
       "FoodCourt       183\n",
       "ShoppingMall    208\n",
       "Spa             183\n",
       "VRDeck          188\n",
       "Name            200\n",
       "Transported       0\n",
       "dtype: int64"
      ]
     },
     "execution_count": 10,
     "metadata": {},
     "output_type": "execute_result"
    }
   ],
   "source": [
    "train_df.isnull().sum()"
   ]
  },
  {
   "cell_type": "code",
   "execution_count": 11,
   "metadata": {},
   "outputs": [],
   "source": [
    "train_df['Transported'].replace(['True',1],['False',0],inplace=True)\n",
    "#train_df.loc[(train_df.Transported == True )  , 'Transported'] = 1\n",
    "#train_df.loc[(train_df.Transported == False )  , 'Transported'] = 1"
   ]
  },
  {
   "cell_type": "code",
   "execution_count": 12,
   "metadata": {},
   "outputs": [
    {
     "data": {
      "text/plain": [
       "True     4378\n",
       "False    4315\n",
       "Name: Transported, dtype: int64"
      ]
     },
     "execution_count": 12,
     "metadata": {},
     "output_type": "execute_result"
    }
   ],
   "source": [
    "train_df['Transported'].value_counts()"
   ]
  },
  {
   "cell_type": "code",
   "execution_count": 13,
   "metadata": {},
   "outputs": [
    {
     "data": {
      "text/html": [
       "<div>\n",
       "<style scoped>\n",
       "    .dataframe tbody tr th:only-of-type {\n",
       "        vertical-align: middle;\n",
       "    }\n",
       "\n",
       "    .dataframe tbody tr th {\n",
       "        vertical-align: top;\n",
       "    }\n",
       "\n",
       "    .dataframe thead th {\n",
       "        text-align: right;\n",
       "    }\n",
       "</style>\n",
       "<table border=\"1\" class=\"dataframe\">\n",
       "  <thead>\n",
       "    <tr style=\"text-align: right;\">\n",
       "      <th></th>\n",
       "      <th>PassengerId</th>\n",
       "      <th>HomePlanet</th>\n",
       "      <th>CryoSleep</th>\n",
       "      <th>Cabin</th>\n",
       "      <th>Destination</th>\n",
       "      <th>Age</th>\n",
       "      <th>VIP</th>\n",
       "      <th>RoomService</th>\n",
       "      <th>FoodCourt</th>\n",
       "      <th>ShoppingMall</th>\n",
       "      <th>Spa</th>\n",
       "      <th>VRDeck</th>\n",
       "      <th>Name</th>\n",
       "      <th>Transported</th>\n",
       "      <th>GroupId</th>\n",
       "      <th>GrpPassId</th>\n",
       "      <th>Deck</th>\n",
       "      <th>Decknum</th>\n",
       "      <th>DeckSide</th>\n",
       "    </tr>\n",
       "  </thead>\n",
       "  <tbody>\n",
       "    <tr>\n",
       "      <th>0</th>\n",
       "      <td>0001_01</td>\n",
       "      <td>Europa</td>\n",
       "      <td>False</td>\n",
       "      <td>B/0/P</td>\n",
       "      <td>TRAPPIST-1e</td>\n",
       "      <td>39.0</td>\n",
       "      <td>False</td>\n",
       "      <td>0.0</td>\n",
       "      <td>0.0</td>\n",
       "      <td>0.0</td>\n",
       "      <td>0.0</td>\n",
       "      <td>0.0</td>\n",
       "      <td>Maham Ofracculy</td>\n",
       "      <td>False</td>\n",
       "      <td>0001</td>\n",
       "      <td>01</td>\n",
       "      <td>B</td>\n",
       "      <td>0</td>\n",
       "      <td>P</td>\n",
       "    </tr>\n",
       "    <tr>\n",
       "      <th>1</th>\n",
       "      <td>0002_01</td>\n",
       "      <td>Earth</td>\n",
       "      <td>False</td>\n",
       "      <td>F/0/S</td>\n",
       "      <td>TRAPPIST-1e</td>\n",
       "      <td>24.0</td>\n",
       "      <td>False</td>\n",
       "      <td>109.0</td>\n",
       "      <td>9.0</td>\n",
       "      <td>25.0</td>\n",
       "      <td>549.0</td>\n",
       "      <td>44.0</td>\n",
       "      <td>Juanna Vines</td>\n",
       "      <td>True</td>\n",
       "      <td>0002</td>\n",
       "      <td>01</td>\n",
       "      <td>F</td>\n",
       "      <td>0</td>\n",
       "      <td>S</td>\n",
       "    </tr>\n",
       "    <tr>\n",
       "      <th>2</th>\n",
       "      <td>0003_01</td>\n",
       "      <td>Europa</td>\n",
       "      <td>False</td>\n",
       "      <td>A/0/S</td>\n",
       "      <td>TRAPPIST-1e</td>\n",
       "      <td>58.0</td>\n",
       "      <td>True</td>\n",
       "      <td>43.0</td>\n",
       "      <td>3576.0</td>\n",
       "      <td>0.0</td>\n",
       "      <td>6715.0</td>\n",
       "      <td>49.0</td>\n",
       "      <td>Altark Susent</td>\n",
       "      <td>False</td>\n",
       "      <td>0003</td>\n",
       "      <td>01</td>\n",
       "      <td>A</td>\n",
       "      <td>0</td>\n",
       "      <td>S</td>\n",
       "    </tr>\n",
       "  </tbody>\n",
       "</table>\n",
       "</div>"
      ],
      "text/plain": [
       "  PassengerId HomePlanet CryoSleep  Cabin  Destination   Age    VIP  \\\n",
       "0     0001_01     Europa     False  B/0/P  TRAPPIST-1e  39.0  False   \n",
       "1     0002_01      Earth     False  F/0/S  TRAPPIST-1e  24.0  False   \n",
       "2     0003_01     Europa     False  A/0/S  TRAPPIST-1e  58.0   True   \n",
       "\n",
       "   RoomService  FoodCourt  ShoppingMall     Spa  VRDeck             Name  \\\n",
       "0          0.0        0.0           0.0     0.0     0.0  Maham Ofracculy   \n",
       "1        109.0        9.0          25.0   549.0    44.0     Juanna Vines   \n",
       "2         43.0     3576.0           0.0  6715.0    49.0    Altark Susent   \n",
       "\n",
       "   Transported GroupId GrpPassId Deck Decknum DeckSide  \n",
       "0        False    0001        01    B       0        P  \n",
       "1         True    0002        01    F       0        S  \n",
       "2        False    0003        01    A       0        S  "
      ]
     },
     "execution_count": 13,
     "metadata": {},
     "output_type": "execute_result"
    }
   ],
   "source": [
    "train_df[['GroupId','GrpPassId']] = train_df['PassengerId'].str.split('_',expand=True)\n",
    "train_df[['Deck','Decknum','DeckSide']] = train_df['Cabin'].str.split('/',expand=True)\n",
    "train_df.head(3)"
   ]
  },
  {
   "cell_type": "code",
   "execution_count": 16,
   "metadata": {},
   "outputs": [
    {
     "data": {
      "text/plain": [
       "3850    6\n",
       "5812    6\n",
       "5812    6\n",
       "5812    6\n",
       "5812    6\n",
       "       ..\n",
       "6139    6\n",
       "6139    6\n",
       "6139    6\n",
       "6139    6\n",
       "6139    6\n",
       "Name: GroupId, Length: 3349, dtype: int64"
      ]
     },
     "execution_count": 16,
     "metadata": {},
     "output_type": "execute_result"
    }
   ],
   "source": [
    "s = train_df[train_df['Transported'] == True]['GroupId'].value_counts() \n",
    "(s[s])"
   ]
  },
  {
   "cell_type": "code",
   "execution_count": 17,
   "metadata": {},
   "outputs": [
    {
     "data": {
      "text/plain": [
       "TRAPPIST-1e      150\n",
       "55 Cancri e       31\n",
       "PSO J318.5-22     16\n",
       "Name: Destination, dtype: int64"
      ]
     },
     "execution_count": 17,
     "metadata": {},
     "output_type": "execute_result"
    }
   ],
   "source": [
    "#Figure out Destination for Homeplanet = Null\n",
    "train_df[train_df['HomePlanet'].isnull()]['Destination'].value_counts()"
   ]
  },
  {
   "cell_type": "code",
   "execution_count": 18,
   "metadata": {},
   "outputs": [
    {
     "data": {
      "text/plain": [
       "Earth     3101\n",
       "Mars      1475\n",
       "Europa    1189\n",
       "Name: HomePlanet, dtype: int64"
      ]
     },
     "execution_count": 18,
     "metadata": {},
     "output_type": "execute_result"
    }
   ],
   "source": [
    "#Figure out max passenger traveling to max (Homeplanet = null)\n",
    "train_df[train_df['Destination'] == 'TRAPPIST-1e']['HomePlanet'].value_counts()"
   ]
  },
  {
   "cell_type": "code",
   "execution_count": 19,
   "metadata": {},
   "outputs": [
    {
     "data": {
      "text/plain": [
       "Europa    886\n",
       "Earth     690\n",
       "Mars      193\n",
       "Name: HomePlanet, dtype: int64"
      ]
     },
     "execution_count": 19,
     "metadata": {},
     "output_type": "execute_result"
    }
   ],
   "source": [
    "train_df[train_df['Destination'] == '55 Cancri e']['HomePlanet'].value_counts()"
   ]
  },
  {
   "cell_type": "code",
   "execution_count": 20,
   "metadata": {},
   "outputs": [
    {
     "data": {
      "text/plain": [
       "Earth     712\n",
       "Mars       49\n",
       "Europa     19\n",
       "Name: HomePlanet, dtype: int64"
      ]
     },
     "execution_count": 20,
     "metadata": {},
     "output_type": "execute_result"
    }
   ],
   "source": [
    "train_df[train_df['Destination'] == 'PSO J318.5-22']['HomePlanet'].value_counts()"
   ]
  },
  {
   "cell_type": "code",
   "execution_count": 21,
   "metadata": {},
   "outputs": [
    {
     "data": {
      "text/plain": [
       "0"
      ]
     },
     "execution_count": 21,
     "metadata": {},
     "output_type": "execute_result"
    }
   ],
   "source": [
    "#train_df[train_df['Destination'] == 'TRAPPIST-1e']['HomePlanet'].fillna(value = 'Earth',inplace=True)\n",
    "#train_df[train_df['Destination'] == '55 Cancri e']['HomePlanet'].fillna(value = 'Europa',inplace=True)\n",
    "#train_df[train_df['Destination'] == 'PSO J318.5-22']['HomePlanet'].fillna(value = 'Earth',inplace=True)\n",
    "train_df.loc[(train_df.Destination == 'TRAPPIST-1e' )  & (train_df.HomePlanet.isnull()), 'HomePlanet'] ='Earth'\n",
    "train_df.loc[(train_df.Destination == '55 Cancri e' )  & (train_df.HomePlanet.isnull()), 'HomePlanet'] = 'Europa'\n",
    "train_df.loc[(train_df.Destination == 'PSO J318.5-22' ) & (train_df.HomePlanet.isnull()) , 'HomePlanet'] = 'Earth'\n",
    "train_df['HomePlanet'].fillna(value='Earth',inplace=True)\n",
    "train_df['HomePlanet'].isnull().sum()"
   ]
  },
  {
   "cell_type": "code",
   "execution_count": 22,
   "metadata": {},
   "outputs": [],
   "source": [
    "train_df.dropna(how = 'all',inplace=True)"
   ]
  },
  {
   "cell_type": "code",
   "execution_count": 23,
   "metadata": {},
   "outputs": [
    {
     "data": {
      "text/plain": [
       "(8693, 19)"
      ]
     },
     "execution_count": 23,
     "metadata": {},
     "output_type": "execute_result"
    }
   ],
   "source": [
    "train_df.shape"
   ]
  },
  {
   "cell_type": "code",
   "execution_count": 24,
   "metadata": {},
   "outputs": [
    {
     "name": "stdout",
     "output_type": "stream",
     "text": [
      "Destination\n",
      "TRAPPIST-1e      150\n",
      "55 Cancri e       44\n",
      "PSO J318.5-22     19\n",
      "Name: Destination, dtype: int64\n",
      "Passenger Group\n",
      "01    149\n",
      "02     42\n",
      "03     14\n",
      "04      6\n",
      "05      4\n",
      "07      1\n",
      "06      1\n",
      "Name: GrpPassId, dtype: int64\n"
     ]
    }
   ],
   "source": [
    "#Opted for Cryosleep with Destination\n",
    "print(\"Destination\")\n",
    "print(train_df[train_df['CryoSleep'].isnull()]['Destination'].value_counts())\n",
    "#Opted for Cryosleep with Age\n",
    "print(\"Passenger Group\")\n",
    "print(train_df[train_df['CryoSleep'].isnull()]['GrpPassId'].value_counts())\n",
    "\n",
    "#Check deck number and deck side\n",
    "cryo_null_index = train_df[train_df['CryoSleep'].isnull()].index"
   ]
  },
  {
   "cell_type": "code",
   "execution_count": 25,
   "metadata": {},
   "outputs": [
    {
     "name": "stdout",
     "output_type": "stream",
     "text": [
      "0\n"
     ]
    }
   ],
   "source": [
    "print(train_df[train_df['GrpPassId'] == 6]['CryoSleep'].isnull().sum())"
   ]
  },
  {
   "cell_type": "code",
   "execution_count": 26,
   "metadata": {},
   "outputs": [
    {
     "name": "stdout",
     "output_type": "stream",
     "text": [
      "HomePlanet\n",
      "Earth     1440\n",
      "Europa     928\n",
      "Mars       669\n",
      "Name: HomePlanet, dtype: int64\n",
      "Destination\n",
      "TRAPPIST-1e      1867\n",
      "55 Cancri e       739\n",
      "PSO J318.5-22     383\n",
      "Name: Destination, dtype: int64\n",
      "Age\n",
      "18.0    114\n",
      "21.0     96\n",
      "25.0     95\n",
      "28.0     94\n",
      "26.0     89\n",
      "       ... \n",
      "66.0      2\n",
      "78.0      1\n",
      "73.0      1\n",
      "74.0      1\n",
      "76.0      1\n",
      "Name: Age, Length: 78, dtype: int64\n",
      "VIP\n",
      "False    2941\n",
      "True       21\n",
      "Name: VIP, dtype: int64\n",
      "RoomService\n",
      "0.0    2969\n",
      "Name: RoomService, dtype: int64\n",
      "FoodCourt\n",
      "0.0    2967\n",
      "Name: FoodCourt, dtype: int64\n",
      "ShoppingMall\n",
      "0.0    2941\n",
      "Name: ShoppingMall, dtype: int64\n",
      "Spa\n",
      "0.0    2972\n",
      "Name: Spa, dtype: int64\n",
      "VRDeck\n",
      "0.0    2975\n",
      "Name: VRDeck, dtype: int64\n",
      "Transported\n",
      "True     2483\n",
      "False     554\n",
      "Name: Transported, dtype: int64\n",
      "GroupId\n",
      "8988    6\n",
      "0571    6\n",
      "6363    6\n",
      "0714    5\n",
      "3645    5\n",
      "       ..\n",
      "3349    1\n",
      "3343    1\n",
      "3342    1\n",
      "3339    1\n",
      "9278    1\n",
      "Name: GroupId, Length: 2483, dtype: int64\n",
      "GrpPassId\n",
      "01    2030\n",
      "02     563\n",
      "03     246\n",
      "04      86\n",
      "05      57\n",
      "06      28\n",
      "07      21\n",
      "08       6\n",
      "Name: GrpPassId, dtype: int64\n",
      "Deck\n",
      "G    1350\n",
      "F     550\n",
      "B     419\n",
      "C     294\n",
      "E     168\n",
      "D     104\n",
      "A      68\n",
      "Name: Deck, dtype: int64\n",
      "Decknum\n",
      "109     13\n",
      "176     11\n",
      "86      11\n",
      "18      11\n",
      "82      11\n",
      "        ..\n",
      "491      1\n",
      "511      1\n",
      "197      1\n",
      "649      1\n",
      "1499     1\n",
      "Name: Decknum, Length: 1258, dtype: int64\n",
      "DeckSide\n",
      "S    1533\n",
      "P    1420\n",
      "Name: DeckSide, dtype: int64\n"
     ]
    }
   ],
   "source": [
    "train_df.iloc[cryo_null_index]\n",
    "for col in train_df.columns:\n",
    "    if col not in ['PassengerId','Cabin','CryoSleep','Name']:\n",
    "        print(col)\n",
    "        #print(train_df[col].iloc[cryo_null_index].value_counts())\n",
    "        print(train_df[train_df['CryoSleep'] == True ][col].value_counts())\n",
    "        \n",
    "#people with 0 Room Service, FoodCourt shopping Mall , VRDeck expense have opted for cryo sleep"
   ]
  },
  {
   "cell_type": "code",
   "execution_count": 27,
   "metadata": {},
   "outputs": [],
   "source": [
    "train_df['Expenditure'] = train_df['RoomService'] + train_df['FoodCourt'] + train_df['ShoppingMall'] + train_df['Spa'] +train_df['VRDeck']"
   ]
  },
  {
   "cell_type": "code",
   "execution_count": 28,
   "metadata": {},
   "outputs": [],
   "source": [
    "\"\"\"train_df.loc[((train_df.RoomService < 1) & (train_df.FoodCourt < 1) ) , 'CryoSleep'] = True \n",
    "train_df.loc[((train_df.RoomService < 1)) , 'CryoSleep'] = True \n",
    "train_df.loc[((train_df.FoodCourt < 1) ) , 'CryoSleep'] = True \n",
    "train_df.loc[((train_df.FoodCourt < 1) ) , 'CryoSleep'] = True \n",
    "train_df.loc[((train_df.HomePlanet == 'Earth') ) , 'CryoSleep'] = True\"\"\"\n",
    "train_df.loc[((train_df.Expenditure < 1)),'CryoSleep'] = True\n",
    "train_df.loc[((train_df.Destination == train_df['HomePlanet']) ) , 'CryoSleep'] = True \n",
    "train_df['CryoSleep'].fillna(False,inplace =True)"
   ]
  },
  {
   "cell_type": "code",
   "execution_count": 29,
   "metadata": {},
   "outputs": [
    {
     "data": {
      "text/plain": [
       "Series([], Name: Destination, dtype: int64)"
      ]
     },
     "execution_count": 29,
     "metadata": {},
     "output_type": "execute_result"
    }
   ],
   "source": [
    "train_df[(train_df['CryoSleep'] == True) & (train_df['HomePlanet'] == 'Europa') & (train_df['Destination'] == 'Europa')]['Destination'].value_counts()"
   ]
  },
  {
   "cell_type": "code",
   "execution_count": 30,
   "metadata": {},
   "outputs": [
    {
     "data": {
      "text/plain": [
       "0"
      ]
     },
     "execution_count": 30,
     "metadata": {},
     "output_type": "execute_result"
    }
   ],
   "source": [
    "train_df['CryoSleep'].isnull().sum()"
   ]
  },
  {
   "cell_type": "code",
   "execution_count": 31,
   "metadata": {},
   "outputs": [
    {
     "name": "stdout",
     "output_type": "stream",
     "text": [
      "199\n",
      "B    42\n",
      "C    41\n",
      "A    35\n",
      "D    31\n",
      "F    29\n",
      "E    15\n",
      "Name: Deck, dtype: int64\n"
     ]
    }
   ],
   "source": [
    "#Handle Missing values for Deck\n",
    "print(train_df['Cabin'].isnull().sum())\n",
    "print(train_df[train_df['VIP'] == True ]['Deck'].value_counts())\n",
    "train_df[train_df['Deck'] == 'A' ].to_csv('data/Deckdata.csv',index=False)\n"
   ]
  },
  {
   "cell_type": "code",
   "execution_count": 32,
   "metadata": {},
   "outputs": [
    {
     "data": {
      "text/plain": [
       "\"for i in range(len(train_df)):\\n    if pd.isnull(train_df.loc[i,'Cabin']):\\n#        print(train_df.loc[i,'Cabin'])\\n        if (train_df.loc[i,'GroupId'] == train_df.loc[i-1,'GroupId']) & i != 0:\\n            train_df.loc[i,'Cabin'] = train_df.loc[i-1,'Cabin']\\n        elif (train_df.loc[i,'GroupId'] == train_df.loc[i+1,'GroupId']):\\n            train_df.loc[i,'Cabin'] = train_df.loc[i-1,'Cabin']\\n\""
      ]
     },
     "execution_count": 32,
     "metadata": {},
     "output_type": "execute_result"
    }
   ],
   "source": [
    "\"\"\"for i in range(len(train_df)):\n",
    "    if pd.isnull(train_df.loc[i,'Cabin']):\n",
    "#        print(train_df.loc[i,'Cabin'])\n",
    "        if (train_df.loc[i,'GroupId'] == train_df.loc[i-1,'GroupId']) & i != 0:\n",
    "            train_df.loc[i,'Cabin'] = train_df.loc[i-1,'Cabin']\n",
    "        elif (train_df.loc[i,'GroupId'] == train_df.loc[i+1,'GroupId']):\n",
    "            train_df.loc[i,'Cabin'] = train_df.loc[i-1,'Cabin']\n",
    "\"\"\""
   ]
  },
  {
   "cell_type": "code",
   "execution_count": 33,
   "metadata": {},
   "outputs": [
    {
     "name": "stdout",
     "output_type": "stream",
     "text": [
      "199\n"
     ]
    }
   ],
   "source": [
    "print(train_df['Cabin'].isnull().sum())"
   ]
  },
  {
   "cell_type": "code",
   "execution_count": 34,
   "metadata": {},
   "outputs": [
    {
     "data": {
      "text/html": [
       "<div>\n",
       "<style scoped>\n",
       "    .dataframe tbody tr th:only-of-type {\n",
       "        vertical-align: middle;\n",
       "    }\n",
       "\n",
       "    .dataframe tbody tr th {\n",
       "        vertical-align: top;\n",
       "    }\n",
       "\n",
       "    .dataframe thead th {\n",
       "        text-align: right;\n",
       "    }\n",
       "</style>\n",
       "<table border=\"1\" class=\"dataframe\">\n",
       "  <thead>\n",
       "    <tr style=\"text-align: right;\">\n",
       "      <th></th>\n",
       "      <th>PassengerId</th>\n",
       "      <th>HomePlanet</th>\n",
       "      <th>CryoSleep</th>\n",
       "      <th>Cabin</th>\n",
       "      <th>Destination</th>\n",
       "      <th>Age</th>\n",
       "      <th>VIP</th>\n",
       "      <th>RoomService</th>\n",
       "      <th>FoodCourt</th>\n",
       "      <th>ShoppingMall</th>\n",
       "      <th>Spa</th>\n",
       "      <th>VRDeck</th>\n",
       "      <th>Name</th>\n",
       "      <th>Transported</th>\n",
       "      <th>GroupId</th>\n",
       "      <th>GrpPassId</th>\n",
       "      <th>Deck</th>\n",
       "      <th>Decknum</th>\n",
       "      <th>DeckSide</th>\n",
       "      <th>Expenditure</th>\n",
       "    </tr>\n",
       "  </thead>\n",
       "  <tbody>\n",
       "    <tr>\n",
       "      <th>15</th>\n",
       "      <td>0012_01</td>\n",
       "      <td>Earth</td>\n",
       "      <td>False</td>\n",
       "      <td>NaN</td>\n",
       "      <td>TRAPPIST-1e</td>\n",
       "      <td>31.0</td>\n",
       "      <td>False</td>\n",
       "      <td>32.0</td>\n",
       "      <td>0.0</td>\n",
       "      <td>876.0</td>\n",
       "      <td>0.0</td>\n",
       "      <td>0.0</td>\n",
       "      <td>Justie Pooles</td>\n",
       "      <td>False</td>\n",
       "      <td>0012</td>\n",
       "      <td>01</td>\n",
       "      <td>NaN</td>\n",
       "      <td>NaN</td>\n",
       "      <td>NaN</td>\n",
       "      <td>908.0</td>\n",
       "    </tr>\n",
       "    <tr>\n",
       "      <th>93</th>\n",
       "      <td>0101_01</td>\n",
       "      <td>Mars</td>\n",
       "      <td>True</td>\n",
       "      <td>NaN</td>\n",
       "      <td>TRAPPIST-1e</td>\n",
       "      <td>31.0</td>\n",
       "      <td>False</td>\n",
       "      <td>0.0</td>\n",
       "      <td>0.0</td>\n",
       "      <td>0.0</td>\n",
       "      <td>0.0</td>\n",
       "      <td>0.0</td>\n",
       "      <td>Book Trad</td>\n",
       "      <td>True</td>\n",
       "      <td>0101</td>\n",
       "      <td>01</td>\n",
       "      <td>NaN</td>\n",
       "      <td>NaN</td>\n",
       "      <td>NaN</td>\n",
       "      <td>0.0</td>\n",
       "    </tr>\n",
       "    <tr>\n",
       "      <th>103</th>\n",
       "      <td>0110_01</td>\n",
       "      <td>Europa</td>\n",
       "      <td>False</td>\n",
       "      <td>NaN</td>\n",
       "      <td>TRAPPIST-1e</td>\n",
       "      <td>32.0</td>\n",
       "      <td>False</td>\n",
       "      <td>0.0</td>\n",
       "      <td>410.0</td>\n",
       "      <td>6.0</td>\n",
       "      <td>3929.0</td>\n",
       "      <td>764.0</td>\n",
       "      <td>Graviph Aloubtled</td>\n",
       "      <td>False</td>\n",
       "      <td>0110</td>\n",
       "      <td>01</td>\n",
       "      <td>NaN</td>\n",
       "      <td>NaN</td>\n",
       "      <td>NaN</td>\n",
       "      <td>5109.0</td>\n",
       "    </tr>\n",
       "    <tr>\n",
       "      <th>222</th>\n",
       "      <td>0239_01</td>\n",
       "      <td>Mars</td>\n",
       "      <td>False</td>\n",
       "      <td>NaN</td>\n",
       "      <td>TRAPPIST-1e</td>\n",
       "      <td>37.0</td>\n",
       "      <td>False</td>\n",
       "      <td>637.0</td>\n",
       "      <td>0.0</td>\n",
       "      <td>0.0</td>\n",
       "      <td>92.0</td>\n",
       "      <td>319.0</td>\n",
       "      <td>Diedow Resty</td>\n",
       "      <td>False</td>\n",
       "      <td>0239</td>\n",
       "      <td>01</td>\n",
       "      <td>NaN</td>\n",
       "      <td>NaN</td>\n",
       "      <td>NaN</td>\n",
       "      <td>1048.0</td>\n",
       "    </tr>\n",
       "    <tr>\n",
       "      <th>227</th>\n",
       "      <td>0244_01</td>\n",
       "      <td>Mars</td>\n",
       "      <td>True</td>\n",
       "      <td>NaN</td>\n",
       "      <td>TRAPPIST-1e</td>\n",
       "      <td>43.0</td>\n",
       "      <td>False</td>\n",
       "      <td>0.0</td>\n",
       "      <td>0.0</td>\n",
       "      <td>0.0</td>\n",
       "      <td>0.0</td>\n",
       "      <td>0.0</td>\n",
       "      <td>Froos Sad</td>\n",
       "      <td>True</td>\n",
       "      <td>0244</td>\n",
       "      <td>01</td>\n",
       "      <td>NaN</td>\n",
       "      <td>NaN</td>\n",
       "      <td>NaN</td>\n",
       "      <td>0.0</td>\n",
       "    </tr>\n",
       "    <tr>\n",
       "      <th>...</th>\n",
       "      <td>...</td>\n",
       "      <td>...</td>\n",
       "      <td>...</td>\n",
       "      <td>...</td>\n",
       "      <td>...</td>\n",
       "      <td>...</td>\n",
       "      <td>...</td>\n",
       "      <td>...</td>\n",
       "      <td>...</td>\n",
       "      <td>...</td>\n",
       "      <td>...</td>\n",
       "      <td>...</td>\n",
       "      <td>...</td>\n",
       "      <td>...</td>\n",
       "      <td>...</td>\n",
       "      <td>...</td>\n",
       "      <td>...</td>\n",
       "      <td>...</td>\n",
       "      <td>...</td>\n",
       "      <td>...</td>\n",
       "    </tr>\n",
       "    <tr>\n",
       "      <th>8209</th>\n",
       "      <td>8772_02</td>\n",
       "      <td>Europa</td>\n",
       "      <td>False</td>\n",
       "      <td>NaN</td>\n",
       "      <td>55 Cancri e</td>\n",
       "      <td>53.0</td>\n",
       "      <td>False</td>\n",
       "      <td>0.0</td>\n",
       "      <td>1127.0</td>\n",
       "      <td>0.0</td>\n",
       "      <td>3939.0</td>\n",
       "      <td>NaN</td>\n",
       "      <td>Naosura Motled</td>\n",
       "      <td>False</td>\n",
       "      <td>8772</td>\n",
       "      <td>02</td>\n",
       "      <td>NaN</td>\n",
       "      <td>NaN</td>\n",
       "      <td>NaN</td>\n",
       "      <td>NaN</td>\n",
       "    </tr>\n",
       "    <tr>\n",
       "      <th>8475</th>\n",
       "      <td>9057_01</td>\n",
       "      <td>Europa</td>\n",
       "      <td>False</td>\n",
       "      <td>NaN</td>\n",
       "      <td>55 Cancri e</td>\n",
       "      <td>36.0</td>\n",
       "      <td>True</td>\n",
       "      <td>132.0</td>\n",
       "      <td>3479.0</td>\n",
       "      <td>0.0</td>\n",
       "      <td>3786.0</td>\n",
       "      <td>0.0</td>\n",
       "      <td>Coxan Statch</td>\n",
       "      <td>False</td>\n",
       "      <td>9057</td>\n",
       "      <td>01</td>\n",
       "      <td>NaN</td>\n",
       "      <td>NaN</td>\n",
       "      <td>NaN</td>\n",
       "      <td>7397.0</td>\n",
       "    </tr>\n",
       "    <tr>\n",
       "      <th>8485</th>\n",
       "      <td>9069_03</td>\n",
       "      <td>Europa</td>\n",
       "      <td>True</td>\n",
       "      <td>NaN</td>\n",
       "      <td>55 Cancri e</td>\n",
       "      <td>25.0</td>\n",
       "      <td>False</td>\n",
       "      <td>0.0</td>\n",
       "      <td>0.0</td>\n",
       "      <td>0.0</td>\n",
       "      <td>0.0</td>\n",
       "      <td>0.0</td>\n",
       "      <td>Bath Brakeng</td>\n",
       "      <td>True</td>\n",
       "      <td>9069</td>\n",
       "      <td>03</td>\n",
       "      <td>NaN</td>\n",
       "      <td>NaN</td>\n",
       "      <td>NaN</td>\n",
       "      <td>0.0</td>\n",
       "    </tr>\n",
       "    <tr>\n",
       "      <th>8509</th>\n",
       "      <td>9081_03</td>\n",
       "      <td>Earth</td>\n",
       "      <td>True</td>\n",
       "      <td>NaN</td>\n",
       "      <td>TRAPPIST-1e</td>\n",
       "      <td>1.0</td>\n",
       "      <td>False</td>\n",
       "      <td>0.0</td>\n",
       "      <td>0.0</td>\n",
       "      <td>0.0</td>\n",
       "      <td>0.0</td>\n",
       "      <td>0.0</td>\n",
       "      <td>Beula Clemondsey</td>\n",
       "      <td>False</td>\n",
       "      <td>9081</td>\n",
       "      <td>03</td>\n",
       "      <td>NaN</td>\n",
       "      <td>NaN</td>\n",
       "      <td>NaN</td>\n",
       "      <td>0.0</td>\n",
       "    </tr>\n",
       "    <tr>\n",
       "      <th>8656</th>\n",
       "      <td>9233_01</td>\n",
       "      <td>Earth</td>\n",
       "      <td>False</td>\n",
       "      <td>NaN</td>\n",
       "      <td>TRAPPIST-1e</td>\n",
       "      <td>41.0</td>\n",
       "      <td>False</td>\n",
       "      <td>3.0</td>\n",
       "      <td>0.0</td>\n",
       "      <td>668.0</td>\n",
       "      <td>0.0</td>\n",
       "      <td>0.0</td>\n",
       "      <td>Royce Giller</td>\n",
       "      <td>True</td>\n",
       "      <td>9233</td>\n",
       "      <td>01</td>\n",
       "      <td>NaN</td>\n",
       "      <td>NaN</td>\n",
       "      <td>NaN</td>\n",
       "      <td>671.0</td>\n",
       "    </tr>\n",
       "  </tbody>\n",
       "</table>\n",
       "<p>199 rows × 20 columns</p>\n",
       "</div>"
      ],
      "text/plain": [
       "     PassengerId HomePlanet  CryoSleep Cabin  Destination   Age    VIP  \\\n",
       "15       0012_01      Earth      False   NaN  TRAPPIST-1e  31.0  False   \n",
       "93       0101_01       Mars       True   NaN  TRAPPIST-1e  31.0  False   \n",
       "103      0110_01     Europa      False   NaN  TRAPPIST-1e  32.0  False   \n",
       "222      0239_01       Mars      False   NaN  TRAPPIST-1e  37.0  False   \n",
       "227      0244_01       Mars       True   NaN  TRAPPIST-1e  43.0  False   \n",
       "...          ...        ...        ...   ...          ...   ...    ...   \n",
       "8209     8772_02     Europa      False   NaN  55 Cancri e  53.0  False   \n",
       "8475     9057_01     Europa      False   NaN  55 Cancri e  36.0   True   \n",
       "8485     9069_03     Europa       True   NaN  55 Cancri e  25.0  False   \n",
       "8509     9081_03      Earth       True   NaN  TRAPPIST-1e   1.0  False   \n",
       "8656     9233_01      Earth      False   NaN  TRAPPIST-1e  41.0  False   \n",
       "\n",
       "      RoomService  FoodCourt  ShoppingMall     Spa  VRDeck               Name  \\\n",
       "15           32.0        0.0         876.0     0.0     0.0      Justie Pooles   \n",
       "93            0.0        0.0           0.0     0.0     0.0          Book Trad   \n",
       "103           0.0      410.0           6.0  3929.0   764.0  Graviph Aloubtled   \n",
       "222         637.0        0.0           0.0    92.0   319.0       Diedow Resty   \n",
       "227           0.0        0.0           0.0     0.0     0.0          Froos Sad   \n",
       "...           ...        ...           ...     ...     ...                ...   \n",
       "8209          0.0     1127.0           0.0  3939.0     NaN     Naosura Motled   \n",
       "8475        132.0     3479.0           0.0  3786.0     0.0       Coxan Statch   \n",
       "8485          0.0        0.0           0.0     0.0     0.0       Bath Brakeng   \n",
       "8509          0.0        0.0           0.0     0.0     0.0   Beula Clemondsey   \n",
       "8656          3.0        0.0         668.0     0.0     0.0       Royce Giller   \n",
       "\n",
       "      Transported GroupId GrpPassId Deck Decknum DeckSide  Expenditure  \n",
       "15          False    0012        01  NaN     NaN      NaN        908.0  \n",
       "93           True    0101        01  NaN     NaN      NaN          0.0  \n",
       "103         False    0110        01  NaN     NaN      NaN       5109.0  \n",
       "222         False    0239        01  NaN     NaN      NaN       1048.0  \n",
       "227          True    0244        01  NaN     NaN      NaN          0.0  \n",
       "...           ...     ...       ...  ...     ...      ...          ...  \n",
       "8209        False    8772        02  NaN     NaN      NaN          NaN  \n",
       "8475        False    9057        01  NaN     NaN      NaN       7397.0  \n",
       "8485         True    9069        03  NaN     NaN      NaN          0.0  \n",
       "8509        False    9081        03  NaN     NaN      NaN          0.0  \n",
       "8656         True    9233        01  NaN     NaN      NaN        671.0  \n",
       "\n",
       "[199 rows x 20 columns]"
      ]
     },
     "execution_count": 34,
     "metadata": {},
     "output_type": "execute_result"
    }
   ],
   "source": [
    "train_df[train_df['Cabin'].isnull()]"
   ]
  },
  {
   "cell_type": "code",
   "execution_count": 35,
   "metadata": {},
   "outputs": [],
   "source": [
    "train_df[['Deck','Decknum','DeckSide']] = train_df['Cabin'].str.split('/',expand=True)"
   ]
  },
  {
   "cell_type": "code",
   "execution_count": 36,
   "metadata": {},
   "outputs": [
    {
     "data": {
      "text/plain": [
       "5826    999\n",
       "5825    999\n",
       "4610    999\n",
       "5833    999\n",
       "5834    999\n",
       "       ... \n",
       "8209    NaN\n",
       "8475    NaN\n",
       "8485    NaN\n",
       "8509    NaN\n",
       "8656    NaN\n",
       "Name: Decknum, Length: 8693, dtype: object"
      ]
     },
     "execution_count": 36,
     "metadata": {},
     "output_type": "execute_result"
    }
   ],
   "source": [
    "train_df['Decknum'].sort_values(ascending=False)"
   ]
  },
  {
   "cell_type": "code",
   "execution_count": 38,
   "metadata": {},
   "outputs": [
    {
     "data": {
      "text/html": [
       "<div>\n",
       "<style scoped>\n",
       "    .dataframe tbody tr th:only-of-type {\n",
       "        vertical-align: middle;\n",
       "    }\n",
       "\n",
       "    .dataframe tbody tr th {\n",
       "        vertical-align: top;\n",
       "    }\n",
       "\n",
       "    .dataframe thead th {\n",
       "        text-align: right;\n",
       "    }\n",
       "</style>\n",
       "<table border=\"1\" class=\"dataframe\">\n",
       "  <thead>\n",
       "    <tr style=\"text-align: right;\">\n",
       "      <th></th>\n",
       "      <th>PassengerId</th>\n",
       "      <th>HomePlanet</th>\n",
       "      <th>CryoSleep</th>\n",
       "      <th>Cabin</th>\n",
       "      <th>Destination</th>\n",
       "      <th>Age</th>\n",
       "      <th>VIP</th>\n",
       "      <th>RoomService</th>\n",
       "      <th>FoodCourt</th>\n",
       "      <th>ShoppingMall</th>\n",
       "      <th>Spa</th>\n",
       "      <th>VRDeck</th>\n",
       "      <th>Name</th>\n",
       "      <th>Transported</th>\n",
       "      <th>GroupId</th>\n",
       "      <th>GrpPassId</th>\n",
       "      <th>Deck</th>\n",
       "      <th>Decknum</th>\n",
       "      <th>DeckSide</th>\n",
       "      <th>Expenditure</th>\n",
       "    </tr>\n",
       "  </thead>\n",
       "  <tbody>\n",
       "    <tr>\n",
       "      <th>4610</th>\n",
       "      <td>4912_02</td>\n",
       "      <td>Mars</td>\n",
       "      <td>True</td>\n",
       "      <td>F/999/P</td>\n",
       "      <td>TRAPPIST-1e</td>\n",
       "      <td>15.0</td>\n",
       "      <td>False</td>\n",
       "      <td>0.0</td>\n",
       "      <td>0.0</td>\n",
       "      <td>0.0</td>\n",
       "      <td>0.0</td>\n",
       "      <td>0.0</td>\n",
       "      <td>Bats Bane</td>\n",
       "      <td>True</td>\n",
       "      <td>4912</td>\n",
       "      <td>02</td>\n",
       "      <td>F</td>\n",
       "      <td>999</td>\n",
       "      <td>P</td>\n",
       "      <td>0.0</td>\n",
       "    </tr>\n",
       "    <tr>\n",
       "      <th>4888</th>\n",
       "      <td>5209_01</td>\n",
       "      <td>Earth</td>\n",
       "      <td>False</td>\n",
       "      <td>F/999/S</td>\n",
       "      <td>TRAPPIST-1e</td>\n",
       "      <td>26.0</td>\n",
       "      <td>False</td>\n",
       "      <td>168.0</td>\n",
       "      <td>NaN</td>\n",
       "      <td>382.0</td>\n",
       "      <td>166.0</td>\n",
       "      <td>0.0</td>\n",
       "      <td>Eriky Lambleyoun</td>\n",
       "      <td>True</td>\n",
       "      <td>5209</td>\n",
       "      <td>01</td>\n",
       "      <td>F</td>\n",
       "      <td>999</td>\n",
       "      <td>S</td>\n",
       "      <td>NaN</td>\n",
       "    </tr>\n",
       "    <tr>\n",
       "      <th>5825</th>\n",
       "      <td>6168_01</td>\n",
       "      <td>Earth</td>\n",
       "      <td>True</td>\n",
       "      <td>G/999/S</td>\n",
       "      <td>PSO J318.5-22</td>\n",
       "      <td>16.0</td>\n",
       "      <td>False</td>\n",
       "      <td>0.0</td>\n",
       "      <td>0.0</td>\n",
       "      <td>0.0</td>\n",
       "      <td>0.0</td>\n",
       "      <td>0.0</td>\n",
       "      <td>Karie Gordond</td>\n",
       "      <td>True</td>\n",
       "      <td>6168</td>\n",
       "      <td>01</td>\n",
       "      <td>G</td>\n",
       "      <td>999</td>\n",
       "      <td>S</td>\n",
       "      <td>0.0</td>\n",
       "    </tr>\n",
       "    <tr>\n",
       "      <th>5826</th>\n",
       "      <td>6168_02</td>\n",
       "      <td>Earth</td>\n",
       "      <td>True</td>\n",
       "      <td>G/999/S</td>\n",
       "      <td>55 Cancri e</td>\n",
       "      <td>12.0</td>\n",
       "      <td>False</td>\n",
       "      <td>0.0</td>\n",
       "      <td>0.0</td>\n",
       "      <td>0.0</td>\n",
       "      <td>0.0</td>\n",
       "      <td>0.0</td>\n",
       "      <td>Glenna Gordond</td>\n",
       "      <td>True</td>\n",
       "      <td>6168</td>\n",
       "      <td>02</td>\n",
       "      <td>G</td>\n",
       "      <td>999</td>\n",
       "      <td>S</td>\n",
       "      <td>0.0</td>\n",
       "    </tr>\n",
       "    <tr>\n",
       "      <th>5833</th>\n",
       "      <td>6174_02</td>\n",
       "      <td>Earth</td>\n",
       "      <td>True</td>\n",
       "      <td>G/999/P</td>\n",
       "      <td>PSO J318.5-22</td>\n",
       "      <td>4.0</td>\n",
       "      <td>False</td>\n",
       "      <td>0.0</td>\n",
       "      <td>0.0</td>\n",
       "      <td>0.0</td>\n",
       "      <td>0.0</td>\n",
       "      <td>0.0</td>\n",
       "      <td>Cherry Fisheparks</td>\n",
       "      <td>True</td>\n",
       "      <td>6174</td>\n",
       "      <td>02</td>\n",
       "      <td>G</td>\n",
       "      <td>999</td>\n",
       "      <td>P</td>\n",
       "      <td>0.0</td>\n",
       "    </tr>\n",
       "    <tr>\n",
       "      <th>5834</th>\n",
       "      <td>6174_03</td>\n",
       "      <td>Earth</td>\n",
       "      <td>True</td>\n",
       "      <td>G/999/P</td>\n",
       "      <td>TRAPPIST-1e</td>\n",
       "      <td>NaN</td>\n",
       "      <td>False</td>\n",
       "      <td>0.0</td>\n",
       "      <td>0.0</td>\n",
       "      <td>0.0</td>\n",
       "      <td>0.0</td>\n",
       "      <td>0.0</td>\n",
       "      <td>Anthia Mcbriddley</td>\n",
       "      <td>False</td>\n",
       "      <td>6174</td>\n",
       "      <td>03</td>\n",
       "      <td>G</td>\n",
       "      <td>999</td>\n",
       "      <td>P</td>\n",
       "      <td>0.0</td>\n",
       "    </tr>\n",
       "  </tbody>\n",
       "</table>\n",
       "</div>"
      ],
      "text/plain": [
       "     PassengerId HomePlanet  CryoSleep    Cabin    Destination   Age    VIP  \\\n",
       "4610     4912_02       Mars       True  F/999/P    TRAPPIST-1e  15.0  False   \n",
       "4888     5209_01      Earth      False  F/999/S    TRAPPIST-1e  26.0  False   \n",
       "5825     6168_01      Earth       True  G/999/S  PSO J318.5-22  16.0  False   \n",
       "5826     6168_02      Earth       True  G/999/S    55 Cancri e  12.0  False   \n",
       "5833     6174_02      Earth       True  G/999/P  PSO J318.5-22   4.0  False   \n",
       "5834     6174_03      Earth       True  G/999/P    TRAPPIST-1e   NaN  False   \n",
       "\n",
       "      RoomService  FoodCourt  ShoppingMall    Spa  VRDeck               Name  \\\n",
       "4610          0.0        0.0           0.0    0.0     0.0          Bats Bane   \n",
       "4888        168.0        NaN         382.0  166.0     0.0   Eriky Lambleyoun   \n",
       "5825          0.0        0.0           0.0    0.0     0.0      Karie Gordond   \n",
       "5826          0.0        0.0           0.0    0.0     0.0     Glenna Gordond   \n",
       "5833          0.0        0.0           0.0    0.0     0.0  Cherry Fisheparks   \n",
       "5834          0.0        0.0           0.0    0.0     0.0  Anthia Mcbriddley   \n",
       "\n",
       "      Transported GroupId GrpPassId Deck Decknum DeckSide  Expenditure  \n",
       "4610         True    4912        02    F     999        P          0.0  \n",
       "4888         True    5209        01    F     999        S          NaN  \n",
       "5825         True    6168        01    G     999        S          0.0  \n",
       "5826         True    6168        02    G     999        S          0.0  \n",
       "5833         True    6174        02    G     999        P          0.0  \n",
       "5834        False    6174        03    G     999        P          0.0  "
      ]
     },
     "execution_count": 38,
     "metadata": {},
     "output_type": "execute_result"
    }
   ],
   "source": [
    "train_df[train_df['Decknum'] == '999']"
   ]
  },
  {
   "cell_type": "code",
   "execution_count": 39,
   "metadata": {},
   "outputs": [
    {
     "data": {
      "text/plain": [
       "(8693, 20)"
      ]
     },
     "execution_count": 39,
     "metadata": {},
     "output_type": "execute_result"
    }
   ],
   "source": [
    "train_df.shape\n"
   ]
  },
  {
   "cell_type": "code",
   "execution_count": 40,
   "metadata": {},
   "outputs": [],
   "source": [
    "transported_index = train_df[train_df['Transported'] == True].index"
   ]
  },
  {
   "cell_type": "code",
   "execution_count": 41,
   "metadata": {},
   "outputs": [
    {
     "data": {
      "text/html": [
       "<div>\n",
       "<style scoped>\n",
       "    .dataframe tbody tr th:only-of-type {\n",
       "        vertical-align: middle;\n",
       "    }\n",
       "\n",
       "    .dataframe tbody tr th {\n",
       "        vertical-align: top;\n",
       "    }\n",
       "\n",
       "    .dataframe thead th {\n",
       "        text-align: right;\n",
       "    }\n",
       "</style>\n",
       "<table border=\"1\" class=\"dataframe\">\n",
       "  <thead>\n",
       "    <tr style=\"text-align: right;\">\n",
       "      <th></th>\n",
       "      <th>HomePlanet</th>\n",
       "      <th>Deck</th>\n",
       "      <th>Decknum</th>\n",
       "      <th>DeckSide</th>\n",
       "    </tr>\n",
       "  </thead>\n",
       "  <tbody>\n",
       "    <tr>\n",
       "      <th>1</th>\n",
       "      <td>Earth</td>\n",
       "      <td>F</td>\n",
       "      <td>0</td>\n",
       "      <td>S</td>\n",
       "    </tr>\n",
       "    <tr>\n",
       "      <th>4</th>\n",
       "      <td>Earth</td>\n",
       "      <td>F</td>\n",
       "      <td>1</td>\n",
       "      <td>S</td>\n",
       "    </tr>\n",
       "    <tr>\n",
       "      <th>5</th>\n",
       "      <td>Earth</td>\n",
       "      <td>F</td>\n",
       "      <td>0</td>\n",
       "      <td>P</td>\n",
       "    </tr>\n",
       "    <tr>\n",
       "      <th>6</th>\n",
       "      <td>Earth</td>\n",
       "      <td>F</td>\n",
       "      <td>2</td>\n",
       "      <td>S</td>\n",
       "    </tr>\n",
       "    <tr>\n",
       "      <th>7</th>\n",
       "      <td>Earth</td>\n",
       "      <td>G</td>\n",
       "      <td>0</td>\n",
       "      <td>S</td>\n",
       "    </tr>\n",
       "    <tr>\n",
       "      <th>...</th>\n",
       "      <td>...</td>\n",
       "      <td>...</td>\n",
       "      <td>...</td>\n",
       "      <td>...</td>\n",
       "    </tr>\n",
       "    <tr>\n",
       "      <th>8684</th>\n",
       "      <td>Earth</td>\n",
       "      <td>G</td>\n",
       "      <td>1508</td>\n",
       "      <td>P</td>\n",
       "    </tr>\n",
       "    <tr>\n",
       "      <th>8685</th>\n",
       "      <td>Europa</td>\n",
       "      <td>A</td>\n",
       "      <td>97</td>\n",
       "      <td>P</td>\n",
       "    </tr>\n",
       "    <tr>\n",
       "      <th>8687</th>\n",
       "      <td>Europa</td>\n",
       "      <td>A</td>\n",
       "      <td>97</td>\n",
       "      <td>P</td>\n",
       "    </tr>\n",
       "    <tr>\n",
       "      <th>8690</th>\n",
       "      <td>Earth</td>\n",
       "      <td>G</td>\n",
       "      <td>1500</td>\n",
       "      <td>S</td>\n",
       "    </tr>\n",
       "    <tr>\n",
       "      <th>8692</th>\n",
       "      <td>Europa</td>\n",
       "      <td>E</td>\n",
       "      <td>608</td>\n",
       "      <td>S</td>\n",
       "    </tr>\n",
       "  </tbody>\n",
       "</table>\n",
       "<p>4378 rows × 4 columns</p>\n",
       "</div>"
      ],
      "text/plain": [
       "     HomePlanet Deck Decknum DeckSide\n",
       "1         Earth    F       0        S\n",
       "4         Earth    F       1        S\n",
       "5         Earth    F       0        P\n",
       "6         Earth    F       2        S\n",
       "7         Earth    G       0        S\n",
       "...         ...  ...     ...      ...\n",
       "8684      Earth    G    1508        P\n",
       "8685     Europa    A      97        P\n",
       "8687     Europa    A      97        P\n",
       "8690      Earth    G    1500        S\n",
       "8692     Europa    E     608        S\n",
       "\n",
       "[4378 rows x 4 columns]"
      ]
     },
     "execution_count": 41,
     "metadata": {},
     "output_type": "execute_result"
    }
   ],
   "source": [
    "train_df[['HomePlanet','Deck','Decknum','DeckSide']].loc[transported_index]"
   ]
  },
  {
   "cell_type": "code",
   "execution_count": 42,
   "metadata": {},
   "outputs": [],
   "source": [
    "#1 - Adult\n",
    "#0 - Children\n",
    "child_train_index = train_df[train_df['Age'] <= 12].index\n",
    "train_df['Adult'] = 1\n",
    "train_df['Adult'].loc[child_train_index] = 0"
   ]
  },
  {
   "cell_type": "code",
   "execution_count": 43,
   "metadata": {},
   "outputs": [
    {
     "data": {
      "text/plain": [
       "1    7887\n",
       "0     806\n",
       "Name: Adult, dtype: int64"
      ]
     },
     "execution_count": 43,
     "metadata": {},
     "output_type": "execute_result"
    }
   ],
   "source": [
    "train_df['Adult'].value_counts()"
   ]
  },
  {
   "cell_type": "code",
   "execution_count": 44,
   "metadata": {},
   "outputs": [
    {
     "data": {
      "text/plain": [
       "<matplotlib.axes._subplots.AxesSubplot at 0x7fa72a062f50>"
      ]
     },
     "execution_count": 44,
     "metadata": {},
     "output_type": "execute_result"
    },
    {
     "data": {
      "image/png": "[encoded data removed]",
      "text/plain": [
       "<Figure size 1080x576 with 1 Axes>"
      ]
     },
     "metadata": {
      "needs_background": "light"
     },
     "output_type": "display_data"
    }
   ],
   "source": [
    "plt.figure(figsize=(15,8))\n",
    "sns.countplot(x='HomePlanet',hue='Deck',data=train_df)"
   ]
  },
  {
   "cell_type": "code",
   "execution_count": 45,
   "metadata": {},
   "outputs": [
    {
     "data": {
      "text/plain": [
       "<matplotlib.axes._subplots.AxesSubplot at 0x7fa72b55f790>"
      ]
     },
     "execution_count": 45,
     "metadata": {},
     "output_type": "execute_result"
    },
    {
     "data": {
      "image/png": "[encoded data removed]",
      "text/plain": [
       "<Figure size 1080x576 with 1 Axes>"
      ]
     },
     "metadata": {
      "needs_background": "light"
     },
     "output_type": "display_data"
    }
   ],
   "source": [
    "plt.figure(figsize=(15,8))\n",
    "sns.countplot(x='Destination',hue='Deck',data=train_df)"
   ]
  },
  {
   "cell_type": "code",
   "execution_count": 46,
   "metadata": {},
   "outputs": [
    {
     "data": {
      "text/plain": [
       "G    2553\n",
       "F    1680\n",
       "E     414\n",
       "C       9\n",
       "B       8\n",
       "D       6\n",
       "A       2\n",
       "T       1\n",
       "Name: Deck, dtype: int64"
      ]
     },
     "execution_count": 46,
     "metadata": {},
     "output_type": "execute_result"
    }
   ],
   "source": [
    "#train_sorted[['Deck','Decknum','Deckside']] = train_df[]\n",
    "train_df[train_df['HomePlanet'] == 'Earth']['Deck'].value_counts()"
   ]
  },
  {
   "cell_type": "code",
   "execution_count": 47,
   "metadata": {},
   "outputs": [
    {
     "data": {
      "text/plain": [
       "B    771\n",
       "C    738\n",
       "A    254\n",
       "D    190\n",
       "E    132\n",
       "G      6\n",
       "T      4\n",
       "F      4\n",
       "Name: Deck, dtype: int64"
      ]
     },
     "execution_count": 47,
     "metadata": {},
     "output_type": "execute_result"
    }
   ],
   "source": [
    "train_df[train_df['HomePlanet'] == 'Europa']['Deck'].value_counts()"
   ]
  },
  {
   "cell_type": "code",
   "execution_count": 48,
   "metadata": {},
   "outputs": [
    {
     "data": {
      "text/plain": [
       "F    1110\n",
       "E     330\n",
       "D     282\n",
       "Name: Deck, dtype: int64"
      ]
     },
     "execution_count": 48,
     "metadata": {},
     "output_type": "execute_result"
    }
   ],
   "source": [
    "train_df[train_df['HomePlanet'] == 'Mars']['Deck'].value_counts()"
   ]
  },
  {
   "cell_type": "code",
   "execution_count": 47,
   "metadata": {},
   "outputs": [
    {
     "data": {
      "text/plain": [
       "\"for i in range(len(train_df)):\\n    if pd.isnull(train_df.loc[i,'Cabin']):\\n#        print(train_df.loc[i,'Cabin'])\\n        if (train_df.loc[i,'HomePlanet'] == train_df.loc[i-1,'HomePlanet']):\\n            \\n#            train_df.loc[i,'Cabin'] = train_df.loc[i-1,'Cabin']\\n            \\n            \\n        elif (train_df.loc[i,'Deck'] == train_df.loc[i+1,'Deck']):\\n#            train_df.loc[i,'Cabin'] = train_df.loc[i-1,'Cabin']\\n\""
      ]
     },
     "execution_count": 47,
     "metadata": {},
     "output_type": "execute_result"
    }
   ],
   "source": [
    "\"\"\"for i in range(len(train_df)):\n",
    "    if pd.isnull(train_df.loc[i,'Cabin']):\n",
    "#        print(train_df.loc[i,'Cabin'])\n",
    "        if (train_df.loc[i,'HomePlanet'] == train_df.loc[i-1,'HomePlanet']):\n",
    "            \n",
    "#            train_df.loc[i,'Cabin'] = train_df.loc[i-1,'Cabin']\n",
    "            \n",
    "            \n",
    "        elif (train_df.loc[i,'Deck'] == train_df.loc[i+1,'Deck']):\n",
    "#            train_df.loc[i,'Cabin'] = train_df.loc[i-1,'Cabin']\n",
    "\"\"\""
   ]
  },
  {
   "cell_type": "code",
   "execution_count": 53,
   "metadata": {},
   "outputs": [],
   "source": [
    "train_df.to_csv('data/train_df.csv',index=False)"
   ]
  },
  {
   "cell_type": "code",
   "execution_count": null,
   "metadata": {},
   "outputs": [],
   "source": [
    "\"\"\"train_df.sort_values(by='GroupId',inplace=True)\n",
    "train_df['Family'] = 0\n",
    "for i in range(len(train_df)):\n",
    "    if i > 0:\n",
    "        if (train_df.loc[i,'GroupId'] == train_df.loc[i-1,'GroupId']):\n",
    "            train_df.loc[i,'Family'] = 1\n",
    "            train_df.loc[i+1,'Family'] = 1\n",
    "       \"\"\""
   ]
  },
  {
   "cell_type": "code",
   "execution_count": 166,
   "metadata": {},
   "outputs": [
    {
     "data": {
      "text/plain": [
       "PassengerId       0\n",
       "HomePlanet        0\n",
       "CryoSleep         0\n",
       "Cabin           199\n",
       "Destination     182\n",
       "Age               0\n",
       "VIP             203\n",
       "RoomService       0\n",
       "FoodCourt         0\n",
       "ShoppingMall      0\n",
       "Spa             183\n",
       "VRDeck          188\n",
       "Name            200\n",
       "Transported       0\n",
       "GroupId           0\n",
       "GrpPassId         0\n",
       "Deck            199\n",
       "Decknum         199\n",
       "DeckSide        199\n",
       "Expenditure     908\n",
       "Adult             0\n",
       "Fname           200\n",
       "Lname           200\n",
       "dtype: int64"
      ]
     },
     "execution_count": 166,
     "metadata": {},
     "output_type": "execute_result"
    }
   ],
   "source": [
    "train_df.isnull().sum()"
   ]
  },
  {
   "cell_type": "markdown",
   "metadata": {},
   "source": [
    "#Figure out null values for Destination planet"
   ]
  },
  {
   "cell_type": "code",
   "execution_count": 53,
   "metadata": {},
   "outputs": [
    {
     "data": {
      "text/plain": [
       "Earth     103\n",
       "Mars       42\n",
       "Europa     37\n",
       "Name: HomePlanet, dtype: int64"
      ]
     },
     "execution_count": 53,
     "metadata": {},
     "output_type": "execute_result"
    }
   ],
   "source": [
    "#Figure out HomePlanet for Destination = Null\n",
    "train_df[train_df['Destination'].isnull()]['HomePlanet'].value_counts()"
   ]
  },
  {
   "cell_type": "code",
   "execution_count": 55,
   "metadata": {},
   "outputs": [
    {
     "data": {
      "text/plain": [
       "TRAPPIST-1e      3251\n",
       "PSO J318.5-22     728\n",
       "55 Cancri e       690\n",
       "Name: Destination, dtype: int64"
      ]
     },
     "execution_count": 55,
     "metadata": {},
     "output_type": "execute_result"
    }
   ],
   "source": [
    "train_df[train_df['HomePlanet'] == 'Earth']['Destination'].value_counts()"
   ]
  },
  {
   "cell_type": "code",
   "execution_count": 58,
   "metadata": {},
   "outputs": [
    {
     "data": {
      "text/plain": [
       "Series([], Name: Destination, dtype: int64)"
      ]
     },
     "execution_count": 58,
     "metadata": {},
     "output_type": "execute_result"
    }
   ],
   "source": [
    "train_df[train_df['HomePlanet'] == 'Mars']['Destination'].value_counts()"
   ]
  },
  {
   "cell_type": "code",
   "execution_count": 60,
   "metadata": {},
   "outputs": [
    {
     "data": {
      "text/plain": [
       "TRAPPIST-1e      1189\n",
       "55 Cancri e       917\n",
       "PSO J318.5-22      19\n",
       "Name: Destination, dtype: int64"
      ]
     },
     "execution_count": 60,
     "metadata": {},
     "output_type": "execute_result"
    }
   ],
   "source": [
    "train_df[train_df['HomePlanet'] == 'Europa']['Destination'].value_counts()"
   ]
  },
  {
   "cell_type": "code",
   "execution_count": 168,
   "metadata": {},
   "outputs": [
    {
     "data": {
      "text/plain": [
       "0"
      ]
     },
     "execution_count": 168,
     "metadata": {},
     "output_type": "execute_result"
    }
   ],
   "source": [
    "#Create a new category and assign it to Destination\n",
    "train_df['Destination'].fillna('NullDestPlanet',inplace=True)\n",
    "train_df['Destination'].isna().sum()"
   ]
  },
  {
   "cell_type": "code",
   "execution_count": 63,
   "metadata": {},
   "outputs": [],
   "source": [
    "train_df.to_csv('data/train_df.csv',index=False)"
   ]
  },
  {
   "cell_type": "code",
   "execution_count": 67,
   "metadata": {},
   "outputs": [],
   "source": [
    "train_df[['Fname','Lname']] = train_df['Name'].str.split(' ',expand=True)"
   ]
  },
  {
   "cell_type": "code",
   "execution_count": 109,
   "metadata": {},
   "outputs": [
    {
     "name": "stdout",
     "output_type": "stream",
     "text": [
      "3793\n",
      "1401\n",
      "1744\n"
     ]
    }
   ],
   "source": [
    "earth_lname = train_df[train_df['HomePlanet'] == 'Earth']\n",
    "mars_lname = train_df[train_df['HomePlanet'] == 'Mars']\n",
    "europa_lname = train_df[train_df['HomePlanet'] == 'Europa'] \n",
    "print(len(earth_lname.value_counts()))\n",
    "print(len(mars_lname.value_counts()))\n",
    "print(len(europa_lname.value_counts()))\n",
    "#print(earth_lname.dtype)"
   ]
  },
  {
   "cell_type": "code",
   "execution_count": 107,
   "metadata": {},
   "outputs": [
    {
     "data": {
      "text/plain": [
       "153"
      ]
     },
     "execution_count": 107,
     "metadata": {},
     "output_type": "execute_result"
    }
   ],
   "source": [
    "ea_vals =  earth_lname['Lname'].isin(mars_lname['Lname'])\n",
    "len(ea_vals[ea_vals])"
   ]
  },
  {
   "cell_type": "code",
   "execution_count": 150,
   "metadata": {},
   "outputs": [
    {
     "name": "stdout",
     "output_type": "stream",
     "text": [
      "36\n",
      "0\n"
     ]
    }
   ],
   "source": [
    "#Fill na of Age\n",
    "print(train_df['Age'].isnull().sum())\n",
    "train_df['Age'] = train_df['Age'].fillna(train_df.groupby(['HomePlanet','Destination','Lname'])['Age'].transform('mean'))\n",
    "train_df['Age'] = train_df['Age'].fillna(train_df.groupby(['HomePlanet'])['Age'].transform('mean'))\n",
    "print(train_df['Age'].isnull().sum())"
   ]
  },
  {
   "cell_type": "code",
   "execution_count": 164,
   "metadata": {},
   "outputs": [],
   "source": [
    "#Fill na of expenditure columns\n",
    "train_df['RoomService'] = train_df['RoomService'].fillna(train_df.groupby(['HomePlanet','Destination','Decknum','Lname'])['RoomService'].transform('mean'))\n",
    "train_df['RoomService'] = train_df['RoomService'].fillna(train_df.groupby(['HomePlanet'])['RoomService'].transform('mean'))\n",
    "train_df['FoodCourt'] = train_df['FoodCourt'].fillna(train_df.groupby(['HomePlanet','Destination','Decknum','Lname'])['FoodCourt'].transform('mean'))\n",
    "train_df['FoodCourt'] = train_df['FoodCourt'].fillna(train_df.groupby(['HomePlanet'])['FoodCourt'].transform('mean'))\n",
    "train_df['ShoppingMall'] = train_df['ShoppingMall'].fillna(train_df.groupby(['HomePlanet','Destination','Decknum','Lname'])['ShoppingMall'].transform('mean'))\n",
    "train_df['ShoppingMall'] = train_df['ShoppingMall'].fillna(train_df.groupby(['HomePlanet'])['ShoppingMall'].transform('mean'))"
   ]
  },
  {
   "cell_type": "code",
   "execution_count": 165,
   "metadata": {},
   "outputs": [
    {
     "name": "stdout",
     "output_type": "stream",
     "text": [
      "0\n",
      "0\n",
      "0\n"
     ]
    }
   ],
   "source": [
    "print(train_df['RoomService'].isnull().sum())\n",
    "print(train_df['FoodCourt'].isnull().sum())\n",
    "print(train_df['ShoppingMall'].isnull().sum())"
   ]
  },
  {
   "cell_type": "code",
   "execution_count": 167,
   "metadata": {},
   "outputs": [
    {
     "data": {
      "text/html": [
       "<div>\n",
       "<style scoped>\n",
       "    .dataframe tbody tr th:only-of-type {\n",
       "        vertical-align: middle;\n",
       "    }\n",
       "\n",
       "    .dataframe tbody tr th {\n",
       "        vertical-align: top;\n",
       "    }\n",
       "\n",
       "    .dataframe thead th {\n",
       "        text-align: right;\n",
       "    }\n",
       "</style>\n",
       "<table border=\"1\" class=\"dataframe\">\n",
       "  <thead>\n",
       "    <tr style=\"text-align: right;\">\n",
       "      <th></th>\n",
       "      <th>CryoSleep</th>\n",
       "      <th>Age</th>\n",
       "      <th>RoomService</th>\n",
       "      <th>FoodCourt</th>\n",
       "      <th>ShoppingMall</th>\n",
       "      <th>Spa</th>\n",
       "      <th>VRDeck</th>\n",
       "      <th>Transported</th>\n",
       "      <th>Expenditure</th>\n",
       "      <th>Adult</th>\n",
       "    </tr>\n",
       "  </thead>\n",
       "  <tbody>\n",
       "    <tr>\n",
       "      <th>CryoSleep</th>\n",
       "      <td>1.000000</td>\n",
       "      <td>-0.210257</td>\n",
       "      <td>-0.278374</td>\n",
       "      <td>-0.233966</td>\n",
       "      <td>-0.238065</td>\n",
       "      <td>-0.230409</td>\n",
       "      <td>-0.224255</td>\n",
       "      <td>0.478410</td>\n",
       "      <td>-0.441388</td>\n",
       "      <td>-0.346140</td>\n",
       "    </tr>\n",
       "    <tr>\n",
       "      <th>Age</th>\n",
       "      <td>-0.210257</td>\n",
       "      <td>1.000000</td>\n",
       "      <td>0.066697</td>\n",
       "      <td>0.128019</td>\n",
       "      <td>0.032658</td>\n",
       "      <td>0.122621</td>\n",
       "      <td>0.100714</td>\n",
       "      <td>-0.072712</td>\n",
       "      <td>0.188204</td>\n",
       "      <td>0.539389</td>\n",
       "    </tr>\n",
       "    <tr>\n",
       "      <th>RoomService</th>\n",
       "      <td>-0.278374</td>\n",
       "      <td>0.066697</td>\n",
       "      <td>1.000000</td>\n",
       "      <td>-0.016921</td>\n",
       "      <td>0.053173</td>\n",
       "      <td>0.008983</td>\n",
       "      <td>-0.020115</td>\n",
       "      <td>-0.240094</td>\n",
       "      <td>0.235768</td>\n",
       "      <td>0.105251</td>\n",
       "    </tr>\n",
       "    <tr>\n",
       "      <th>FoodCourt</th>\n",
       "      <td>-0.233966</td>\n",
       "      <td>0.128019</td>\n",
       "      <td>-0.016921</td>\n",
       "      <td>1.000000</td>\n",
       "      <td>-0.013333</td>\n",
       "      <td>0.220840</td>\n",
       "      <td>0.225311</td>\n",
       "      <td>0.048307</td>\n",
       "      <td>0.747214</td>\n",
       "      <td>0.090558</td>\n",
       "    </tr>\n",
       "    <tr>\n",
       "      <th>ShoppingMall</th>\n",
       "      <td>-0.238065</td>\n",
       "      <td>0.032658</td>\n",
       "      <td>0.053173</td>\n",
       "      <td>-0.013333</td>\n",
       "      <td>1.000000</td>\n",
       "      <td>0.013421</td>\n",
       "      <td>-0.007559</td>\n",
       "      <td>0.009708</td>\n",
       "      <td>0.224083</td>\n",
       "      <td>0.091020</td>\n",
       "    </tr>\n",
       "    <tr>\n",
       "      <th>Spa</th>\n",
       "      <td>-0.230409</td>\n",
       "      <td>0.122621</td>\n",
       "      <td>0.008983</td>\n",
       "      <td>0.220840</td>\n",
       "      <td>0.013421</td>\n",
       "      <td>1.000000</td>\n",
       "      <td>0.153821</td>\n",
       "      <td>-0.221131</td>\n",
       "      <td>0.597796</td>\n",
       "      <td>0.087688</td>\n",
       "    </tr>\n",
       "    <tr>\n",
       "      <th>VRDeck</th>\n",
       "      <td>-0.224255</td>\n",
       "      <td>0.100714</td>\n",
       "      <td>-0.020115</td>\n",
       "      <td>0.225311</td>\n",
       "      <td>-0.007559</td>\n",
       "      <td>0.153821</td>\n",
       "      <td>1.000000</td>\n",
       "      <td>-0.207075</td>\n",
       "      <td>0.573186</td>\n",
       "      <td>0.084674</td>\n",
       "    </tr>\n",
       "    <tr>\n",
       "      <th>Transported</th>\n",
       "      <td>0.478410</td>\n",
       "      <td>-0.072712</td>\n",
       "      <td>-0.240094</td>\n",
       "      <td>0.048307</td>\n",
       "      <td>0.009708</td>\n",
       "      <td>-0.221131</td>\n",
       "      <td>-0.207075</td>\n",
       "      <td>1.000000</td>\n",
       "      <td>-0.197671</td>\n",
       "      <td>-0.125399</td>\n",
       "    </tr>\n",
       "    <tr>\n",
       "      <th>Expenditure</th>\n",
       "      <td>-0.441388</td>\n",
       "      <td>0.188204</td>\n",
       "      <td>0.235768</td>\n",
       "      <td>0.747214</td>\n",
       "      <td>0.224083</td>\n",
       "      <td>0.597796</td>\n",
       "      <td>0.573186</td>\n",
       "      <td>-0.197671</td>\n",
       "      <td>1.000000</td>\n",
       "      <td>0.166452</td>\n",
       "    </tr>\n",
       "    <tr>\n",
       "      <th>Adult</th>\n",
       "      <td>-0.346140</td>\n",
       "      <td>0.539389</td>\n",
       "      <td>0.105251</td>\n",
       "      <td>0.090558</td>\n",
       "      <td>0.091020</td>\n",
       "      <td>0.087688</td>\n",
       "      <td>0.084674</td>\n",
       "      <td>-0.125399</td>\n",
       "      <td>0.166452</td>\n",
       "      <td>1.000000</td>\n",
       "    </tr>\n",
       "  </tbody>\n",
       "</table>\n",
       "</div>"
      ],
      "text/plain": [
       "              CryoSleep       Age  RoomService  FoodCourt  ShoppingMall  \\\n",
       "CryoSleep      1.000000 -0.210257    -0.278374  -0.233966     -0.238065   \n",
       "Age           -0.210257  1.000000     0.066697   0.128019      0.032658   \n",
       "RoomService   -0.278374  0.066697     1.000000  -0.016921      0.053173   \n",
       "FoodCourt     -0.233966  0.128019    -0.016921   1.000000     -0.013333   \n",
       "ShoppingMall  -0.238065  0.032658     0.053173  -0.013333      1.000000   \n",
       "Spa           -0.230409  0.122621     0.008983   0.220840      0.013421   \n",
       "VRDeck        -0.224255  0.100714    -0.020115   0.225311     -0.007559   \n",
       "Transported    0.478410 -0.072712    -0.240094   0.048307      0.009708   \n",
       "Expenditure   -0.441388  0.188204     0.235768   0.747214      0.224083   \n",
       "Adult         -0.346140  0.539389     0.105251   0.090558      0.091020   \n",
       "\n",
       "                   Spa    VRDeck  Transported  Expenditure     Adult  \n",
       "CryoSleep    -0.230409 -0.224255     0.478410    -0.441388 -0.346140  \n",
       "Age           0.122621  0.100714    -0.072712     0.188204  0.539389  \n",
       "RoomService   0.008983 -0.020115    -0.240094     0.235768  0.105251  \n",
       "FoodCourt     0.220840  0.225311     0.048307     0.747214  0.090558  \n",
       "ShoppingMall  0.013421 -0.007559     0.009708     0.224083  0.091020  \n",
       "Spa           1.000000  0.153821    -0.221131     0.597796  0.087688  \n",
       "VRDeck        0.153821  1.000000    -0.207075     0.573186  0.084674  \n",
       "Transported  -0.221131 -0.207075     1.000000    -0.197671 -0.125399  \n",
       "Expenditure   0.597796  0.573186    -0.197671     1.000000  0.166452  \n",
       "Adult         0.087688  0.084674    -0.125399     0.166452  1.000000  "
      ]
     },
     "execution_count": 167,
     "metadata": {},
     "output_type": "execute_result"
    }
   ],
   "source": [
    "train_df.corr()"
   ]
  },
  {
   "cell_type": "code",
   "execution_count": null,
   "metadata": {},
   "outputs": [],
   "source": []
  }
 ],
 "metadata": {
  "instance_type": "ml.t3.medium",
  "kernelspec": {
   "display_name": "Python 3 (Data Science)",
   "language": "python",
   "name": "python3__SAGEMAKER_INTERNAL__arn:aws:sagemaker:ap-south-1:394103062818:image/datascience-1.0"
  },
  "language_info": {
   "codemirror_mode": {
    "name": "ipython",
    "version": 3
   },
   "file_extension": ".py",
   "mimetype": "text/x-python",
   "name": "python",
   "nbconvert_exporter": "python",
   "pygments_lexer": "ipython3",
   "version": "3.7.10"
  }
 },
 "nbformat": 4,
 "nbformat_minor": 4
}
