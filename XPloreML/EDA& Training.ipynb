{
 "cells": [
  {
   "cell_type": "code",
   "execution_count": 4,
   "metadata": {},
   "outputs": [],
   "source": [
    "#pip install kaggle"
   ]
  },
  {
   "cell_type": "code",
   "execution_count": 114,
   "metadata": {},
   "outputs": [],
   "source": [
    "from sklearn.feature_selection import mutual_info_classif as mic\n",
    "from sklearn.model_selection import train_test_split\n",
    "from sklearn import metrics\n",
    "import kaggle\n",
    "import pandas as pd\n",
    "import numpy as np\n",
    "import matplotlib.pyplot as plt\n",
    "import seaborn as sns\n",
    "import zipfile\n",
    "%matplotlib inline"
   ]
  },
  {
   "cell_type": "code",
   "execution_count": 7,
   "metadata": {},
   "outputs": [],
   "source": [
    "with zipfile.ZipFile('data/xploreml-gdsc-ml-study-jams.zip') as fref:\n",
    "    fref.extractall('data/')"
   ]
  },
  {
   "cell_type": "code",
   "execution_count": 24,
   "metadata": {},
   "outputs": [
    {
     "data": {
      "text/html": [
       "<div>\n",
       "<style scoped>\n",
       "    .dataframe tbody tr th:only-of-type {\n",
       "        vertical-align: middle;\n",
       "    }\n",
       "\n",
       "    .dataframe tbody tr th {\n",
       "        vertical-align: top;\n",
       "    }\n",
       "\n",
       "    .dataframe thead th {\n",
       "        text-align: right;\n",
       "    }\n",
       "</style>\n",
       "<table border=\"1\" class=\"dataframe\">\n",
       "  <thead>\n",
       "    <tr style=\"text-align: right;\">\n",
       "      <th></th>\n",
       "      <th>Unnamed: 0</th>\n",
       "      <th>TX_ID</th>\n",
       "      <th>SENDER_ACCOUNT_ID</th>\n",
       "      <th>RECEIVER_ACCOUNT_ID</th>\n",
       "      <th>TX_TYPE</th>\n",
       "      <th>TX_AMOUNT</th>\n",
       "      <th>TIMESTAMP</th>\n",
       "      <th>ALERT_ID</th>\n",
       "      <th>IS_FRAUD</th>\n",
       "    </tr>\n",
       "  </thead>\n",
       "  <tbody>\n",
       "    <tr>\n",
       "      <th>0</th>\n",
       "      <td>40088</td>\n",
       "      <td>40089</td>\n",
       "      <td>5417</td>\n",
       "      <td>3924</td>\n",
       "      <td>TRANSFER</td>\n",
       "      <td>539.21</td>\n",
       "      <td>6</td>\n",
       "      <td>-1</td>\n",
       "      <td>False</td>\n",
       "    </tr>\n",
       "    <tr>\n",
       "      <th>1</th>\n",
       "      <td>425743</td>\n",
       "      <td>425744</td>\n",
       "      <td>9772</td>\n",
       "      <td>5642</td>\n",
       "      <td>TRANSFER</td>\n",
       "      <td>176.72</td>\n",
       "      <td>64</td>\n",
       "      <td>-1</td>\n",
       "      <td>False</td>\n",
       "    </tr>\n",
       "    <tr>\n",
       "      <th>2</th>\n",
       "      <td>968569</td>\n",
       "      <td>968570</td>\n",
       "      <td>2485</td>\n",
       "      <td>2426</td>\n",
       "      <td>TRANSFER</td>\n",
       "      <td>525.05</td>\n",
       "      <td>146</td>\n",
       "      <td>-1</td>\n",
       "      <td>False</td>\n",
       "    </tr>\n",
       "  </tbody>\n",
       "</table>\n",
       "</div>"
      ],
      "text/plain": [
       "   Unnamed: 0   TX_ID  SENDER_ACCOUNT_ID  RECEIVER_ACCOUNT_ID   TX_TYPE  \\\n",
       "0       40088   40089               5417                 3924  TRANSFER   \n",
       "1      425743  425744               9772                 5642  TRANSFER   \n",
       "2      968569  968570               2485                 2426  TRANSFER   \n",
       "\n",
       "   TX_AMOUNT  TIMESTAMP  ALERT_ID  IS_FRAUD  \n",
       "0     539.21          6        -1     False  \n",
       "1     176.72         64        -1     False  \n",
       "2     525.05        146        -1     False  "
      ]
     },
     "execution_count": 24,
     "metadata": {},
     "output_type": "execute_result"
    }
   ],
   "source": [
    "train_df = pd.read_csv('data/dataset.csv')\n",
    "train_df.head(3)"
   ]
  },
  {
   "cell_type": "code",
   "execution_count": 3,
   "metadata": {},
   "outputs": [
    {
     "name": "stdout",
     "output_type": "stream",
     "text": [
      "<class 'pandas.core.frame.DataFrame'>\n",
      "RangeIndex: 992425 entries, 0 to 992424\n",
      "Data columns (total 9 columns):\n",
      " #   Column               Non-Null Count   Dtype  \n",
      "---  ------               --------------   -----  \n",
      " 0   Unnamed: 0           992425 non-null  int64  \n",
      " 1   TX_ID                992425 non-null  int64  \n",
      " 2   SENDER_ACCOUNT_ID    992425 non-null  int64  \n",
      " 3   RECEIVER_ACCOUNT_ID  992425 non-null  int64  \n",
      " 4   TX_TYPE              992425 non-null  object \n",
      " 5   TX_AMOUNT            992425 non-null  float64\n",
      " 6   TIMESTAMP            992425 non-null  int64  \n",
      " 7   ALERT_ID             992425 non-null  int64  \n",
      " 8   IS_FRAUD             992425 non-null  bool   \n",
      "dtypes: bool(1), float64(1), int64(6), object(1)\n",
      "memory usage: 61.5+ MB\n"
     ]
    }
   ],
   "source": [
    "train_df.info()"
   ]
  },
  {
   "cell_type": "code",
   "execution_count": 25,
   "metadata": {},
   "outputs": [
    {
     "data": {
      "text/html": [
       "<div>\n",
       "<style scoped>\n",
       "    .dataframe tbody tr th:only-of-type {\n",
       "        vertical-align: middle;\n",
       "    }\n",
       "\n",
       "    .dataframe tbody tr th {\n",
       "        vertical-align: top;\n",
       "    }\n",
       "\n",
       "    .dataframe thead th {\n",
       "        text-align: right;\n",
       "    }\n",
       "</style>\n",
       "<table border=\"1\" class=\"dataframe\">\n",
       "  <thead>\n",
       "    <tr style=\"text-align: right;\">\n",
       "      <th></th>\n",
       "      <th>Unnamed: 0</th>\n",
       "      <th>TX_ID</th>\n",
       "      <th>SENDER_ACCOUNT_ID</th>\n",
       "      <th>RECEIVER_ACCOUNT_ID</th>\n",
       "      <th>TX_AMOUNT</th>\n",
       "      <th>TIMESTAMP</th>\n",
       "      <th>ALERT_ID</th>\n",
       "    </tr>\n",
       "  </thead>\n",
       "  <tbody>\n",
       "    <tr>\n",
       "      <th>count</th>\n",
       "      <td>9.924250e+05</td>\n",
       "      <td>9.924250e+05</td>\n",
       "      <td>992425.000000</td>\n",
       "      <td>992425.000000</td>\n",
       "      <td>9.924250e+05</td>\n",
       "      <td>992425.000000</td>\n",
       "      <td>992425.000000</td>\n",
       "    </tr>\n",
       "    <tr>\n",
       "      <th>mean</th>\n",
       "      <td>6.614218e+05</td>\n",
       "      <td>6.614228e+05</td>\n",
       "      <td>6026.243853</td>\n",
       "      <td>6806.620260</td>\n",
       "      <td>1.162903e+05</td>\n",
       "      <td>99.948883</td>\n",
       "      <td>-0.730260</td>\n",
       "    </tr>\n",
       "    <tr>\n",
       "      <th>std</th>\n",
       "      <td>3.820598e+05</td>\n",
       "      <td>3.820598e+05</td>\n",
       "      <td>2919.135408</td>\n",
       "      <td>2844.379972</td>\n",
       "      <td>1.321370e+06</td>\n",
       "      <td>57.538525</td>\n",
       "      <td>8.549525</td>\n",
       "    </tr>\n",
       "    <tr>\n",
       "      <th>min</th>\n",
       "      <td>0.000000e+00</td>\n",
       "      <td>1.000000e+00</td>\n",
       "      <td>1.000000</td>\n",
       "      <td>3.000000</td>\n",
       "      <td>0.000000e+00</td>\n",
       "      <td>0.000000</td>\n",
       "      <td>-1.000000</td>\n",
       "    </tr>\n",
       "    <tr>\n",
       "      <th>25%</th>\n",
       "      <td>3.304510e+05</td>\n",
       "      <td>3.304520e+05</td>\n",
       "      <td>3611.000000</td>\n",
       "      <td>4671.000000</td>\n",
       "      <td>2.384000e+01</td>\n",
       "      <td>50.000000</td>\n",
       "      <td>-1.000000</td>\n",
       "    </tr>\n",
       "    <tr>\n",
       "      <th>50%</th>\n",
       "      <td>6.614360e+05</td>\n",
       "      <td>6.614370e+05</td>\n",
       "      <td>6533.000000</td>\n",
       "      <td>7587.000000</td>\n",
       "      <td>1.567200e+02</td>\n",
       "      <td>100.000000</td>\n",
       "      <td>-1.000000</td>\n",
       "    </tr>\n",
       "    <tr>\n",
       "      <th>75%</th>\n",
       "      <td>9.921870e+05</td>\n",
       "      <td>9.921880e+05</td>\n",
       "      <td>8690.000000</td>\n",
       "      <td>9355.000000</td>\n",
       "      <td>4.400000e+02</td>\n",
       "      <td>150.000000</td>\n",
       "      <td>-1.000000</td>\n",
       "    </tr>\n",
       "    <tr>\n",
       "      <th>max</th>\n",
       "      <td>1.323233e+06</td>\n",
       "      <td>1.323234e+06</td>\n",
       "      <td>9999.000000</td>\n",
       "      <td>9999.000000</td>\n",
       "      <td>2.147484e+07</td>\n",
       "      <td>199.000000</td>\n",
       "      <td>399.000000</td>\n",
       "    </tr>\n",
       "  </tbody>\n",
       "</table>\n",
       "</div>"
      ],
      "text/plain": [
       "         Unnamed: 0         TX_ID  SENDER_ACCOUNT_ID  RECEIVER_ACCOUNT_ID  \\\n",
       "count  9.924250e+05  9.924250e+05      992425.000000        992425.000000   \n",
       "mean   6.614218e+05  6.614228e+05        6026.243853          6806.620260   \n",
       "std    3.820598e+05  3.820598e+05        2919.135408          2844.379972   \n",
       "min    0.000000e+00  1.000000e+00           1.000000             3.000000   \n",
       "25%    3.304510e+05  3.304520e+05        3611.000000          4671.000000   \n",
       "50%    6.614360e+05  6.614370e+05        6533.000000          7587.000000   \n",
       "75%    9.921870e+05  9.921880e+05        8690.000000          9355.000000   \n",
       "max    1.323233e+06  1.323234e+06        9999.000000          9999.000000   \n",
       "\n",
       "          TX_AMOUNT      TIMESTAMP       ALERT_ID  \n",
       "count  9.924250e+05  992425.000000  992425.000000  \n",
       "mean   1.162903e+05      99.948883      -0.730260  \n",
       "std    1.321370e+06      57.538525       8.549525  \n",
       "min    0.000000e+00       0.000000      -1.000000  \n",
       "25%    2.384000e+01      50.000000      -1.000000  \n",
       "50%    1.567200e+02     100.000000      -1.000000  \n",
       "75%    4.400000e+02     150.000000      -1.000000  \n",
       "max    2.147484e+07     199.000000     399.000000  "
      ]
     },
     "execution_count": 25,
     "metadata": {},
     "output_type": "execute_result"
    }
   ],
   "source": [
    "train_df.describe()"
   ]
  },
  {
   "cell_type": "code",
   "execution_count": 26,
   "metadata": {},
   "outputs": [
    {
     "data": {
      "text/plain": [
       "Unnamed: 0             0\n",
       "TX_ID                  0\n",
       "SENDER_ACCOUNT_ID      0\n",
       "RECEIVER_ACCOUNT_ID    0\n",
       "TX_TYPE                0\n",
       "TX_AMOUNT              0\n",
       "TIMESTAMP              0\n",
       "ALERT_ID               0\n",
       "IS_FRAUD               0\n",
       "dtype: int64"
      ]
     },
     "execution_count": 26,
     "metadata": {},
     "output_type": "execute_result"
    }
   ],
   "source": [
    "train_df.isnull().sum()"
   ]
  },
  {
   "cell_type": "code",
   "execution_count": 62,
   "metadata": {},
   "outputs": [],
   "source": [
    "train_df['TX_TYPE'].value_counts()"
   ]
  },
  {
   "cell_type": "code",
   "execution_count": 69,
   "metadata": {},
   "outputs": [],
   "source": [
    "train_df.drop(labels=['TX_TYPE','Unnamed: 0','TX_ID'],axis=1,inplace=True)"
   ]
  },
  {
   "cell_type": "code",
   "execution_count": 65,
   "metadata": {},
   "outputs": [
    {
     "data": {
      "text/plain": [
       "TX_ID    SENDER_ACCOUNT_ID  RECEIVER_ACCOUNT_ID  TX_AMOUNT   TIMESTAMP  ALERT_ID  IS_FRAUD\n",
       "1        6456               9069                 465.05      0          -1        0           1\n",
       "881815   5724               3663                 119.19      133        -1        0           1\n",
       "881780   3581               7495                 458.94      133        -1        0           1\n",
       "881782   3595               870                  597.29      133        -1        0           1\n",
       "881783   4337               3983                 3312364.25  133        -1        0           1\n",
       "                                                                                             ..\n",
       "440744   3421               9983                 507.32      67         -1        0           1\n",
       "440745   3456               5718                 486.13      67         -1        0           1\n",
       "440746   5469               9961                 507.63      67         -1        0           1\n",
       "440747   783                9884                 154.11      67         -1        0           1\n",
       "1323234  545                2724                 415.57      199        -1        0           1\n",
       "Length: 992425, dtype: int64"
      ]
     },
     "execution_count": 65,
     "metadata": {},
     "output_type": "execute_result"
    }
   ],
   "source": [
    "train_df.value_counts()"
   ]
  },
  {
   "cell_type": "code",
   "execution_count": 70,
   "metadata": {},
   "outputs": [
    {
     "data": {
      "text/html": [
       "<div>\n",
       "<style scoped>\n",
       "    .dataframe tbody tr th:only-of-type {\n",
       "        vertical-align: middle;\n",
       "    }\n",
       "\n",
       "    .dataframe tbody tr th {\n",
       "        vertical-align: top;\n",
       "    }\n",
       "\n",
       "    .dataframe thead th {\n",
       "        text-align: right;\n",
       "    }\n",
       "</style>\n",
       "<table border=\"1\" class=\"dataframe\">\n",
       "  <thead>\n",
       "    <tr style=\"text-align: right;\">\n",
       "      <th></th>\n",
       "      <th>SENDER_ACCOUNT_ID</th>\n",
       "      <th>RECEIVER_ACCOUNT_ID</th>\n",
       "      <th>TX_AMOUNT</th>\n",
       "      <th>TIMESTAMP</th>\n",
       "      <th>ALERT_ID</th>\n",
       "      <th>IS_FRAUD</th>\n",
       "    </tr>\n",
       "  </thead>\n",
       "  <tbody>\n",
       "    <tr>\n",
       "      <th>0</th>\n",
       "      <td>5417</td>\n",
       "      <td>3924</td>\n",
       "      <td>539.21</td>\n",
       "      <td>6</td>\n",
       "      <td>-1</td>\n",
       "      <td>0</td>\n",
       "    </tr>\n",
       "    <tr>\n",
       "      <th>1</th>\n",
       "      <td>9772</td>\n",
       "      <td>5642</td>\n",
       "      <td>176.72</td>\n",
       "      <td>64</td>\n",
       "      <td>-1</td>\n",
       "      <td>0</td>\n",
       "    </tr>\n",
       "    <tr>\n",
       "      <th>2</th>\n",
       "      <td>2485</td>\n",
       "      <td>2426</td>\n",
       "      <td>525.05</td>\n",
       "      <td>146</td>\n",
       "      <td>-1</td>\n",
       "      <td>0</td>\n",
       "    </tr>\n",
       "  </tbody>\n",
       "</table>\n",
       "</div>"
      ],
      "text/plain": [
       "   SENDER_ACCOUNT_ID  RECEIVER_ACCOUNT_ID  TX_AMOUNT  TIMESTAMP  ALERT_ID  \\\n",
       "0               5417                 3924     539.21          6        -1   \n",
       "1               9772                 5642     176.72         64        -1   \n",
       "2               2485                 2426     525.05        146        -1   \n",
       "\n",
       "   IS_FRAUD  \n",
       "0         0  \n",
       "1         0  \n",
       "2         0  "
      ]
     },
     "execution_count": 70,
     "metadata": {},
     "output_type": "execute_result"
    }
   ],
   "source": [
    "train_df.head(3)"
   ]
  },
  {
   "cell_type": "code",
   "execution_count": 32,
   "metadata": {},
   "outputs": [],
   "source": [
    "train_df['IS_FRAUD'].replace({False: 0, True: 1}, inplace=True)"
   ]
  },
  {
   "cell_type": "code",
   "execution_count": 67,
   "metadata": {},
   "outputs": [
    {
     "data": {
      "text/html": [
       "<div>\n",
       "<style scoped>\n",
       "    .dataframe tbody tr th:only-of-type {\n",
       "        vertical-align: middle;\n",
       "    }\n",
       "\n",
       "    .dataframe tbody tr th {\n",
       "        vertical-align: top;\n",
       "    }\n",
       "\n",
       "    .dataframe thead th {\n",
       "        text-align: right;\n",
       "    }\n",
       "</style>\n",
       "<table border=\"1\" class=\"dataframe\">\n",
       "  <thead>\n",
       "    <tr style=\"text-align: right;\">\n",
       "      <th></th>\n",
       "      <th>TX_ID</th>\n",
       "      <th>SENDER_ACCOUNT_ID</th>\n",
       "      <th>RECEIVER_ACCOUNT_ID</th>\n",
       "      <th>TX_AMOUNT</th>\n",
       "      <th>TIMESTAMP</th>\n",
       "      <th>ALERT_ID</th>\n",
       "      <th>IS_FRAUD</th>\n",
       "    </tr>\n",
       "  </thead>\n",
       "  <tbody>\n",
       "    <tr>\n",
       "      <th>0</th>\n",
       "      <td>40089</td>\n",
       "      <td>5417</td>\n",
       "      <td>3924</td>\n",
       "      <td>539.21</td>\n",
       "      <td>6</td>\n",
       "      <td>-1</td>\n",
       "      <td>0</td>\n",
       "    </tr>\n",
       "    <tr>\n",
       "      <th>1</th>\n",
       "      <td>425744</td>\n",
       "      <td>9772</td>\n",
       "      <td>5642</td>\n",
       "      <td>176.72</td>\n",
       "      <td>64</td>\n",
       "      <td>-1</td>\n",
       "      <td>0</td>\n",
       "    </tr>\n",
       "    <tr>\n",
       "      <th>2</th>\n",
       "      <td>968570</td>\n",
       "      <td>2485</td>\n",
       "      <td>2426</td>\n",
       "      <td>525.05</td>\n",
       "      <td>146</td>\n",
       "      <td>-1</td>\n",
       "      <td>0</td>\n",
       "    </tr>\n",
       "  </tbody>\n",
       "</table>\n",
       "</div>"
      ],
      "text/plain": [
       "    TX_ID  SENDER_ACCOUNT_ID  RECEIVER_ACCOUNT_ID  TX_AMOUNT  TIMESTAMP  \\\n",
       "0   40089               5417                 3924     539.21          6   \n",
       "1  425744               9772                 5642     176.72         64   \n",
       "2  968570               2485                 2426     525.05        146   \n",
       "\n",
       "   ALERT_ID  IS_FRAUD  \n",
       "0        -1         0  \n",
       "1        -1         0  \n",
       "2        -1         0  "
      ]
     },
     "execution_count": 67,
     "metadata": {},
     "output_type": "execute_result"
    }
   ],
   "source": [
    "train_df.head(3)"
   ]
  },
  {
   "cell_type": "code",
   "execution_count": 71,
   "metadata": {},
   "outputs": [
    {
     "data": {
      "text/plain": [
       "0    991143\n",
       "1      1282\n",
       "Name: IS_FRAUD, dtype: int64"
      ]
     },
     "execution_count": 71,
     "metadata": {},
     "output_type": "execute_result"
    }
   ],
   "source": [
    "train_df.IS_FRAUD.value_counts()"
   ]
  },
  {
   "cell_type": "code",
   "execution_count": 72,
   "metadata": {},
   "outputs": [
    {
     "data": {
      "text/plain": [
       "<matplotlib.axes._subplots.AxesSubplot at 0x7f5c60014c90>"
      ]
     },
     "execution_count": 72,
     "metadata": {},
     "output_type": "execute_result"
    },
    {
     "data": {
      "image/png": "[encoded data removed]",
      "text/plain": [
       "<Figure size 432x288 with 1 Axes>"
      ]
     },
     "metadata": {},
     "output_type": "display_data"
    }
   ],
   "source": [
    "plt.figure()\n",
    "train_df['IS_FRAUD'].value_counts().plot(kind='pie')"
   ]
  },
  {
   "cell_type": "markdown",
   "metadata": {},
   "source": [
    "## Percent of Fraud cases"
   ]
  },
  {
   "cell_type": "code",
   "execution_count": 73,
   "metadata": {},
   "outputs": [
    {
     "name": "stdout",
     "output_type": "stream",
     "text": [
      "0.1291785273446356\n"
     ]
    }
   ],
   "source": [
    "print((train_df[train_df['IS_FRAUD'] == 1]['IS_FRAUD'].sum())/train_df.shape[0]*100)"
   ]
  },
  {
   "cell_type": "markdown",
   "metadata": {},
   "source": [
    "## Cross Corelation"
   ]
  },
  {
   "cell_type": "code",
   "execution_count": 74,
   "metadata": {},
   "outputs": [
    {
     "data": {
      "image/png": "[encoded data removed]",
      "text/plain": [
       "<Figure size 432x288 with 2 Axes>"
      ]
     },
     "metadata": {
      "needs_background": "light"
     },
     "output_type": "display_data"
    }
   ],
   "source": [
    "\n",
    "data_plot = sns.heatmap(train_df.corr(),cmap=\"YlGnBu\",annot=True)"
   ]
  },
  {
   "cell_type": "markdown",
   "metadata": {},
   "source": [
    "## Calculate mutual information"
   ]
  },
  {
   "cell_type": "code",
   "execution_count": 104,
   "metadata": {},
   "outputs": [],
   "source": [
    "X = train_df.drop('IS_FRAUD',axis=1)\n",
    "y = train_df['IS_FRAUD']"
   ]
  },
  {
   "cell_type": "code",
   "execution_count": 76,
   "metadata": {},
   "outputs": [],
   "source": [
    "mutual_info = mic(train_df.drop('IS_FRAUD',axis=1),train_df['IS_FRAUD'])"
   ]
  },
  {
   "cell_type": "code",
   "execution_count": 68,
   "metadata": {},
   "outputs": [
    {
     "data": {
      "text/plain": [
       "992425"
      ]
     },
     "execution_count": 68,
     "metadata": {},
     "output_type": "execute_result"
    }
   ],
   "source": [
    "len(train_df['TX_ID'].unique())"
   ]
  },
  {
   "cell_type": "code",
   "execution_count": 77,
   "metadata": {},
   "outputs": [
    {
     "data": {
      "text/plain": [
       "array([0.00088711, 0.0010988 , 0.00765197, 0.00116057, 0.19053145])"
      ]
     },
     "execution_count": 77,
     "metadata": {},
     "output_type": "execute_result"
    }
   ],
   "source": [
    "mutual_info"
   ]
  },
  {
   "cell_type": "code",
   "execution_count": 94,
   "metadata": {},
   "outputs": [],
   "source": [
    "cols = ['SENDER_ACCOUNT_ID', 'RECEIVER_ACCOUNT_ID', 'TX_AMOUNT','TIMESTAMP', 'ALERT_ID']"
   ]
  },
  {
   "cell_type": "code",
   "execution_count": 99,
   "metadata": {},
   "outputs": [
    {
     "data": {
      "text/plain": [
       "([0, 1, 2, 3, 4], <a list of 5 Text xticklabel objects>)"
      ]
     },
     "execution_count": 99,
     "metadata": {},
     "output_type": "execute_result"
    },
    {
     "data": {
      "image/png": "[encoded data removed]",
      "text/plain": [
       "<Figure size 432x288 with 1 Axes>"
      ]
     },
     "metadata": {
      "needs_background": "light"
     },
     "output_type": "display_data"
    }
   ],
   "source": [
    "plt.figure()\n",
    "plt.bar(cols,mutual_info,width=0.4)\n",
    "plt.xlabel('Features')\n",
    "plt.ylabel('Mutual Informatin')\n",
    "plt.xticks(rotation=45)"
   ]
  },
  {
   "cell_type": "markdown",
   "metadata": {},
   "source": [
    "As we have unbalanced dataset we could either choose Tree based algorithm or upsample data"
   ]
  },
  {
   "cell_type": "markdown",
   "metadata": {},
   "source": [
    "# Train Model"
   ]
  },
  {
   "cell_type": "code",
   "execution_count": 105,
   "metadata": {},
   "outputs": [],
   "source": [
    "X_train, X_test, y_train, y_test = train_test_split(X, y, test_size=0.33, random_state=42)"
   ]
  },
  {
   "cell_type": "code",
   "execution_count": 107,
   "metadata": {},
   "outputs": [],
   "source": [
    "import xgboost as xgb"
   ]
  },
  {
   "cell_type": "code",
   "execution_count": 109,
   "metadata": {},
   "outputs": [],
   "source": [
    "def train_xgb_model(parameters):\n",
    "    model = xgb.XGBClassifier(n_estimators = parameters['n_estimator'],objective = parameters['objective'], colsample_bytree = parameters['colsample_bytree'], learning_rate = parameters['learning_rate'],\n",
    "                max_depth = parameters['max_depth'], alpha = parameters['alpha'])\n",
    "    return model\n",
    "def fit_model(model,X_train,y_train):\n",
    "    model.fit(X_train,y_train)\n",
    "    \n",
    "def predict_results(model,X):\n",
    "    predicted_values = model.predict(X)\n",
    "    return predicted_values\n",
    "    \n",
    "    \n",
    "def retune_model(model,hyperparameter_grid,X_train,y_train):\n",
    "        \n",
    "        grid_search_cv = RandomizedSearchCV(\n",
    "        estimator=model,\n",
    "        param_distributions=hyperparameter_grid,\n",
    "        cv=10,n_iter=100,\n",
    "        scoring = 'neg_mean_absolute_error',\n",
    "        n_jobs=4,\n",
    "        verbose=5,\n",
    "        return_train_score=True,\n",
    "        random_state=42\n",
    "        )\n",
    "        grid_search_cv.fit(X_train,y_train)\n",
    "        return grid_search_cv\n",
    "    "
   ]
  },
  {
   "cell_type": "code",
   "execution_count": 110,
   "metadata": {},
   "outputs": [],
   "source": [
    "parameters = {'objective' :'reg:squarederror', 'colsample_bytree' : 0.3, 'learning_rate' : 0.1,\n",
    "                'max_depth' : 5, 'alpha' : 10, 'n_estimator' : 10}\n",
    "model_1 = train_xgb_model(parameters)\n",
    "fit_model(model_1,X_train,y_train)\n",
    "model_1.fit(X_train,y_train)\n",
    "y_pred = predict_results(model_1,X_test)"
   ]
  },
  {
   "cell_type": "code",
   "execution_count": 116,
   "metadata": {},
   "outputs": [
    {
     "name": "stdout",
     "output_type": "stream",
     "text": [
      "[[327104      0]\n",
      " [   240    157]]\n"
     ]
    }
   ],
   "source": [
    "print(metrics.confusion_matrix(y_test, y_pred, labels=[0,1]))"
   ]
  },
  {
   "cell_type": "code",
   "execution_count": 120,
   "metadata": {},
   "outputs": [
    {
     "name": "stdout",
     "output_type": "stream",
     "text": [
      "              precision    recall  f1-score   support\n",
      "\n",
      "           0       1.00      1.00      1.00    327104\n",
      "           1       1.00      0.40      0.57       397\n",
      "\n",
      "    accuracy                           1.00    327501\n",
      "   macro avg       1.00      0.70      0.78    327501\n",
      "weighted avg       1.00      1.00      1.00    327501\n",
      "\n"
     ]
    }
   ],
   "source": [
    "print(metrics.classification_report(y_test, y_pred, labels=[0,1]))"
   ]
  },
  {
   "cell_type": "markdown",
   "metadata": {},
   "source": [
    "# Prediction "
   ]
  },
  {
   "cell_type": "code",
   "execution_count": 121,
   "metadata": {},
   "outputs": [
    {
     "data": {
      "text/html": [
       "<div>\n",
       "<style scoped>\n",
       "    .dataframe tbody tr th:only-of-type {\n",
       "        vertical-align: middle;\n",
       "    }\n",
       "\n",
       "    .dataframe tbody tr th {\n",
       "        vertical-align: top;\n",
       "    }\n",
       "\n",
       "    .dataframe thead th {\n",
       "        text-align: right;\n",
       "    }\n",
       "</style>\n",
       "<table border=\"1\" class=\"dataframe\">\n",
       "  <thead>\n",
       "    <tr style=\"text-align: right;\">\n",
       "      <th></th>\n",
       "      <th>TX_ID</th>\n",
       "      <th>SENDER_ACCOUNT_ID</th>\n",
       "      <th>RECEIVER_ACCOUNT_ID</th>\n",
       "      <th>TX_TYPE</th>\n",
       "      <th>TX_AMOUNT</th>\n",
       "      <th>TIMESTAMP</th>\n",
       "      <th>ALERT_ID</th>\n",
       "    </tr>\n",
       "  </thead>\n",
       "  <tbody>\n",
       "    <tr>\n",
       "      <th>0</th>\n",
       "      <td>681873</td>\n",
       "      <td>5752</td>\n",
       "      <td>9735</td>\n",
       "      <td>TRANSFER</td>\n",
       "      <td>153.91</td>\n",
       "      <td>103</td>\n",
       "      <td>-1</td>\n",
       "    </tr>\n",
       "    <tr>\n",
       "      <th>1</th>\n",
       "      <td>692989</td>\n",
       "      <td>7666</td>\n",
       "      <td>9356</td>\n",
       "      <td>TRANSFER</td>\n",
       "      <td>102.33</td>\n",
       "      <td>105</td>\n",
       "      <td>-1</td>\n",
       "    </tr>\n",
       "    <tr>\n",
       "      <th>2</th>\n",
       "      <td>1169181</td>\n",
       "      <td>8632</td>\n",
       "      <td>8029</td>\n",
       "      <td>TRANSFER</td>\n",
       "      <td>197.03</td>\n",
       "      <td>176</td>\n",
       "      <td>-1</td>\n",
       "    </tr>\n",
       "  </tbody>\n",
       "</table>\n",
       "</div>"
      ],
      "text/plain": [
       "     TX_ID  SENDER_ACCOUNT_ID  RECEIVER_ACCOUNT_ID   TX_TYPE  TX_AMOUNT  \\\n",
       "0   681873               5752                 9735  TRANSFER     153.91   \n",
       "1   692989               7666                 9356  TRANSFER     102.33   \n",
       "2  1169181               8632                 8029  TRANSFER     197.03   \n",
       "\n",
       "   TIMESTAMP  ALERT_ID  \n",
       "0        103        -1  \n",
       "1        105        -1  \n",
       "2        176        -1  "
      ]
     },
     "execution_count": 121,
     "metadata": {},
     "output_type": "execute_result"
    }
   ],
   "source": [
    "test_df = pd.read_csv('data/test_data.csv')\n",
    "test_df.head(3)"
   ]
  },
  {
   "cell_type": "code",
   "execution_count": 133,
   "metadata": {},
   "outputs": [],
   "source": [
    "test1 = pd.read_csv('data/test_data.csv')"
   ]
  },
  {
   "cell_type": "code",
   "execution_count": 122,
   "metadata": {},
   "outputs": [],
   "source": [
    "test_df.drop(labels=['TX_TYPE','TX_ID'],axis=1,inplace=True)"
   ]
  },
  {
   "cell_type": "code",
   "execution_count": 124,
   "metadata": {},
   "outputs": [
    {
     "data": {
      "text/html": [
       "<div>\n",
       "<style scoped>\n",
       "    .dataframe tbody tr th:only-of-type {\n",
       "        vertical-align: middle;\n",
       "    }\n",
       "\n",
       "    .dataframe tbody tr th {\n",
       "        vertical-align: top;\n",
       "    }\n",
       "\n",
       "    .dataframe thead th {\n",
       "        text-align: right;\n",
       "    }\n",
       "</style>\n",
       "<table border=\"1\" class=\"dataframe\">\n",
       "  <thead>\n",
       "    <tr style=\"text-align: right;\">\n",
       "      <th></th>\n",
       "      <th>SENDER_ACCOUNT_ID</th>\n",
       "      <th>RECEIVER_ACCOUNT_ID</th>\n",
       "      <th>TX_AMOUNT</th>\n",
       "      <th>TIMESTAMP</th>\n",
       "      <th>ALERT_ID</th>\n",
       "    </tr>\n",
       "  </thead>\n",
       "  <tbody>\n",
       "    <tr>\n",
       "      <th>0</th>\n",
       "      <td>5752</td>\n",
       "      <td>9735</td>\n",
       "      <td>153.91</td>\n",
       "      <td>103</td>\n",
       "      <td>-1</td>\n",
       "    </tr>\n",
       "    <tr>\n",
       "      <th>1</th>\n",
       "      <td>7666</td>\n",
       "      <td>9356</td>\n",
       "      <td>102.33</td>\n",
       "      <td>105</td>\n",
       "      <td>-1</td>\n",
       "    </tr>\n",
       "    <tr>\n",
       "      <th>2</th>\n",
       "      <td>8632</td>\n",
       "      <td>8029</td>\n",
       "      <td>197.03</td>\n",
       "      <td>176</td>\n",
       "      <td>-1</td>\n",
       "    </tr>\n",
       "    <tr>\n",
       "      <th>3</th>\n",
       "      <td>9736</td>\n",
       "      <td>7993</td>\n",
       "      <td>141.24</td>\n",
       "      <td>38</td>\n",
       "      <td>-1</td>\n",
       "    </tr>\n",
       "    <tr>\n",
       "      <th>4</th>\n",
       "      <td>7108</td>\n",
       "      <td>9805</td>\n",
       "      <td>14.78</td>\n",
       "      <td>135</td>\n",
       "      <td>-1</td>\n",
       "    </tr>\n",
       "  </tbody>\n",
       "</table>\n",
       "</div>"
      ],
      "text/plain": [
       "   SENDER_ACCOUNT_ID  RECEIVER_ACCOUNT_ID  TX_AMOUNT  TIMESTAMP  ALERT_ID\n",
       "0               5752                 9735     153.91        103        -1\n",
       "1               7666                 9356     102.33        105        -1\n",
       "2               8632                 8029     197.03        176        -1\n",
       "3               9736                 7993     141.24         38        -1\n",
       "4               7108                 9805      14.78        135        -1"
      ]
     },
     "execution_count": 124,
     "metadata": {},
     "output_type": "execute_result"
    }
   ],
   "source": [
    "test_df.head()"
   ]
  },
  {
   "cell_type": "code",
   "execution_count": 125,
   "metadata": {},
   "outputs": [],
   "source": [
    "y_pred = predict_results(model_1,test_df)"
   ]
  },
  {
   "cell_type": "markdown",
   "metadata": {},
   "source": [
    "# Submission file"
   ]
  },
  {
   "cell_type": "code",
   "execution_count": 126,
   "metadata": {},
   "outputs": [
    {
     "data": {
      "text/html": [
       "<div>\n",
       "<style scoped>\n",
       "    .dataframe tbody tr th:only-of-type {\n",
       "        vertical-align: middle;\n",
       "    }\n",
       "\n",
       "    .dataframe tbody tr th {\n",
       "        vertical-align: top;\n",
       "    }\n",
       "\n",
       "    .dataframe thead th {\n",
       "        text-align: right;\n",
       "    }\n",
       "</style>\n",
       "<table border=\"1\" class=\"dataframe\">\n",
       "  <thead>\n",
       "    <tr style=\"text-align: right;\">\n",
       "      <th></th>\n",
       "      <th>TX_ID</th>\n",
       "      <th>IS_FRAUD</th>\n",
       "    </tr>\n",
       "  </thead>\n",
       "  <tbody>\n",
       "    <tr>\n",
       "      <th>0</th>\n",
       "      <td>681873</td>\n",
       "      <td>False</td>\n",
       "    </tr>\n",
       "    <tr>\n",
       "      <th>1</th>\n",
       "      <td>692989</td>\n",
       "      <td>True</td>\n",
       "    </tr>\n",
       "    <tr>\n",
       "      <th>2</th>\n",
       "      <td>1169181</td>\n",
       "      <td>True</td>\n",
       "    </tr>\n",
       "  </tbody>\n",
       "</table>\n",
       "</div>"
      ],
      "text/plain": [
       "     TX_ID  IS_FRAUD\n",
       "0   681873     False\n",
       "1   692989      True\n",
       "2  1169181      True"
      ]
     },
     "execution_count": 126,
     "metadata": {},
     "output_type": "execute_result"
    }
   ],
   "source": [
    "sub_df = pd.read_csv('data/sample_submission.csv')\n",
    "sub_df.head(3)"
   ]
  },
  {
   "cell_type": "code",
   "execution_count": 131,
   "metadata": {},
   "outputs": [
    {
     "ename": "AttributeError",
     "evalue": "'list' object has no attribute 'replace'",
     "output_type": "error",
     "traceback": [
      "\u001b[0;31m---------------------------------------------------------------------------\u001b[0m",
      "\u001b[0;31mAttributeError\u001b[0m                            Traceback (most recent call last)",
      "\u001b[0;32m<ipython-input-131-fd5a85ad7ce8>\u001b[0m in \u001b[0;36m<module>\u001b[0;34m\u001b[0m\n\u001b[1;32m      1\u001b[0m \u001b[0my_pred\u001b[0m \u001b[0;34m=\u001b[0m \u001b[0mlist\u001b[0m\u001b[0;34m(\u001b[0m\u001b[0my_pred\u001b[0m\u001b[0;34m)\u001b[0m\u001b[0;34m\u001b[0m\u001b[0;34m\u001b[0m\u001b[0m\n\u001b[0;32m----> 2\u001b[0;31m \u001b[0my_pred\u001b[0m\u001b[0;34m.\u001b[0m\u001b[0mreplace\u001b[0m\u001b[0;34m(\u001b[0m\u001b[0;34m{\u001b[0m\u001b[0;36m0\u001b[0m \u001b[0;34m:\u001b[0m \u001b[0;32mFalse\u001b[0m\u001b[0;34m,\u001b[0m\u001b[0;36m1\u001b[0m\u001b[0;34m:\u001b[0m \u001b[0;32mTrue\u001b[0m\u001b[0;34m}\u001b[0m\u001b[0;34m,\u001b[0m \u001b[0minplace\u001b[0m\u001b[0;34m=\u001b[0m\u001b[0;32mTrue\u001b[0m\u001b[0;34m)\u001b[0m\u001b[0;34m\u001b[0m\u001b[0;34m\u001b[0m\u001b[0m\n\u001b[0m",
      "\u001b[0;31mAttributeError\u001b[0m: 'list' object has no attribute 'replace'"
     ]
    }
   ],
   "source": [
    "y_pred = list(y_pred)\n",
    "y_pred.replace({0 : False,1: True}, inplace=True)"
   ]
  },
  {
   "cell_type": "code",
   "execution_count": 134,
   "metadata": {},
   "outputs": [],
   "source": [
    "submission = sub_df.copy()\n",
    "submission['TX_ID'] = test1['TX_ID']\n",
    "submission['IS_FRAUD'] = y_pred"
   ]
  },
  {
   "cell_type": "code",
   "execution_count": 137,
   "metadata": {},
   "outputs": [],
   "source": [
    "submission.to_csv('submission/submission1.csv',index=False)"
   ]
  },
  {
   "cell_type": "code",
   "execution_count": 136,
   "metadata": {},
   "outputs": [
    {
     "data": {
      "text/plain": [
       "'/root/kaggleCompetetions/kaggle-competitions/XPloreML'"
      ]
     },
     "execution_count": 136,
     "metadata": {},
     "output_type": "execute_result"
    }
   ],
   "source": [
    "pwd"
   ]
  },
  {
   "cell_type": "code",
   "execution_count": null,
   "metadata": {},
   "outputs": [],
   "source": []
  }
 ],
 "metadata": {
  "instance_type": "ml.t3.medium",
  "kernelspec": {
   "display_name": "Python 3 (Data Science)",
   "language": "python",
   "name": "python3__SAGEMAKER_INTERNAL__arn:aws:sagemaker:ap-south-1:394103062818:image/datascience-1.0"
  },
  "language_info": {
   "codemirror_mode": {
    "name": "ipython",
    "version": 3
   },
   "file_extension": ".py",
   "mimetype": "text/x-python",
   "name": "python",
   "nbconvert_exporter": "python",
   "pygments_lexer": "ipython3",
   "version": "3.7.10"
  }
 },
 "nbformat": 4,
 "nbformat_minor": 4
}
